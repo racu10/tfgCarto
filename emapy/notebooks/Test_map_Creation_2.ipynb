{
 "cells": [
  {
   "cell_type": "code",
   "execution_count": 4,
   "metadata": {
    "collapsed": true
   },
   "outputs": [],
   "source": [
    "import emapy as epy"
   ]
  },
  {
   "cell_type": "code",
   "execution_count": 5,
   "metadata": {
    "collapsed": false
   },
   "outputs": [],
   "source": [
    "locationAreaBoundingBox = (41.3248770036,2.0520401001,41.4829908452,2.2813796997)\n",
    "\n",
    "T = epy.getDatabase('barris', 'geojson','../data/raw/barris.geojson', '',True, 0, 1, 'neighbourhood')  \n",
    "data = epy.getDatabaseFromOSM('restaurantes', 'amenity', False, True, locationAreaBoundingBox, 'restaurant')\n",
    "\n",
    "map = epy.mapCreation(41.388790,2.158990)\n",
    "cluster = epy.mapWithMarkerCluster(map, \"Restaurants Barcelona\")\n",
    "porc = 0\n",
    "maxP = len(T[1])"
   ]
  },
  {
   "cell_type": "code",
   "execution_count": 6,
   "metadata": {
    "collapsed": false
   },
   "outputs": [],
   "source": [
    "x = 0\n",
    "maxSee = 10\n",
    "porc = 0\n",
    "porcSee = 0\n",
    "\n",
    "print 'Num Restaurantes ', len(data)\n",
    "for d in data:\n",
    "    tmp = d[\"properties\"]          \n",
    "    name = \"\"\n",
    "    if 'name' in tmp:\n",
    "        name = tmp[\"name\"]\n",
    "    epy.mapAddMarkerToCluster(cluster, d[\"geometry\"][0], d[\"geometry\"][1], 'glyphicon-glass', 'green', name)\n",
    "    l = ( porc * 1.0 / (len(data) + maxP) * 1.0) * 100\n",
    "    if l > porcSee:\n",
    "        print l\n",
    "        porcSee += 10\n",
    "    porc += 1\n",
    "    \n",
    "    \n",
    "for barri in T[1]: #all barcelona polygons\n",
    "    epy.mapAddLine(map,T[1][barri], \"#0000FF\", 2.5, 1)\n",
    "    l = ( porc * 1.0 / (len(data) + maxP) * 1.0) * 100\n",
    "    if l > porcSee:\n",
    "        print l\n",
    "    porc += 1\n",
    "    "
   ]
  },
  {
   "cell_type": "code",
   "execution_count": 7,
   "metadata": {
    "collapsed": false
   },
   "outputs": [],
   "source": [
    "epy.mapSave(map, '../reports/maps/mapOfRestaurantsBCN.html')"
   ]
  },
  {
   "cell_type": "code",
   "execution_count": null,
   "metadata": {
    "collapsed": true
   },
   "outputs": [],
   "source": []
  }
 ],
 "metadata": {
  "anaconda-cloud": {},
  "kernelspec": {
   "display_name": "Python [default]",
   "language": "python",
   "name": "python2"
  },
  "language_info": {
   "codemirror_mode": {
    "name": "ipython",
    "version": 2
   },
   "file_extension": ".py",
   "mimetype": "text/x-python",
   "name": "python",
   "nbconvert_exporter": "python",
   "pygments_lexer": "ipython2",
   "version": "2.7.12"
  }
 },
 "nbformat": 4,
 "nbformat_minor": 1
}
