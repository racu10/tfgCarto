{
 "cells": [
  {
   "cell_type": "code",
   "execution_count": 1,
   "metadata": {
    "collapsed": true
   },
   "outputs": [],
   "source": [
    "import functions as fun"
   ]
  },
  {
   "cell_type": "code",
   "execution_count": 2,
   "metadata": {
    "collapsed": false
   },
   "outputs": [],
   "source": [
    "locationAreaBoundingBox = (41.3248770036,2.0520401001,41.4829908452,2.2813796997)\n",
    "\n",
    "T = fun.getDatabase('barris', 'geojson','data/barris.geojson', '',True, 0, 1, 'neighbourhood')  \n",
    "data = fun.getDatabaseFromOSM('restaurantes', 'amenity', False, True, locationAreaBoundingBox, 'restaurant')\n",
    "\n",
    "map = fun.mapCreation(41.388790,2.158990)\n",
    "cluster = fun.mapWithMarkerCluster(map, \"Restaurants Barcelona\")\n",
    "porc = 0\n",
    "maxP = len(T[1])"
   ]
  },
  {
   "cell_type": "code",
   "execution_count": 3,
   "metadata": {
    "collapsed": false
   },
   "outputs": [
    {
     "name": "stdout",
     "output_type": "stream",
     "text": [
      "Num Restaurantes  2464\n",
      "0.0394166338195\n",
      "10.0118249901\n",
      "20.0236499803\n",
      "30.0354749704\n",
      "40.0078833268\n",
      "50.0197083169\n",
      "60.0315333071\n",
      "70.0039416634\n",
      "80.0157666535\n",
      "90.0275916437\n"
     ]
    }
   ],
   "source": [
    "x = 0\n",
    "maxSee = 10\n",
    "porc = 0\n",
    "porcSee = 0\n",
    "\n",
    "print 'Num Restaurantes ', len(data)\n",
    "for d in data:\n",
    "    tmp = d[\"properties\"]          \n",
    "    name = \"\"\n",
    "    if 'name' in tmp:\n",
    "        name = tmp[\"name\"]\n",
    "    fun.mapAddMarkerToCluster(cluster, d[\"geometry\"][0], d[\"geometry\"][1], 'glyphicon-glass', 'green', name)\n",
    "    l = ( porc * 1.0 / (len(data) + maxP) * 1.0) * 100\n",
    "    if l > porcSee:\n",
    "        print l\n",
    "        porcSee += 10\n",
    "    porc += 1\n",
    "    \n",
    "    \n",
    "for barri in T[1]: #all barcelona polygons\n",
    "    fun.mapAddLine(map,T[1][barri], \"#0000FF\", 2.5, 1)\n",
    "    l = ( porc * 1.0 / (len(data) + maxP) * 1.0) * 100\n",
    "    if l > porcSee:\n",
    "        print l\n",
    "    porc += 1\n",
    "    "
   ]
  },
  {
   "cell_type": "code",
   "execution_count": 4,
   "metadata": {
    "collapsed": false
   },
   "outputs": [],
   "source": [
    "fun.saveMap(map, 'mapOfRestaurantsBCN.html')"
   ]
  },
  {
   "cell_type": "code",
   "execution_count": null,
   "metadata": {
    "collapsed": true
   },
   "outputs": [],
   "source": []
  }
 ],
 "metadata": {
  "anaconda-cloud": {},
  "kernelspec": {
   "display_name": "Python [default]",
   "language": "python",
   "name": "python2"
  },
  "language_info": {
   "codemirror_mode": {
    "name": "ipython",
    "version": 2
   },
   "file_extension": ".py",
   "mimetype": "text/x-python",
   "name": "python",
   "nbconvert_exporter": "python",
   "pygments_lexer": "ipython2",
   "version": "2.7.12"
  }
 },
 "nbformat": 4,
 "nbformat_minor": 1
}
