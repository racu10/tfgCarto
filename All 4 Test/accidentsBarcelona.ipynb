{
 "cells": [
  {
   "cell_type": "code",
   "execution_count": 1,
   "metadata": {
    "collapsed": false
   },
   "outputs": [],
   "source": [
    "import pandas as pd\n",
    "import numpy as np\n",
    "import overpy\n",
    "import overpass\n",
    "import folium\n",
    "from osmapi import OsmApi\n",
    "import math\n",
    "import functions as fun\n"
   ]
  },
  {
   "cell_type": "code",
   "execution_count": 2,
   "metadata": {
    "collapsed": false
   },
   "outputs": [],
   "source": [
    "#Functions\n",
    "def getDistance(long1, lat1, long2, lat2): #haversine\n",
    "    r = 6371000 #radio terrestre medio, en metros \n",
    "    c = math.pi/180 #constante para transformar grados en radianes \n",
    "    return 2*r*math.asin(math.sqrt(math.sin(c*(lat2-lat1)/2)**2 + math.cos(c*lat1)*math.cos(c*lat2)*math.sin(c*(long2-long1)/2)**2))\n",
    "\n",
    "def utmToLatLng(zone, easting, northing, northernHemisphere=True):\n",
    "    if not northernHemisphere:\n",
    "        northing = 10000000 - northing\n",
    "\n",
    "    a = 6378137\n",
    "    e = 0.081819191\n",
    "    e1sq = 0.006739497\n",
    "    k0 = 0.9996\n",
    "\n",
    "    arc = northing / k0\n",
    "    mu = arc / (a * (1 - math.pow(e, 2) / 4.0 - 3 * math.pow(e, 4) / 64.0 - 5 * math.pow(e, 6) / 256.0))\n",
    "\n",
    "    ei = (1 - math.pow((1 - e * e), (1 / 2.0))) / (1 + math.pow((1 - e * e), (1 / 2.0)))\n",
    "\n",
    "    ca = 3 * ei / 2 - 27 * math.pow(ei, 3) / 32.0\n",
    "\n",
    "    cb = 21 * math.pow(ei, 2) / 16 - 55 * math.pow(ei, 4) / 32\n",
    "    cc = 151 * math.pow(ei, 3) / 96\n",
    "    cd = 1097 * math.pow(ei, 4) / 512\n",
    "    phi1 = mu + ca * math.sin(2 * mu) + cb * math.sin(4 * mu) + cc * math.sin(6 * mu) + cd * math.sin(8 * mu)\n",
    "\n",
    "    n0 = a / math.pow((1 - math.pow((e * math.sin(phi1)), 2)), (1 / 2.0))\n",
    "\n",
    "    r0 = a * (1 - e * e) / math.pow((1 - math.pow((e * math.sin(phi1)), 2)), (3 / 2.0))\n",
    "    fact1 = n0 * math.tan(phi1) / r0\n",
    "\n",
    "    _a1 = 500000 - easting\n",
    "    dd0 = _a1 / (n0 * k0)\n",
    "    fact2 = dd0 * dd0 / 2\n",
    "\n",
    "    t0 = math.pow(math.tan(phi1), 2)\n",
    "    Q0 = e1sq * math.pow(math.cos(phi1), 2)\n",
    "    fact3 = (5 + 3 * t0 + 10 * Q0 - 4 * Q0 * Q0 - 9 * e1sq) * math.pow(dd0, 4) / 24\n",
    "\n",
    "    fact4 = (61 + 90 * t0 + 298 * Q0 + 45 * t0 * t0 - 252 * e1sq - 3 * Q0 * Q0) * math.pow(dd0, 6) / 720\n",
    "\n",
    "    lof1 = _a1 / (n0 * k0)\n",
    "    lof2 = (1 + 2 * t0 + Q0) * math.pow(dd0, 3) / 6.0\n",
    "    lof3 = (5 - 2 * Q0 + 28 * t0 - 3 * math.pow(Q0, 2) + 8 * e1sq + 24 * math.pow(t0, 2)) * math.pow(dd0, 5) / 120\n",
    "    _a2 = (lof1 - lof2 + lof3) / math.cos(phi1)\n",
    "    _a3 = _a2 * 180 / math.pi\n",
    "\n",
    "    latitude = 180 * (phi1 - fact1 * (fact2 + fact3 + fact4)) / math.pi\n",
    "\n",
    "    if not northernHemisphere:\n",
    "        latitude = -latitude\n",
    "\n",
    "    longitude = ((zone > 0) and (6 * zone - 183.0) or 3.0) - _a3\n",
    "\n",
    "    return (latitude, longitude)\n",
    "#---------------------------------------------------------------\n",
    "\n",
    "\n",
    "def getDataOfCsv(name):\n",
    "    allData = None\n",
    "    try:\n",
    "        allData = pd.read_csv(name, encoding = \"utf8\", sep=';')\n",
    "    except:\n",
    "        allData = pd.read_csv(name, encoding = \"ISO-8859-1\", sep=';')\n",
    "    return allData\n",
    "#---------------------------------------------------------------\n",
    "\n",
    "\n",
    "def getPointOfStreet(streetName, boundingBoxSearch): \n",
    "    apiOverPass = overpass.API()\n",
    "    #sql = '(area[name=\"'+country+'\"]->.b;rel(area.b)[\"name:es\"=\"'+locationArea+'\"];map_to_area -> .a;way[name=\"'+streetName+'\"]'+str(boundingBoxSearch)+';'\n",
    "    \n",
    "    sql = 'way[name~\"'+streetName+'\"]'+str(boundingBoxSearch).encode(\"utf-8\")+';'\n",
    "    \n",
    "    return apiOverPass.Get(sql)\n",
    "#---------------------------------------------------------------\n",
    "\n",
    "\n",
    "def fromPointsOfStretGetBestUbicationMinXY(pointsOfStreet, xtest, ytest):\n",
    "    allCorrd = pointsOfStreet['features']\n",
    "    minD = float('inf')\n",
    "    cx = xtest\n",
    "    cy = ytest\n",
    "    for geo in allCorrd:\n",
    "        geometry = geo[\"geometry\"]\n",
    "\n",
    "        if geometry[\"type\"].upper() == \"LINESTRING\":\n",
    "            for c in geometry[\"coordinates\"]:\n",
    "                y = c[0]\n",
    "                x = c[1]\n",
    "                #txtHtml = \"Coord: \"+ str(c) \n",
    "                #print(x, ' - ', y)\n",
    "                #poppin = folium.Popup(html=folium.element.IFrame(html=txtHtml,width=200,height=50))\n",
    "                #folium.Marker([x,y], icon=folium.Icon(icon='glyphicon-plus', color='pink'),popup = poppin).add_to(markerCluster)\n",
    "                d = getDistance(xtest, ytest, x, y)\n",
    "                #print(d, ' --- ', str(c))\n",
    "                if d < minD:  \n",
    "                    #print(d, ' --- ', str(c))\n",
    "                    cx = x\n",
    "                    cy = y \n",
    "                    minD = d\n",
    "    return cx,cy\n",
    "#---------------------------------------------------------------    \n",
    "    "
   ]
  },
  {
   "cell_type": "code",
   "execution_count": 3,
   "metadata": {
    "collapsed": false
   },
   "outputs": [
    {
     "data": {
      "text/html": [
       "<div>\n",
       "<table border=\"1\" class=\"dataframe\">\n",
       "  <thead>\n",
       "    <tr style=\"text-align: right;\">\n",
       "      <th></th>\n",
       "      <th>Número d'expedient</th>\n",
       "      <th>Codi districte</th>\n",
       "      <th>Nom districte</th>\n",
       "      <th>Codi barri</th>\n",
       "      <th>Nom barri</th>\n",
       "      <th>Codi carrer</th>\n",
       "      <th>Nom carrer</th>\n",
       "      <th>Num postal caption</th>\n",
       "      <th>Descripció dia setmana</th>\n",
       "      <th>Dia setmana</th>\n",
       "      <th>...</th>\n",
       "      <th>Dia de mes</th>\n",
       "      <th>Hora de dia</th>\n",
       "      <th>Descripció torn</th>\n",
       "      <th>Descripció causa vianant</th>\n",
       "      <th>Número de morts</th>\n",
       "      <th>Número de lesionats lleus</th>\n",
       "      <th>Número de lesionats greus</th>\n",
       "      <th>Número de vehicles implicats</th>\n",
       "      <th>Coordenada UTM (Y)</th>\n",
       "      <th>Coordenada UTM (X)</th>\n",
       "    </tr>\n",
       "  </thead>\n",
       "  <tbody>\n",
       "    <tr>\n",
       "      <th>0</th>\n",
       "      <td>2015S005807</td>\n",
       "      <td>-1</td>\n",
       "      <td>Desconegut</td>\n",
       "      <td>-1</td>\n",
       "      <td>Desconegut</td>\n",
       "      <td>-1</td>\n",
       "      <td>Desconegut</td>\n",
       "      <td>Desconegut</td>\n",
       "      <td>Dimarts</td>\n",
       "      <td>Dm</td>\n",
       "      <td>...</td>\n",
       "      <td>28</td>\n",
       "      <td>12</td>\n",
       "      <td>Matí</td>\n",
       "      <td>No és causa del  vianant</td>\n",
       "      <td>0</td>\n",
       "      <td>2</td>\n",
       "      <td>0</td>\n",
       "      <td>2</td>\n",
       "      <td>-1</td>\n",
       "      <td>-1</td>\n",
       "    </tr>\n",
       "    <tr>\n",
       "      <th>1</th>\n",
       "      <td>2015S007685</td>\n",
       "      <td>10</td>\n",
       "      <td>Sant Martí</td>\n",
       "      <td>64</td>\n",
       "      <td>el Camp de l'Arpa del Clot</td>\n",
       "      <td>134801</td>\n",
       "      <td>Freser</td>\n",
       "      <td>0208 0208</td>\n",
       "      <td>Dimarts</td>\n",
       "      <td>Dm</td>\n",
       "      <td>...</td>\n",
       "      <td>13</td>\n",
       "      <td>19</td>\n",
       "      <td>Tarda</td>\n",
       "      <td>Desobeir el senyal del semàfor</td>\n",
       "      <td>0</td>\n",
       "      <td>1</td>\n",
       "      <td>0</td>\n",
       "      <td>1</td>\n",
       "      <td>4585420,58</td>\n",
       "      <td>431779,16</td>\n",
       "    </tr>\n",
       "    <tr>\n",
       "      <th>2</th>\n",
       "      <td>2015S001364</td>\n",
       "      <td>10</td>\n",
       "      <td>Sant Martí</td>\n",
       "      <td>64</td>\n",
       "      <td>el Camp de l'Arpa del Clot</td>\n",
       "      <td>161407</td>\n",
       "      <td>Indústria</td>\n",
       "      <td>0336 0336</td>\n",
       "      <td>Dissabte</td>\n",
       "      <td>Ds</td>\n",
       "      <td>...</td>\n",
       "      <td>21</td>\n",
       "      <td>21</td>\n",
       "      <td>Tarda</td>\n",
       "      <td>No és causa del  vianant</td>\n",
       "      <td>0</td>\n",
       "      <td>1</td>\n",
       "      <td>0</td>\n",
       "      <td>1</td>\n",
       "      <td>4585555,86</td>\n",
       "      <td>431913,65</td>\n",
       "    </tr>\n",
       "  </tbody>\n",
       "</table>\n",
       "<p>3 rows × 24 columns</p>\n",
       "</div>"
      ],
      "text/plain": [
       "  Número d'expedient  Codi districte Nom districte  Codi barri  \\\n",
       "0        2015S005807              -1    Desconegut          -1   \n",
       "1        2015S007685              10    Sant Martí          64   \n",
       "2        2015S001364              10    Sant Martí          64   \n",
       "\n",
       "                    Nom barri  Codi carrer  Nom carrer Num postal caption  \\\n",
       "0                  Desconegut           -1  Desconegut         Desconegut   \n",
       "1  el Camp de l'Arpa del Clot       134801      Freser          0208 0208   \n",
       "2  el Camp de l'Arpa del Clot       161407   Indústria          0336 0336   \n",
       "\n",
       "  Descripció dia setmana Dia setmana         ...         Dia de mes  \\\n",
       "0                Dimarts          Dm         ...                 28   \n",
       "1                Dimarts          Dm         ...                 13   \n",
       "2               Dissabte          Ds         ...                 21   \n",
       "\n",
       "   Hora de dia  Descripció torn        Descripció causa vianant  \\\n",
       "0           12             Matí        No és causa del  vianant   \n",
       "1           19            Tarda  Desobeir el senyal del semàfor   \n",
       "2           21            Tarda        No és causa del  vianant   \n",
       "\n",
       "   Número de morts  Número de lesionats lleus Número de lesionats greus  \\\n",
       "0                0                          2                         0   \n",
       "1                0                          1                         0   \n",
       "2                0                          1                         0   \n",
       "\n",
       "  Número de vehicles implicats  Coordenada UTM (Y)  Coordenada UTM (X)  \n",
       "0                            2                  -1                  -1  \n",
       "1                            1          4585420,58           431779,16  \n",
       "2                            1          4585555,86           431913,65  \n",
       "\n",
       "[3 rows x 24 columns]"
      ]
     },
     "execution_count": 3,
     "metadata": {},
     "output_type": "execute_result"
    }
   ],
   "source": [
    "#Load all data\n",
    "anio = 2015\n",
    "csvFile = 'ACCIDENTS_GU_BCN_' + str(anio) + str('.csv')\n",
    "allData = getDataOfCsv(csvFile)\n",
    "allData[:3]\n",
    "\n"
   ]
  },
  {
   "cell_type": "code",
   "execution_count": 4,
   "metadata": {
    "collapsed": true
   },
   "outputs": [],
   "source": [
    "#Init all variables from location\n",
    "#Barcelona zone = 31\n",
    "zone = 31\n",
    "country = \"España\"\n",
    "locationArea = \"Barcelona\"\n",
    "locationAreaBoundingBox = (41.3248770036,2.0520401001,41.4829908452,2.2813796997)\n",
    "\n"
   ]
  },
  {
   "cell_type": "code",
   "execution_count": 5,
   "metadata": {
    "collapsed": true
   },
   "outputs": [],
   "source": [
    "#CSV style columns detection\n",
    "coordX = allData.columns.size - 1\n",
    "coordY = allData.columns.size - 2\n",
    "colDeath = 18\n",
    "colMinor = 19\n",
    "colSerious = 20\n",
    "\n",
    "colDay = 14 \n",
    "colMonth = 12\n",
    "colYear = 11\n",
    "\n",
    "colStreet = 6\n",
    "\n",
    "\n"
   ]
  },
  {
   "cell_type": "code",
   "execution_count": 6,
   "metadata": {
    "collapsed": true
   },
   "outputs": [],
   "source": [
    "#map creation\n",
    "\n",
    "map = folium.Map(location=[41.388790,2.158990])\n",
    "\n",
    "html=\"add <b>popup</b> here\"\n",
    "iframe = folium.element.IFrame(html=html,width=100,height=100)\n",
    "poppin = folium.Popup(html=\"add <b>popup</b> here\")\n",
    "\n",
    "markerCluster = folium.MarkerCluster(\"Accidents\").add_to(map)\n",
    "clor = 'blue'\n"
   ]
  },
  {
   "cell_type": "code",
   "execution_count": 7,
   "metadata": {
    "collapsed": false
   },
   "outputs": [
    {
     "name": "stdout",
     "output_type": "stream",
     "text": [
      "{\"features\": [{\"geometry\": {\"coordinates\": [[2.1790345, 41.4095586], [2.1791108, 41.4096703], [2.1793361, 41.4099997], [2.1796897, 41.410599], [2.180182, 41.4114343], [2.1806788, 41.4122146], [2.1808333, 41.41251], [2.1808951, 41.4126281]], \"type\": \"LineString\"}, \"id\": 62071238, \"properties\": {\"highway\": \"secondary\", \"name\": \"Carrer del Freser\", \"oneway\": \"yes\"}, \"type\": \"Feature\"}, {\"geometry\": {\"coordinates\": [[2.181277, 41.4132935], [2.181334, 41.4133727], [2.1813881, 41.4134343], [2.1814628, 41.4135176], [2.1815316, 41.4136016], [2.1815916, 41.4136908], [2.1816859, 41.4139039], [2.1818462, 41.4142828], [2.1819661, 41.4145725], [2.1819887, 41.4146175], [2.1821047, 41.4148389], [2.1824011, 41.4154046], [2.1826307, 41.4158813]], \"type\": \"LineString\"}, \"id\": 62071242, \"properties\": {\"access\": \"yes\", \"highway\": \"tertiary\", \"name\": \"Carrer del Freser\", \"oneway\": \"yes\"}, \"type\": \"Feature\"}, {\"geometry\": {\"coordinates\": [[2.1826307, 41.4158813], [2.1829873, 41.4165226], [2.1832267, 41.4169755], [2.1835923, 41.4177629]], \"type\": \"LineString\"}, \"id\": 116405725, \"properties\": {\"highway\": \"tertiary\", \"name\": \"Carrer del Freser\"}, \"type\": \"Feature\"}, {\"geometry\": {\"coordinates\": [[2.1808951, 41.4126281], [2.1812573, 41.4132536], [2.181277, 41.4132935]], \"type\": \"LineString\"}, \"id\": 450345048, \"properties\": {\"access\": \"yes\", \"highway\": \"secondary\", \"name\": \"Carrer del Freser\", \"oneway\": \"yes\"}, \"type\": \"Feature\"}], \"type\": \"FeatureCollection\"} \n",
      "\n",
      "\n",
      "\n",
      "[{'geometry': [[41.4095586, 2.1790345], [41.4096703, 2.1791108], [41.4099997, 2.1793361], [41.410599, 2.1796897], [41.4114343, 2.180182], [41.4122146, 2.1806788], [41.41251, 2.1808333], [41.4126281, 2.1808951]], 'type': 'LineString', 'properties': {u'name': u'Carrer del Freser', u'highway': u'secondary', u'oneway': u'yes'}}, {'geometry': [[41.4132935, 2.181277], [41.4133727, 2.181334], [41.4134343, 2.1813881], [41.4135176, 2.1814628], [41.4136016, 2.1815316], [41.4136908, 2.1815916], [41.4139039, 2.1816859], [41.4142828, 2.1818462], [41.4145725, 2.1819661], [41.4146175, 2.1819887], [41.4148389, 2.1821047], [41.4154046, 2.1824011], [41.4158813, 2.1826307]], 'type': 'LineString', 'properties': {u'access': u'yes', u'name': u'Carrer del Freser', u'highway': u'tertiary', u'oneway': u'yes'}}, {'geometry': [[41.4158813, 2.1826307], [41.4165226, 2.1829873], [41.4169755, 2.1832267], [41.4177629, 2.1835923]], 'type': 'LineString', 'properties': {u'name': u'Carrer del Freser', u'highway': u'tertiary'}}, {'geometry': [[41.4126281, 2.1808951], [41.4132536, 2.1812573], [41.4132935, 2.181277]], 'type': 'LineString', 'properties': {u'access': u'yes', u'name': u'Carrer del Freser', u'highway': u'secondary', u'oneway': u'yes'}}] \n",
      "\n",
      "\n",
      "{\"features\": [{\"geometry\": {\"coordinates\": [[2.1650974, 41.4025315], [2.1651975, 41.402609], [2.1652776, 41.402664], [2.1654394, 41.4027851]], \"type\": \"LineString\"}, \"id\": 4776840, \"properties\": {\"highway\": \"secondary_link\", \"name\": \"Carrer de la Ind\\u00fastria\", \"oneway\": \"yes\"}, \"type\": \"Feature\"}, {\"geometry\": {\"coordinates\": [[2.2459482, 41.4443498], [2.245462, 41.4438733], [2.2453153, 41.4437232], [2.2447269, 41.4431633], [2.243896, 41.4423554], [2.2433356, 41.4418282], [2.242916, 41.4414387], [2.2427083, 41.4412403], [2.242187, 41.4407348], [2.2419085, 41.440464], [2.2415233, 41.4400909]], \"type\": \"LineString\"}, \"id\": 27489169, \"properties\": {\"highway\": \"residential\", \"name\": \"Carrer de la Ind\\u00fastria\", \"oneway\": \"no\"}, \"type\": \"Feature\"}, {\"geometry\": {\"coordinates\": [[2.2415233, 41.4400909], [2.2409816, 41.4395815], [2.2405474, 41.4391615], [2.2402195, 41.4388466], [2.2399529, 41.4385907]], \"type\": \"LineString\"}, \"id\": 27642114, \"properties\": {\"highway\": \"residential\", \"name\": \"Carrer de la Ind\\u00fastria\", \"oneway\": \"no\"}, \"type\": \"Feature\"}, {\"geometry\": {\"coordinates\": [[2.0828218, 41.4753576], [2.0830414, 41.4750899], [2.0832956, 41.47478], [2.0836203, 41.4743348]], \"type\": \"LineString\"}, \"id\": 28038546, \"properties\": {\"highway\": \"residential\", \"maxspeed\": \"20\", \"name\": \"Carrer de la Ind\\u00fastria\", \"oneway\": \"yes\"}, \"type\": \"Feature\"}, {\"geometry\": {\"coordinates\": [[2.0706045, 41.3677672], [2.069948, 41.3674188], [2.0694757, 41.3671566], [2.0688166, 41.3668225], [2.0677439, 41.3662371], [2.066628, 41.3656174], [2.0657155, 41.3651288], [2.0648272, 41.3646503]], \"type\": \"LineString\"}, \"id\": 42823836, \"properties\": {\"cycleway\": \"no\", \"highway\": \"residential\", \"name\": \"Carrer de la Ind\\u00fastria\", \"oneway\": \"-1\"}, \"type\": \"Feature\"}, {\"geometry\": {\"coordinates\": [[2.1704522, 41.4076715], [2.1707232, 41.4079362], [2.1709473, 41.4080233], [2.1711248, 41.4080084], [2.1716903, 41.4076309], [2.1712669, 41.4073406], [2.1709171, 41.4073176], [2.1704522, 41.4076715]], \"type\": \"LineString\"}, \"id\": 48878543, \"properties\": {\"landuse\": \"recreation_ground\", \"name\": \"Jardins de la Ind\\u00fastria\"}, \"type\": \"Feature\"}, {\"geometry\": {\"coordinates\": [[2.2399529, 41.4385907], [2.239431, 41.4380951], [2.2383984, 41.4371143]], \"type\": \"LineString\"}, \"id\": 115826833, \"properties\": {\"bridge\": \"yes\", \"highway\": \"residential\", \"name\": \"Carrer de la Ind\\u00fastria\", \"oneway\": \"no\"}, \"type\": \"Feature\"}, {\"geometry\": {\"coordinates\": [[2.2383984, 41.4371143], [2.2371449, 41.4358732], [2.236574, 41.4353451], [2.2365131, 41.4352787], [2.2359966, 41.43477], [2.2354253, 41.4342498], [2.2349609, 41.4337734], [2.2344593, 41.4332959], [2.2318312, 41.4307659]], \"type\": \"LineString\"}, \"id\": 115826834, \"properties\": {\"highway\": \"residential\", \"name\": \"Carrer de la Ind\\u00fastria\", \"oneway\": \"yes\"}, \"type\": \"Feature\"}, {\"geometry\": {\"coordinates\": [[2.1808325, 41.4145383], [2.181337, 41.4149241], [2.1816332, 41.4151237], [2.1821492, 41.4155009], [2.1826307, 41.4158813], [2.1832362, 41.4163295], [2.1838423, 41.4167168], [2.1844188, 41.4171427]], \"type\": \"LineString\"}, \"id\": 140001509, \"properties\": {\"highway\": \"tertiary\", \"name\": \"Carrer de la Ind\\u00fastria\", \"oneway\": \"yes\"}, \"type\": \"Feature\"}, {\"geometry\": {\"coordinates\": [[2.1654394, 41.4027851], [2.1658597, 41.4030988], [2.1664113, 41.4035308], [2.1669883, 41.4039648], [2.1675024, 41.4043601], [2.1681091, 41.4048134], [2.168649, 41.4052168], [2.169551, 41.4058774], [2.1697885, 41.4060513], [2.1700255, 41.4062238], [2.170918, 41.4068733], [2.1711085, 41.407012], [2.1713392, 41.4071839], [2.1718296, 41.4075491], [2.1719612, 41.4076471], [2.1721843, 41.4078132]], \"type\": \"LineString\"}, \"id\": 140001510, \"properties\": {\"highway\": \"secondary\", \"name\": \"Carrer de la Ind\\u00fastria\", \"oneway\": \"yes\"}, \"type\": \"Feature\"}, {\"geometry\": {\"coordinates\": [[2.1901331, 41.4213892], [2.1889546, 41.4205314]], \"type\": \"LineString\"}, \"id\": 177187395, \"properties\": {\"highway\": \"residential\", \"name\": \"Carrer de la Ind\\u00fastria\", \"oneway\": \"yes\"}, \"type\": \"Feature\"}, {\"geometry\": {\"coordinates\": [[2.2358245, 41.4357883], [2.2360209, 41.4356451], [2.2365131, 41.4352787]], \"type\": \"LineString\"}, \"id\": 206258700, \"properties\": {\"highway\": \"residential\", \"name\": \"Carrer\\u00f3 de la Ind\\u00fastria\"}, \"type\": \"Feature\"}, {\"geometry\": {\"coordinates\": [[2.1798863, 41.4138138], [2.1808325, 41.4145383]], \"type\": \"LineString\"}, \"id\": 237549918, \"properties\": {\"highway\": \"secondary\", \"name\": \"Carrer de la Ind\\u00fastria\", \"oneway\": \"yes\"}, \"type\": \"Feature\"}, {\"geometry\": {\"coordinates\": [[2.1732647, 41.4086216], [2.1734828, 41.4087848], [2.1741912, 41.4093151], [2.1743879, 41.4094623], [2.1746814, 41.4096826], [2.1752776, 41.4101301], [2.175486, 41.4102865], [2.1757067, 41.410462], [2.175848, 41.4105743], [2.1759677, 41.4106695], [2.1760309, 41.4107198], [2.1764017, 41.4110146], [2.1765987, 41.4111712]], \"type\": \"LineString\"}, \"id\": 237566143, \"properties\": {\"highway\": \"secondary\", \"name\": \"Carrer de la Ind\\u00fastria\", \"oneway\": \"yes\"}, \"type\": \"Feature\"}, {\"geometry\": {\"coordinates\": [[2.1765987, 41.4111712], [2.1768045, 41.4113351], [2.1777352, 41.4120801]], \"type\": \"LineString\"}, \"id\": 237912798, \"properties\": {\"highway\": \"secondary\", \"name\": \"Carrer de la Ind\\u00fastria\", \"oneway\": \"yes\"}, \"type\": \"Feature\"}, {\"geometry\": {\"coordinates\": [[2.1777352, 41.4120801], [2.1780832, 41.4123623], [2.178283, 41.4125317], [2.1784391, 41.4126563], [2.1787557, 41.4129239], [2.1791199, 41.4131966], [2.1794168, 41.413428], [2.1798863, 41.4138138]], \"type\": \"LineString\"}, \"id\": 237912799, \"properties\": {\"highway\": \"secondary\", \"name\": \"Carrer de la Ind\\u00fastria\", \"oneway\": \"yes\"}, \"type\": \"Feature\"}, {\"geometry\": {\"coordinates\": [[2.1721843, 41.4078132], [2.1723919, 41.4079686], [2.1730681, 41.4084745], [2.1732647, 41.4086216]], \"type\": \"LineString\"}, \"id\": 251684608, \"properties\": {\"highway\": \"secondary\", \"name\": \"Carrer de la Ind\\u00fastria\", \"oneway\": \"yes\"}, \"type\": \"Feature\"}, {\"geometry\": {\"coordinates\": [[2.1844188, 41.4171427], [2.1854026, 41.4178383], [2.1853949, 41.4181089]], \"type\": \"LineString\"}, \"id\": 251749490, \"properties\": {\"highway\": \"living_street\", \"name\": \"Carrer de la Ind\\u00fastria\", \"oneway\": \"yes\"}, \"type\": \"Feature\"}, {\"geometry\": {\"coordinates\": [[2.0836203, 41.4743348], [2.0841033, 41.4737091]], \"type\": \"LineString\"}, \"id\": 387152511, \"properties\": {\"highway\": \"pedestrian\", \"name\": \"Carrer de la Ind\\u00fastria\"}, \"type\": \"Feature\"}, {\"geometry\": {\"coordinates\": [[2.1788751, 41.412332], [2.1784391, 41.4126563]], \"type\": \"LineString\"}, \"id\": 426996075, \"properties\": {\"highway\": \"pedestrian\", \"name\": \"Passatge Ind\\u00fastria Lletra C\"}, \"type\": \"Feature\"}, {\"geometry\": {\"coordinates\": [[2.1641679, 41.4017967], [2.1650974, 41.4025315]], \"type\": \"LineString\"}, \"id\": 450282541, \"properties\": {\"highway\": \"residential\", \"name\": \"Carrer de la Ind\\u00fastria\", \"oneway\": \"yes\"}, \"type\": \"Feature\"}], \"type\": \"FeatureCollection\"} \n",
      "\n",
      "\n",
      "\n",
      "[{'geometry': [[41.4025315, 2.1650974], [41.402609, 2.1651975], [41.402664, 2.1652776], [41.4027851, 2.1654394]], 'type': 'LineString', 'properties': {u'name': u'Carrer de la Ind\\xfastria', u'highway': u'secondary_link', u'oneway': u'yes'}}, {'geometry': [[41.4443498, 2.2459482], [41.4438733, 2.245462], [41.4437232, 2.2453153], [41.4431633, 2.2447269], [41.4423554, 2.243896], [41.4418282, 2.2433356], [41.4414387, 2.242916], [41.4412403, 2.2427083], [41.4407348, 2.242187], [41.440464, 2.2419085], [41.4400909, 2.2415233]], 'type': 'LineString', 'properties': {u'name': u'Carrer de la Ind\\xfastria', u'highway': u'residential', u'oneway': u'no'}}, {'geometry': [[41.4400909, 2.2415233], [41.4395815, 2.2409816], [41.4391615, 2.2405474], [41.4388466, 2.2402195], [41.4385907, 2.2399529]], 'type': 'LineString', 'properties': {u'name': u'Carrer de la Ind\\xfastria', u'highway': u'residential', u'oneway': u'no'}}, {'geometry': [[41.4753576, 2.0828218], [41.4750899, 2.0830414], [41.47478, 2.0832956], [41.4743348, 2.0836203]], 'type': 'LineString', 'properties': {u'maxspeed': u'20', u'name': u'Carrer de la Ind\\xfastria', u'highway': u'residential', u'oneway': u'yes'}}, {'geometry': [[41.3677672, 2.0706045], [41.3674188, 2.069948], [41.3671566, 2.0694757], [41.3668225, 2.0688166], [41.3662371, 2.0677439], [41.3656174, 2.066628], [41.3651288, 2.0657155], [41.3646503, 2.0648272]], 'type': 'LineString', 'properties': {u'oneway': u'-1', u'name': u'Carrer de la Ind\\xfastria', u'highway': u'residential', u'cycleway': u'no'}}, {'geometry': [[41.4076715, 2.1704522], [41.4079362, 2.1707232], [41.4080233, 2.1709473], [41.4080084, 2.1711248], [41.4076309, 2.1716903], [41.4073406, 2.1712669], [41.4073176, 2.1709171], [41.4076715, 2.1704522]], 'type': 'LineString', 'properties': {u'landuse': u'recreation_ground', u'name': u'Jardins de la Ind\\xfastria'}}, {'geometry': [[41.4385907, 2.2399529], [41.4380951, 2.239431], [41.4371143, 2.2383984]], 'type': 'LineString', 'properties': {u'bridge': u'yes', u'name': u'Carrer de la Ind\\xfastria', u'highway': u'residential', u'oneway': u'no'}}, {'geometry': [[41.4371143, 2.2383984], [41.4358732, 2.2371449], [41.4353451, 2.236574], [41.4352787, 2.2365131], [41.43477, 2.2359966], [41.4342498, 2.2354253], [41.4337734, 2.2349609], [41.4332959, 2.2344593], [41.4307659, 2.2318312]], 'type': 'LineString', 'properties': {u'name': u'Carrer de la Ind\\xfastria', u'highway': u'residential', u'oneway': u'yes'}}, {'geometry': [[41.4145383, 2.1808325], [41.4149241, 2.181337], [41.4151237, 2.1816332], [41.4155009, 2.1821492], [41.4158813, 2.1826307], [41.4163295, 2.1832362], [41.4167168, 2.1838423], [41.4171427, 2.1844188]], 'type': 'LineString', 'properties': {u'name': u'Carrer de la Ind\\xfastria', u'highway': u'tertiary', u'oneway': u'yes'}}, {'geometry': [[41.4027851, 2.1654394], [41.4030988, 2.1658597], [41.4035308, 2.1664113], [41.4039648, 2.1669883], [41.4043601, 2.1675024], [41.4048134, 2.1681091], [41.4052168, 2.168649], [41.4058774, 2.169551], [41.4060513, 2.1697885], [41.4062238, 2.1700255], [41.4068733, 2.170918], [41.407012, 2.1711085], [41.4071839, 2.1713392], [41.4075491, 2.1718296], [41.4076471, 2.1719612], [41.4078132, 2.1721843]], 'type': 'LineString', 'properties': {u'name': u'Carrer de la Ind\\xfastria', u'highway': u'secondary', u'oneway': u'yes'}}, {'geometry': [[41.4213892, 2.1901331], [41.4205314, 2.1889546]], 'type': 'LineString', 'properties': {u'name': u'Carrer de la Ind\\xfastria', u'highway': u'residential', u'oneway': u'yes'}}, {'geometry': [[41.4357883, 2.2358245], [41.4356451, 2.2360209], [41.4352787, 2.2365131]], 'type': 'LineString', 'properties': {u'name': u'Carrer\\xf3 de la Ind\\xfastria', u'highway': u'residential'}}, {'geometry': [[41.4138138, 2.1798863], [41.4145383, 2.1808325]], 'type': 'LineString', 'properties': {u'name': u'Carrer de la Ind\\xfastria', u'highway': u'secondary', u'oneway': u'yes'}}, {'geometry': [[41.4086216, 2.1732647], [41.4087848, 2.1734828], [41.4093151, 2.1741912], [41.4094623, 2.1743879], [41.4096826, 2.1746814], [41.4101301, 2.1752776], [41.4102865, 2.175486], [41.410462, 2.1757067], [41.4105743, 2.175848], [41.4106695, 2.1759677], [41.4107198, 2.1760309], [41.4110146, 2.1764017], [41.4111712, 2.1765987]], 'type': 'LineString', 'properties': {u'name': u'Carrer de la Ind\\xfastria', u'highway': u'secondary', u'oneway': u'yes'}}, {'geometry': [[41.4111712, 2.1765987], [41.4113351, 2.1768045], [41.4120801, 2.1777352]], 'type': 'LineString', 'properties': {u'name': u'Carrer de la Ind\\xfastria', u'highway': u'secondary', u'oneway': u'yes'}}, {'geometry': [[41.4120801, 2.1777352], [41.4123623, 2.1780832], [41.4125317, 2.178283], [41.4126563, 2.1784391], [41.4129239, 2.1787557], [41.4131966, 2.1791199], [41.413428, 2.1794168], [41.4138138, 2.1798863]], 'type': 'LineString', 'properties': {u'name': u'Carrer de la Ind\\xfastria', u'highway': u'secondary', u'oneway': u'yes'}}, {'geometry': [[41.4078132, 2.1721843], [41.4079686, 2.1723919], [41.4084745, 2.1730681], [41.4086216, 2.1732647]], 'type': 'LineString', 'properties': {u'name': u'Carrer de la Ind\\xfastria', u'highway': u'secondary', u'oneway': u'yes'}}, {'geometry': [[41.4171427, 2.1844188], [41.4178383, 2.1854026], [41.4181089, 2.1853949]], 'type': 'LineString', 'properties': {u'name': u'Carrer de la Ind\\xfastria', u'highway': u'living_street', u'oneway': u'yes'}}, {'geometry': [[41.4743348, 2.0836203], [41.4737091, 2.0841033]], 'type': 'LineString', 'properties': {u'name': u'Carrer de la Ind\\xfastria', u'highway': u'pedestrian'}}, {'geometry': [[41.412332, 2.1788751], [41.4126563, 2.1784391]], 'type': 'LineString', 'properties': {u'name': u'Passatge Ind\\xfastria Lletra C', u'highway': u'pedestrian'}}, {'geometry': [[41.4017967, 2.1641679], [41.4025315, 2.1650974]], 'type': 'LineString', 'properties': {u'name': u'Carrer de la Ind\\xfastria', u'highway': u'residential', u'oneway': u'yes'}}] \n",
      "\n",
      "\n"
     ]
    }
   ],
   "source": [
    "\n",
    "i = 0\n",
    "prc = 0.0\n",
    "tama = len(allData)\n",
    "for d in allData[:3].iterrows():\n",
    "    if d[1][1] != -1: #comprovacion invalid data\n",
    "        X = float(d[1][coordX].replace(',','.'))\n",
    "        Y = float(d[1][coordY].replace(',','.'))    \n",
    "        l = utmToLatLng(zone,X,Y)  \n",
    "        #print(\"Original: \", str(l))\n",
    "        #icon=folium.Icon(icon='glyphicon-plus')\n",
    "        #icon=folium.Icon(color='black')\n",
    "        \n",
    "        pointsLocat = getPointOfStreet(d[1][colStreet].encode(\"utf-8\"), locationAreaBoundingBox)\n",
    "        print pointsLocat , \"\\n\"\n",
    "        print \"\\n\\n\", fun.getInfoOfOSMSearch(pointsLocat), \"\\n\\n\"\n",
    "        \n",
    "        newLoc = fromPointsOfStretGetBestUbicationMinXY(pointsLocat, l[0], l[1])\n",
    "        nx = newLoc[0]\n",
    "        ny = newLoc[1]\n",
    "        \n",
    "        #print(i, ' --> ', newLoc, \" - \", l, ' -- ', d[1][colStreet])\n",
    "        \n",
    "        if int(d[1][colDeath]) > 0:\n",
    "            clor = 'black'\n",
    "        elif int(d[1][colSerious]) > 0:\n",
    "            clor = 'red'\n",
    "        else:\n",
    "            clor = 'green'\n",
    "\n",
    "        #txtHtmlOld = \"Id: \"+ str(i) + ' - ' + str(l)     \n",
    "        #txtHtml = \"Id: \"+ str(i) + ' - ' + str(newLoc) \n",
    "        \n",
    "        #txtHtml = \"Dia: \"+ str(d[1][colDay]) + '/' + str(d[1][colMonth]) + '/' + str(d[1][colYear])\n",
    "        \n",
    "        txtHtml = \"Dia: \"+ str(d[1][colDay]).encode(\"utf-8\") + '/' + str(d[1][colMonth]).encode(\"utf-8\") + '/' + str(d[1][colYear]).encode(\"utf-8\")\n",
    "        \n",
    "        #txtHtml += '</br>' + \"here\"\n",
    "\n",
    "        #poppinOld = folium.Popup(html=folium.element.IFrame(html=txtHtml,width=200,height=50))\n",
    "        poppin = folium.Popup(html=folium.element.IFrame(html=txtHtml,width=200,height=50))\n",
    "        #folium.Marker([l[0],l[1]], icon=folium.Icon(icon='glyphicon-plus', color='blue'),popup = poppinOld).add_to(markerCluster)\n",
    "        folium.Marker([nx,ny], icon=folium.Icon(icon='glyphicon-plus', color=clor),popup = poppin).add_to(markerCluster)\n",
    "        i+=1\n",
    "        \n",
    "        if i > (tama * 0.01):\n",
    "            i = 0\n",
    "            prc = prc + 0.01\n",
    "            print(\"Procesado: \", str(prc))\n",
    "            "
   ]
  },
  {
   "cell_type": "code",
   "execution_count": 8,
   "metadata": {
    "collapsed": false
   },
   "outputs": [
    {
     "data": {
      "text/html": [
       "<div style=\"width:100%;\"><div style=\"position:relative;width:100%;height:0;padding-bottom:60%;\"><iframe src=\"data:text/html;base64,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\" style=\"position:absolute;width:100%;height:100%;left:0;top:0;\"></iframe></div></div>"
      ],
      "text/plain": [
       "<folium.folium.Map at 0xa150c88>"
      ]
     },
     "execution_count": 8,
     "metadata": {},
     "output_type": "execute_result"
    }
   ],
   "source": [
    "map"
   ]
  },
  {
   "cell_type": "code",
   "execution_count": 9,
   "metadata": {
    "collapsed": false
   },
   "outputs": [
    {
     "name": "stdout",
     "output_type": "stream",
     "text": [
      "261.236183307\n",
      "257.189840738\n"
     ]
    }
   ],
   "source": [
    "print(getDistance(41.41597824664133, 2.1807059053508873, 41.4145734, 2.1788221))\n",
    "print(getDistance(41.41597824664133, 2.1807059053508873, 41.4138138, 2.1798863))"
   ]
  },
  {
   "cell_type": "code",
   "execution_count": 10,
   "metadata": {
    "collapsed": false
   },
   "outputs": [],
   "source": [
    "abc = getDataOfCsv('barrisBCN.csv')"
   ]
  },
  {
   "cell_type": "code",
   "execution_count": 11,
   "metadata": {
    "collapsed": false
   },
   "outputs": [
    {
     "name": "stdout",
     "output_type": "stream",
     "text": [
      "0\n",
      "cartodb_id,the_geom,neighbourhood,neighbourhood_group    3,0106000020E610000001000000010300000001000000...\n",
      "Name: 0, dtype: object\n",
      "1\n",
      "cartodb_id,the_geom,neighbourhood,neighbourhood_group    11,0106000020E61000000100000001030000000100000...\n",
      "Name: 1, dtype: object\n"
     ]
    }
   ],
   "source": [
    "\n",
    "for a in abc[:2].iterrows():\n",
    "    for x in a:\n",
    "        print x"
   ]
  },
  {
   "cell_type": "code",
   "execution_count": 12,
   "metadata": {
    "collapsed": false
   },
   "outputs": [],
   "source": [
    "abc = getDataOfCsv('barris.geojson')"
   ]
  },
  {
   "cell_type": "code",
   "execution_count": 13,
   "metadata": {
    "collapsed": false
   },
   "outputs": [],
   "source": [
    "json = abc[:1]\n",
    "#print json\n"
   ]
  },
  {
   "cell_type": "code",
   "execution_count": null,
   "metadata": {
    "collapsed": true
   },
   "outputs": [],
   "source": []
  },
  {
   "cell_type": "code",
   "execution_count": null,
   "metadata": {
    "collapsed": true
   },
   "outputs": [],
   "source": []
  }
 ],
 "metadata": {
  "anaconda-cloud": {},
  "kernelspec": {
   "display_name": "Python [default]",
   "language": "python",
   "name": "python2"
  },
  "language_info": {
   "codemirror_mode": {
    "name": "ipython",
    "version": 2
   },
   "file_extension": ".py",
   "mimetype": "text/x-python",
   "name": "python",
   "nbconvert_exporter": "python",
   "pygments_lexer": "ipython2",
   "version": "2.7.12"
  }
 },
 "nbformat": 4,
 "nbformat_minor": 1
}
