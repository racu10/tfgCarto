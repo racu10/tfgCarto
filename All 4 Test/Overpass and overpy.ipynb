{
 "cells": [
  {
   "cell_type": "code",
   "execution_count": 1,
   "metadata": {
    "collapsed": false
   },
   "outputs": [],
   "source": [
    "import pandas as pd\n",
    "import numpy as np\n",
    "import overpy\n",
    "import overpass\n",
    "import folium\n",
    "from osmapi import OsmApi\n",
    "\n"
   ]
  },
  {
   "cell_type": "code",
   "execution_count": 2,
   "metadata": {
    "collapsed": true
   },
   "outputs": [],
   "source": [
    "MyApi = OsmApi()\n"
   ]
  },
  {
   "cell_type": "code",
   "execution_count": 3,
   "metadata": {
    "collapsed": false
   },
   "outputs": [],
   "source": [
    "apiOverPass = overpass.API()\n",
    "apiOverPy =  overpy.Overpass()\n",
    "\n",
    "resultPass = apiOverPass.Get('node[\"is_in:country\"=\"España\"];node[\"is_in\"=\"Barcelona\"];out;')\n",
    "response = apiOverPy.query('node[\"is_in:country\"=\"España\"];node[\"is_in\"=\"Barcelona\"];out;')"
   ]
  },
  {
   "cell_type": "code",
   "execution_count": 4,
   "metadata": {
    "collapsed": false
   },
   "outputs": [
    {
     "name": "stdout",
     "output_type": "stream",
     "text": [
      "[<overpy.Node id=253774114 lat=41.3796015 lon=2.1895823>, <overpy.Node id=1470838836 lat=41.3667951 lon=2.0570346>, <overpy.Node id=1470838887 lat=41.3815832 lon=2.0750677>, <overpy.Node id=3537198689 lat=4.4256930 lon=-75.7183440>, <overpy.Node id=3537198690 lat=4.4276572 lon=-75.7152548>, <overpy.Node id=3537198691 lat=4.4270111 lon=-75.7205235>, <overpy.Node id=3537198692 lat=4.4235700 lon=-75.7195413>, <overpy.Node id=3537202793 lat=4.4229748 lon=-75.7210850>, <overpy.Node id=3537202794 lat=4.4267664 lon=-75.7168812>, <overpy.Node id=3537202795 lat=4.4261237 lon=-75.7196661>, <overpy.Node id=3537202796 lat=4.4266588 lon=-75.7145545>, <overpy.Node id=3537202797 lat=4.4253765 lon=-75.7190705>, <overpy.Node id=3537202798 lat=4.4304109 lon=-75.7173198>, <overpy.Node id=3537202799 lat=4.4272722 lon=-75.7140342>, <overpy.Node id=3537202800 lat=4.4242215 lon=-75.7178826>, <overpy.Node id=3537202801 lat=4.4261465 lon=-75.7151599>, <overpy.Node id=3537202802 lat=4.4279834 lon=-75.7169581>, <overpy.Node id=3537202803 lat=4.4295496 lon=-75.7167405>, <overpy.Node id=3537202804 lat=4.4268154 lon=-75.7179023>, <overpy.Node id=3537202805 lat=4.4262738 lon=-75.7213024>, <overpy.Node id=3537202806 lat=4.4248470 lon=-75.7216909>, <overpy.Node id=3537202807 lat=4.4285626 lon=-75.7175259>, <overpy.Node id=3537202808 lat=4.4294451 lon=-75.7180495>, <overpy.Node id=3562536899 lat=4.4265418 lon=-75.7177253>]\n"
     ]
    }
   ],
   "source": [
    "#print(resultPass)\n",
    "print(response.nodes)"
   ]
  },
  {
   "cell_type": "code",
   "execution_count": 5,
   "metadata": {
    "collapsed": false
   },
   "outputs": [
    {
     "name": "stdout",
     "output_type": "stream",
     "text": [
      "{\"geometry\": {\"coordinates\": [2.1895823, 41.3796015], \"type\": \"Point\"}, \"id\": 253774114, \"properties\": {\"is_in\": \"Barcelona\", \"name\": \"la Barceloneta\", \"note\": \"It is a suburb, but boundary limits are not yet established.\", \"place\": \"FIXME\"}, \"type\": \"Feature\"}\n",
      "\n",
      "\n",
      "{\"geometry\": {\"coordinates\": [2.0570346, 41.3667951], \"type\": \"Point\"}, \"id\": 1470838836, \"properties\": {\"admin_level\": \"8\", \"capital\": \"8\", \"ele\": \"14\", \"is_in\": \"Barcelona\", \"is_in:country\": \"Spain\", \"is_in:country_code\": \"ES\", \"is_in:municipality\": \"Sant Joan Desp\\u00ed\", \"is_in:province_code\": \"08\", \"name\": \"Sant Joan Desp\\u00ed\", \"name:es\": \"San Juan Desp\\u00ed\", \"place\": \"town\", \"population\": \"32338\", \"population:date\": \"2009\", \"ref:ine\": \"08217000100\", \"source\": \"Instituto Geogr\\u00e1fico Nacional\", \"source:date\": \"2011-06\", \"source:ele\": \"MDT5\", \"source:file\": \"http://centrodedescargas.cnig.es/CentroDescargas/equipamiento/BD_Municipios-Entidades.zip\", \"source:name\": \"Nomencl\\u00e1tor Geogr\\u00e1fico de Municipios y Entidades de Poblaci\\u00f3n\"}, \"type\": \"Feature\"}\n",
      "\n",
      "\n",
      "{\"geometry\": {\"coordinates\": [2.0750677, 41.3815832], \"type\": \"Point\"}, \"id\": 1470838887, \"properties\": {\"admin_level\": \"8\", \"capital\": \"8\", \"ele\": \"125\", \"is_in\": \"Barcelona\", \"is_in:country\": \"Spain\", \"is_in:country_code\": \"ES\", \"is_in:municipality\": \"Sant Just Desvern\", \"is_in:province_code\": \"08\", \"name\": \"Sant Just Desvern\", \"name:es\": \"San Justo Desvern\", \"place\": \"town\", \"population\": \"15923\", \"population:date\": \"2009\", \"ref:ine\": \"08221000100\", \"source\": \"Instituto Geogr\\u00e1fico Nacional\", \"source:date\": \"2011-06\", \"source:ele\": \"MDT5\", \"source:file\": \"http://centrodedescargas.cnig.es/CentroDescargas/equipamiento/BD_Municipios-Entidades.zip\", \"source:name\": \"Nomencl\\u00e1tor Geogr\\u00e1fico de Municipios y Entidades de Poblaci\\u00f3n\"}, \"type\": \"Feature\"}\n",
      "\n",
      "\n",
      "{\"geometry\": {\"coordinates\": [-75.718344, 4.425693], \"type\": \"Point\"}, \"id\": 3537198689, \"properties\": {\"is_in\": \"Barcelona\", \"is_in:country\": \"Colombia\", \"is_in:state\": \"Quind\\u00edo\", \"is_in:town\": \"Calarc\\u00e1\", \"name\": \"Ancizar L\\u00f3pez\", \"place\": \"neighbourhood\"}, \"type\": \"Feature\"}\n",
      "\n",
      "\n",
      "{\"geometry\": {\"coordinates\": [-75.7152548, 4.4276572], \"type\": \"Point\"}, \"id\": 3537198690, \"properties\": {\"is_in\": \"Barcelona\", \"is_in:country\": \"Colombia\", \"is_in:state\": \"Quind\\u00edo\", \"is_in:town\": \"Calarc\\u00e1\", \"name\": \"Caritas 1 Etapa\", \"place\": \"neighbourhood\"}, \"type\": \"Feature\"}\n",
      "\n",
      "\n",
      "{\"geometry\": {\"coordinates\": [-75.7205235, 4.4270111], \"type\": \"Point\"}, \"id\": 3537198691, \"properties\": {\"is_in\": \"Barcelona\", \"is_in:country\": \"Colombia\", \"is_in:state\": \"Quind\\u00edo\", \"is_in:town\": \"Calarc\\u00e1\", \"name\": \"Cooviserq\", \"place\": \"neighbourhood\"}, \"type\": \"Feature\"}\n",
      "\n",
      "\n",
      "{\"geometry\": {\"coordinates\": [-75.7195413, 4.42357], \"type\": \"Point\"}, \"id\": 3537198692, \"properties\": {\"is_in\": \"Barcelona\", \"is_in:country\": \"Colombia\", \"is_in:state\": \"Quind\\u00edo\", \"is_in:town\": \"Calarc\\u00e1\", \"name\": \"El Congal 1 Etapa\", \"place\": \"neighbourhood\"}, \"type\": \"Feature\"}\n",
      "\n",
      "\n",
      "{\"geometry\": {\"coordinates\": [-75.721085, 4.4229748], \"type\": \"Point\"}, \"id\": 3537202793, \"properties\": {\"is_in\": \"Barcelona\", \"is_in:country\": \"Colombia\", \"is_in:state\": \"Quind\\u00edo\", \"is_in:town\": \"Calarc\\u00e1\", \"name\": \"El Congal 2 Etapa\", \"place\": \"neighbourhood\"}, \"type\": \"Feature\"}\n",
      "\n",
      "\n",
      "{\"geometry\": {\"coordinates\": [-75.7168812, 4.4267664], \"type\": \"Point\"}, \"id\": 3537202794, \"properties\": {\"is_in\": \"Barcelona\", \"is_in:country\": \"Colombia\", \"is_in:state\": \"Quind\\u00edo\", \"is_in:town\": \"Calarc\\u00e1\", \"name\": \"El Porvenir\", \"place\": \"neighbourhood\"}, \"type\": \"Feature\"}\n",
      "\n",
      "\n",
      "{\"geometry\": {\"coordinates\": [-75.7196661, 4.4261237], \"type\": \"Point\"}, \"id\": 3537202795, \"properties\": {\"is_in\": \"Barcelona\", \"is_in:country\": \"Colombia\", \"is_in:state\": \"Quind\\u00edo\", \"is_in:town\": \"Calarc\\u00e1\", \"name\": \"El Totumo\", \"place\": \"neighbourhood\"}, \"type\": \"Feature\"}\n",
      "\n",
      "\n",
      "{\"geometry\": {\"coordinates\": [-75.7145545, 4.4266588], \"type\": \"Point\"}, \"id\": 3537202796, \"properties\": {\"is_in\": \"Barcelona\", \"is_in:country\": \"Colombia\", \"is_in:state\": \"Quind\\u00edo\", \"is_in:town\": \"Calarc\\u00e1\", \"name\": \"Europeo\", \"place\": \"neighbourhood\"}, \"type\": \"Feature\"}\n",
      "\n",
      "\n",
      "{\"geometry\": {\"coordinates\": [-75.7190705, 4.4253765], \"type\": \"Point\"}, \"id\": 3537202797, \"properties\": {\"is_in\": \"Barcelona\", \"is_in:country\": \"Colombia\", \"is_in:state\": \"Quind\\u00edo\", \"is_in:town\": \"Calarc\\u00e1\", \"name\": \"Fundadores\", \"place\": \"neighbourhood\"}, \"type\": \"Feature\"}\n",
      "\n",
      "\n",
      "{\"geometry\": {\"coordinates\": [-75.7173198, 4.4304109], \"type\": \"Point\"}, \"id\": 3537202798, \"properties\": {\"is_in\": \"Barcelona\", \"is_in:country\": \"Colombia\", \"is_in:state\": \"Quind\\u00edo\", \"is_in:town\": \"Calarc\\u00e1\", \"name\": \"Gait\\u00e1n\", \"place\": \"neighbourhood\"}, \"type\": \"Feature\"}\n",
      "\n",
      "\n",
      "{\"geometry\": {\"coordinates\": [-75.7140342, 4.4272722], \"type\": \"Point\"}, \"id\": 3537202799, \"properties\": {\"is_in\": \"Barcelona\", \"is_in:country\": \"Colombia\", \"is_in:state\": \"Quind\\u00edo\", \"is_in:town\": \"Calarc\\u00e1\", \"name\": \"Italiano\", \"place\": \"neighbourhood\"}, \"type\": \"Feature\"}\n",
      "\n",
      "\n",
      "{\"geometry\": {\"coordinates\": [-75.7178826, 4.4242215], \"type\": \"Point\"}, \"id\": 3537202800, \"properties\": {\"is_in\": \"Barcelona\", \"is_in:country\": \"Colombia\", \"is_in:state\": \"Quind\\u00edo\", \"is_in:town\": \"Calarc\\u00e1\", \"name\": \"Las Colinas\", \"place\": \"neighbourhood\"}, \"type\": \"Feature\"}\n",
      "\n",
      "\n",
      "{\"geometry\": {\"coordinates\": [-75.7151599, 4.4261465], \"type\": \"Point\"}, \"id\": 3537202801, \"properties\": {\"is_in\": \"Barcelona\", \"is_in:country\": \"Colombia\", \"is_in:state\": \"Quind\\u00edo\", \"is_in:town\": \"Calarc\\u00e1\", \"name\": \"Los Alamos\", \"place\": \"neighbourhood\"}, \"type\": \"Feature\"}\n",
      "\n",
      "\n",
      "{\"geometry\": {\"coordinates\": [-75.7169581, 4.4279834], \"type\": \"Point\"}, \"id\": 3537202802, \"properties\": {\"is_in\": \"Barcelona\", \"is_in:country\": \"Colombia\", \"is_in:state\": \"Quind\\u00edo\", \"is_in:town\": \"Calarc\\u00e1\", \"name\": \"Lucerito\", \"place\": \"neighbourhood\"}, \"type\": \"Feature\"}\n",
      "\n",
      "\n",
      "{\"geometry\": {\"coordinates\": [-75.7167405, 4.4295496], \"type\": \"Point\"}, \"id\": 3537202803, \"properties\": {\"is_in\": \"Barcelona\", \"is_in:country\": \"Colombia\", \"is_in:state\": \"Quind\\u00edo\", \"is_in:town\": \"Calarc\\u00e1\", \"name\": \"Panorama 2 Etapa\", \"place\": \"neighbourhood\"}, \"type\": \"Feature\"}\n",
      "\n",
      "\n",
      "{\"geometry\": {\"coordinates\": [-75.7179023, 4.4268154], \"type\": \"Point\"}, \"id\": 3537202804, \"properties\": {\"is_in\": \"Barcelona\", \"is_in:country\": \"Colombia\", \"is_in:state\": \"Quind\\u00edo\", \"is_in:town\": \"Calarc\\u00e1\", \"name\": \"Popular\", \"place\": \"neighbourhood\"}, \"type\": \"Feature\"}\n",
      "\n",
      "\n",
      "{\"geometry\": {\"coordinates\": [-75.7213024, 4.4262738], \"type\": \"Point\"}, \"id\": 3537202805, \"properties\": {\"is_in\": \"Barcelona\", \"is_in:country\": \"Colombia\", \"is_in:state\": \"Quind\\u00edo\", \"is_in:town\": \"Calarc\\u00e1\", \"name\": \"San Felipe\", \"place\": \"neighbourhood\"}, \"type\": \"Feature\"}\n",
      "\n",
      "\n",
      "{\"geometry\": {\"coordinates\": [-75.7216909, 4.424847], \"type\": \"Point\"}, \"id\": 3537202806, \"properties\": {\"is_in\": \"Barcelona\", \"is_in:country\": \"Colombia\", \"is_in:state\": \"Quind\\u00edo\", \"is_in:town\": \"Calarc\\u00e1\", \"name\": \"Uribe\", \"place\": \"neighbourhood\"}, \"type\": \"Feature\"}\n",
      "\n",
      "\n",
      "{\"geometry\": {\"coordinates\": [-75.7175259, 4.4285626], \"type\": \"Point\"}, \"id\": 3537202807, \"properties\": {\"is_in\": \"Barcelona\", \"is_in:country\": \"Colombia\", \"is_in:state\": \"Quind\\u00edo\", \"is_in:town\": \"Calarc\\u00e1\", \"name\": \"V\\u00e9lez\", \"place\": \"neighbourhood\"}, \"type\": \"Feature\"}\n",
      "\n",
      "\n",
      "{\"geometry\": {\"coordinates\": [-75.7180495, 4.4294451], \"type\": \"Point\"}, \"id\": 3537202808, \"properties\": {\"is_in\": \"Barcelona\", \"is_in:country\": \"Colombia\", \"is_in:state\": \"Quind\\u00edo\", \"is_in:town\": \"Calarc\\u00e1\", \"name\": \"Zuleta\", \"place\": \"neighbourhood\"}, \"type\": \"Feature\"}\n",
      "\n",
      "\n",
      "{\"geometry\": {\"coordinates\": [-75.7177253, 4.4265418], \"type\": \"Point\"}, \"id\": 3562536899, \"properties\": {\"is_in\": \"Barcelona\", \"is_in:country\": \"Colombia\", \"is_in:state\": \"Quind\\u00edo\", \"is_in:town\": \"Calarc\\u00e1\", \"name\": \"El Remanso\", \"place\": \"neighbourhood\"}, \"type\": \"Feature\"}\n",
      "\n",
      "\n",
      "{\"geometry\": {\"coordinates\": [2.1895823, 41.3796015], \"type\": \"Point\"}, \"id\": 253774114, \"properties\": {\"is_in\": \"Barcelona\", \"name\": \"la Barceloneta\", \"note\": \"It is a suburb, but boundary limits are not yet established.\", \"place\": \"FIXME\"}, \"type\": \"Feature\"}\n",
      "\n",
      "\n",
      "{\"geometry\": {\"coordinates\": [2.0570346, 41.3667951], \"type\": \"Point\"}, \"id\": 1470838836, \"properties\": {\"admin_level\": \"8\", \"capital\": \"8\", \"ele\": \"14\", \"is_in\": \"Barcelona\", \"is_in:country\": \"Spain\", \"is_in:country_code\": \"ES\", \"is_in:municipality\": \"Sant Joan Desp\\u00ed\", \"is_in:province_code\": \"08\", \"name\": \"Sant Joan Desp\\u00ed\", \"name:es\": \"San Juan Desp\\u00ed\", \"place\": \"town\", \"population\": \"32338\", \"population:date\": \"2009\", \"ref:ine\": \"08217000100\", \"source\": \"Instituto Geogr\\u00e1fico Nacional\", \"source:date\": \"2011-06\", \"source:ele\": \"MDT5\", \"source:file\": \"http://centrodedescargas.cnig.es/CentroDescargas/equipamiento/BD_Municipios-Entidades.zip\", \"source:name\": \"Nomencl\\u00e1tor Geogr\\u00e1fico de Municipios y Entidades de Poblaci\\u00f3n\"}, \"type\": \"Feature\"}\n",
      "\n",
      "\n",
      "{\"geometry\": {\"coordinates\": [2.0750677, 41.3815832], \"type\": \"Point\"}, \"id\": 1470838887, \"properties\": {\"admin_level\": \"8\", \"capital\": \"8\", \"ele\": \"125\", \"is_in\": \"Barcelona\", \"is_in:country\": \"Spain\", \"is_in:country_code\": \"ES\", \"is_in:municipality\": \"Sant Just Desvern\", \"is_in:province_code\": \"08\", \"name\": \"Sant Just Desvern\", \"name:es\": \"San Justo Desvern\", \"place\": \"town\", \"population\": \"15923\", \"population:date\": \"2009\", \"ref:ine\": \"08221000100\", \"source\": \"Instituto Geogr\\u00e1fico Nacional\", \"source:date\": \"2011-06\", \"source:ele\": \"MDT5\", \"source:file\": \"http://centrodedescargas.cnig.es/CentroDescargas/equipamiento/BD_Municipios-Entidades.zip\", \"source:name\": \"Nomencl\\u00e1tor Geogr\\u00e1fico de Municipios y Entidades de Poblaci\\u00f3n\"}, \"type\": \"Feature\"}\n",
      "\n",
      "\n",
      "{\"geometry\": {\"coordinates\": [-75.718344, 4.425693], \"type\": \"Point\"}, \"id\": 3537198689, \"properties\": {\"is_in\": \"Barcelona\", \"is_in:country\": \"Colombia\", \"is_in:state\": \"Quind\\u00edo\", \"is_in:town\": \"Calarc\\u00e1\", \"name\": \"Ancizar L\\u00f3pez\", \"place\": \"neighbourhood\"}, \"type\": \"Feature\"}\n",
      "\n",
      "\n",
      "{\"geometry\": {\"coordinates\": [-75.7152548, 4.4276572], \"type\": \"Point\"}, \"id\": 3537198690, \"properties\": {\"is_in\": \"Barcelona\", \"is_in:country\": \"Colombia\", \"is_in:state\": \"Quind\\u00edo\", \"is_in:town\": \"Calarc\\u00e1\", \"name\": \"Caritas 1 Etapa\", \"place\": \"neighbourhood\"}, \"type\": \"Feature\"}\n",
      "\n",
      "\n",
      "{\"geometry\": {\"coordinates\": [-75.7205235, 4.4270111], \"type\": \"Point\"}, \"id\": 3537198691, \"properties\": {\"is_in\": \"Barcelona\", \"is_in:country\": \"Colombia\", \"is_in:state\": \"Quind\\u00edo\", \"is_in:town\": \"Calarc\\u00e1\", \"name\": \"Cooviserq\", \"place\": \"neighbourhood\"}, \"type\": \"Feature\"}\n",
      "\n",
      "\n",
      "{\"geometry\": {\"coordinates\": [-75.7195413, 4.42357], \"type\": \"Point\"}, \"id\": 3537198692, \"properties\": {\"is_in\": \"Barcelona\", \"is_in:country\": \"Colombia\", \"is_in:state\": \"Quind\\u00edo\", \"is_in:town\": \"Calarc\\u00e1\", \"name\": \"El Congal 1 Etapa\", \"place\": \"neighbourhood\"}, \"type\": \"Feature\"}\n",
      "\n",
      "\n",
      "{\"geometry\": {\"coordinates\": [-75.721085, 4.4229748], \"type\": \"Point\"}, \"id\": 3537202793, \"properties\": {\"is_in\": \"Barcelona\", \"is_in:country\": \"Colombia\", \"is_in:state\": \"Quind\\u00edo\", \"is_in:town\": \"Calarc\\u00e1\", \"name\": \"El Congal 2 Etapa\", \"place\": \"neighbourhood\"}, \"type\": \"Feature\"}\n",
      "\n",
      "\n",
      "{\"geometry\": {\"coordinates\": [-75.7168812, 4.4267664], \"type\": \"Point\"}, \"id\": 3537202794, \"properties\": {\"is_in\": \"Barcelona\", \"is_in:country\": \"Colombia\", \"is_in:state\": \"Quind\\u00edo\", \"is_in:town\": \"Calarc\\u00e1\", \"name\": \"El Porvenir\", \"place\": \"neighbourhood\"}, \"type\": \"Feature\"}\n",
      "\n",
      "\n",
      "{\"geometry\": {\"coordinates\": [-75.7196661, 4.4261237], \"type\": \"Point\"}, \"id\": 3537202795, \"properties\": {\"is_in\": \"Barcelona\", \"is_in:country\": \"Colombia\", \"is_in:state\": \"Quind\\u00edo\", \"is_in:town\": \"Calarc\\u00e1\", \"name\": \"El Totumo\", \"place\": \"neighbourhood\"}, \"type\": \"Feature\"}\n",
      "\n",
      "\n",
      "{\"geometry\": {\"coordinates\": [-75.7145545, 4.4266588], \"type\": \"Point\"}, \"id\": 3537202796, \"properties\": {\"is_in\": \"Barcelona\", \"is_in:country\": \"Colombia\", \"is_in:state\": \"Quind\\u00edo\", \"is_in:town\": \"Calarc\\u00e1\", \"name\": \"Europeo\", \"place\": \"neighbourhood\"}, \"type\": \"Feature\"}\n",
      "\n",
      "\n",
      "{\"geometry\": {\"coordinates\": [-75.7190705, 4.4253765], \"type\": \"Point\"}, \"id\": 3537202797, \"properties\": {\"is_in\": \"Barcelona\", \"is_in:country\": \"Colombia\", \"is_in:state\": \"Quind\\u00edo\", \"is_in:town\": \"Calarc\\u00e1\", \"name\": \"Fundadores\", \"place\": \"neighbourhood\"}, \"type\": \"Feature\"}\n",
      "\n",
      "\n",
      "{\"geometry\": {\"coordinates\": [-75.7173198, 4.4304109], \"type\": \"Point\"}, \"id\": 3537202798, \"properties\": {\"is_in\": \"Barcelona\", \"is_in:country\": \"Colombia\", \"is_in:state\": \"Quind\\u00edo\", \"is_in:town\": \"Calarc\\u00e1\", \"name\": \"Gait\\u00e1n\", \"place\": \"neighbourhood\"}, \"type\": \"Feature\"}\n",
      "\n",
      "\n",
      "{\"geometry\": {\"coordinates\": [-75.7140342, 4.4272722], \"type\": \"Point\"}, \"id\": 3537202799, \"properties\": {\"is_in\": \"Barcelona\", \"is_in:country\": \"Colombia\", \"is_in:state\": \"Quind\\u00edo\", \"is_in:town\": \"Calarc\\u00e1\", \"name\": \"Italiano\", \"place\": \"neighbourhood\"}, \"type\": \"Feature\"}\n",
      "\n",
      "\n",
      "{\"geometry\": {\"coordinates\": [-75.7178826, 4.4242215], \"type\": \"Point\"}, \"id\": 3537202800, \"properties\": {\"is_in\": \"Barcelona\", \"is_in:country\": \"Colombia\", \"is_in:state\": \"Quind\\u00edo\", \"is_in:town\": \"Calarc\\u00e1\", \"name\": \"Las Colinas\", \"place\": \"neighbourhood\"}, \"type\": \"Feature\"}\n",
      "\n",
      "\n",
      "{\"geometry\": {\"coordinates\": [-75.7151599, 4.4261465], \"type\": \"Point\"}, \"id\": 3537202801, \"properties\": {\"is_in\": \"Barcelona\", \"is_in:country\": \"Colombia\", \"is_in:state\": \"Quind\\u00edo\", \"is_in:town\": \"Calarc\\u00e1\", \"name\": \"Los Alamos\", \"place\": \"neighbourhood\"}, \"type\": \"Feature\"}\n",
      "\n",
      "\n",
      "{\"geometry\": {\"coordinates\": [-75.7169581, 4.4279834], \"type\": \"Point\"}, \"id\": 3537202802, \"properties\": {\"is_in\": \"Barcelona\", \"is_in:country\": \"Colombia\", \"is_in:state\": \"Quind\\u00edo\", \"is_in:town\": \"Calarc\\u00e1\", \"name\": \"Lucerito\", \"place\": \"neighbourhood\"}, \"type\": \"Feature\"}\n",
      "\n",
      "\n",
      "{\"geometry\": {\"coordinates\": [-75.7167405, 4.4295496], \"type\": \"Point\"}, \"id\": 3537202803, \"properties\": {\"is_in\": \"Barcelona\", \"is_in:country\": \"Colombia\", \"is_in:state\": \"Quind\\u00edo\", \"is_in:town\": \"Calarc\\u00e1\", \"name\": \"Panorama 2 Etapa\", \"place\": \"neighbourhood\"}, \"type\": \"Feature\"}\n",
      "\n",
      "\n",
      "{\"geometry\": {\"coordinates\": [-75.7179023, 4.4268154], \"type\": \"Point\"}, \"id\": 3537202804, \"properties\": {\"is_in\": \"Barcelona\", \"is_in:country\": \"Colombia\", \"is_in:state\": \"Quind\\u00edo\", \"is_in:town\": \"Calarc\\u00e1\", \"name\": \"Popular\", \"place\": \"neighbourhood\"}, \"type\": \"Feature\"}\n",
      "\n",
      "\n",
      "{\"geometry\": {\"coordinates\": [-75.7213024, 4.4262738], \"type\": \"Point\"}, \"id\": 3537202805, \"properties\": {\"is_in\": \"Barcelona\", \"is_in:country\": \"Colombia\", \"is_in:state\": \"Quind\\u00edo\", \"is_in:town\": \"Calarc\\u00e1\", \"name\": \"San Felipe\", \"place\": \"neighbourhood\"}, \"type\": \"Feature\"}\n",
      "\n",
      "\n",
      "{\"geometry\": {\"coordinates\": [-75.7216909, 4.424847], \"type\": \"Point\"}, \"id\": 3537202806, \"properties\": {\"is_in\": \"Barcelona\", \"is_in:country\": \"Colombia\", \"is_in:state\": \"Quind\\u00edo\", \"is_in:town\": \"Calarc\\u00e1\", \"name\": \"Uribe\", \"place\": \"neighbourhood\"}, \"type\": \"Feature\"}\n",
      "\n",
      "\n",
      "{\"geometry\": {\"coordinates\": [-75.7175259, 4.4285626], \"type\": \"Point\"}, \"id\": 3537202807, \"properties\": {\"is_in\": \"Barcelona\", \"is_in:country\": \"Colombia\", \"is_in:state\": \"Quind\\u00edo\", \"is_in:town\": \"Calarc\\u00e1\", \"name\": \"V\\u00e9lez\", \"place\": \"neighbourhood\"}, \"type\": \"Feature\"}\n",
      "\n",
      "\n",
      "{\"geometry\": {\"coordinates\": [-75.7180495, 4.4294451], \"type\": \"Point\"}, \"id\": 3537202808, \"properties\": {\"is_in\": \"Barcelona\", \"is_in:country\": \"Colombia\", \"is_in:state\": \"Quind\\u00edo\", \"is_in:town\": \"Calarc\\u00e1\", \"name\": \"Zuleta\", \"place\": \"neighbourhood\"}, \"type\": \"Feature\"}\n",
      "\n",
      "\n",
      "{\"geometry\": {\"coordinates\": [-75.7177253, 4.4265418], \"type\": \"Point\"}, \"id\": 3562536899, \"properties\": {\"is_in\": \"Barcelona\", \"is_in:country\": \"Colombia\", \"is_in:state\": \"Quind\\u00edo\", \"is_in:town\": \"Calarc\\u00e1\", \"name\": \"El Remanso\", \"place\": \"neighbourhood\"}, \"type\": \"Feature\"}\n",
      "\n",
      "\n"
     ]
    }
   ],
   "source": [
    "for x in resultPass['features']:\n",
    "    print(x)\n",
    "    print(\"\\n\")"
   ]
  },
  {
   "cell_type": "code",
   "execution_count": 6,
   "metadata": {
    "collapsed": false
   },
   "outputs": [
    {
     "data": {
      "text/plain": [
       "<overpy.Result at 0x9c71b38>"
      ]
     },
     "execution_count": 6,
     "metadata": {},
     "output_type": "execute_result"
    }
   ],
   "source": [
    "result = apiOverPy.query(\"[out:xml];node(50.745,7.17,50.75,7.18);out;\")\n",
    "result\n"
   ]
  },
  {
   "cell_type": "code",
   "execution_count": 7,
   "metadata": {
    "collapsed": false
   },
   "outputs": [
    {
     "name": "stdout",
     "output_type": "stream",
     "text": [
      "{'visible': True, 'tag': {'name': 'la Barceloneta', 'is_in': 'Barcelona', 'place': 'FIXME', 'note': 'It is a suburb, but boundary limits are not yet established.'}, 'changeset': 15111599, 'user': 'Joan Montané', 'uid': 28773, 'timestamp': datetime.datetime(2013, 2, 21, 12, 32, 22), 'id': 253774114, 'version': 4, 'lat': 41.3796015, 'lon': 2.1895823}\n"
     ]
    }
   ],
   "source": [
    "print(MyApi.NodeGet(253774114))\n"
   ]
  },
  {
   "cell_type": "code",
   "execution_count": 8,
   "metadata": {
    "collapsed": false
   },
   "outputs": [
    {
     "name": "stdout",
     "output_type": "stream",
     "text": [
      "{'visible': True, 'tag': {'name': 'la Barceloneta', 'is_in': 'Barcelona', 'place': 'FIXME', 'note': 'It is a suburb, but boundary limits are not yet established.'}, 'changeset': 15111599, 'user': 'Joan Montané', 'uid': 28773, 'timestamp': datetime.datetime(2013, 2, 21, 12, 32, 22), 'id': 253774114, 'version': 4, 'lat': 41.3796015, 'lon': 2.1895823}\n",
      "\n",
      "\n",
      "{'visible': True, 'tag': {'source:file': 'http://centrodedescargas.cnig.es/CentroDescargas/equipamiento/BD_Municipios-Entidades.zip', 'is_in': 'Barcelona', 'is_in:province_code': '08', 'population': '32338', 'source:date': '2011-06', 'admin_level': '8', 'name': 'Sant Joan Despí', 'source:name': 'Nomenclátor Geográfico de Municipios y Entidades de Población', 'ref:ine': '08217000100', 'is_in:country_code': 'ES', 'is_in:country': 'Spain', 'ele': '14', 'is_in:municipality': 'Sant Joan Despí', 'population:date': '2009', 'capital': '8', 'name:es': 'San Juan Despí', 'place': 'town', 'source': 'Instituto Geográfico Nacional', 'source:ele': 'MDT5'}, 'changeset': 25009752, 'user': 'Antonio Eugenio Burriel', 'uid': 24070, 'timestamp': datetime.datetime(2014, 8, 25, 20, 47, 57), 'id': 1470838836, 'version': 2, 'lat': 41.3667951, 'lon': 2.0570346}\n",
      "\n",
      "\n",
      "{'visible': True, 'tag': {'source:file': 'http://centrodedescargas.cnig.es/CentroDescargas/equipamiento/BD_Municipios-Entidades.zip', 'is_in': 'Barcelona', 'is_in:province_code': '08', 'population': '15923', 'source:date': '2011-06', 'admin_level': '8', 'name': 'Sant Just Desvern', 'source:name': 'Nomenclátor Geográfico de Municipios y Entidades de Población', 'ref:ine': '08221000100', 'is_in:country_code': 'ES', 'is_in:country': 'Spain', 'ele': '125', 'is_in:municipality': 'Sant Just Desvern', 'population:date': '2009', 'capital': '8', 'name:es': 'San Justo Desvern', 'place': 'town', 'source': 'Instituto Geográfico Nacional', 'source:ele': 'MDT5'}, 'changeset': 25009752, 'user': 'Antonio Eugenio Burriel', 'uid': 24070, 'timestamp': datetime.datetime(2014, 8, 25, 20, 48, 2), 'id': 1470838887, 'version': 2, 'lat': 41.3815832, 'lon': 2.0750677}\n",
      "\n",
      "\n",
      "{'visible': True, 'tag': {'is_in': 'Barcelona', 'is_in:country': 'Colombia', 'name': 'Ancizar López', 'place': 'neighbourhood', 'is_in:town': 'Calarcá', 'is_in:state': 'Quindío'}, 'changeset': 31386543, 'user': 'surrendo', 'uid': 206006, 'timestamp': datetime.datetime(2015, 5, 22, 23, 12, 1), 'id': 3537198689, 'version': 1, 'lat': 4.425693, 'lon': -75.718344}\n",
      "\n",
      "\n",
      "{'visible': True, 'tag': {'is_in': 'Barcelona', 'is_in:country': 'Colombia', 'name': 'Caritas 1 Etapa', 'place': 'neighbourhood', 'is_in:town': 'Calarcá', 'is_in:state': 'Quindío'}, 'changeset': 31386543, 'user': 'surrendo', 'uid': 206006, 'timestamp': datetime.datetime(2015, 5, 22, 23, 12, 1), 'id': 3537198690, 'version': 1, 'lat': 4.4276572, 'lon': -75.7152548}\n",
      "\n",
      "\n",
      "{'visible': True, 'tag': {'is_in': 'Barcelona', 'is_in:country': 'Colombia', 'name': 'Cooviserq', 'place': 'neighbourhood', 'is_in:town': 'Calarcá', 'is_in:state': 'Quindío'}, 'changeset': 31386543, 'user': 'surrendo', 'uid': 206006, 'timestamp': datetime.datetime(2015, 5, 22, 23, 12, 1), 'id': 3537198691, 'version': 1, 'lat': 4.4270111, 'lon': -75.7205235}\n",
      "\n",
      "\n",
      "{'visible': True, 'tag': {'is_in': 'Barcelona', 'is_in:country': 'Colombia', 'name': 'El Congal 1 Etapa', 'place': 'neighbourhood', 'is_in:town': 'Calarcá', 'is_in:state': 'Quindío'}, 'changeset': 31403613, 'user': 'surrendo', 'uid': 206006, 'timestamp': datetime.datetime(2015, 5, 23, 18, 0, 24), 'id': 3537198692, 'version': 2, 'lat': 4.42357, 'lon': -75.7195413}\n",
      "\n",
      "\n",
      "{'visible': True, 'tag': {'is_in': 'Barcelona', 'is_in:country': 'Colombia', 'name': 'El Congal 2 Etapa', 'place': 'neighbourhood', 'is_in:town': 'Calarcá', 'is_in:state': 'Quindío'}, 'changeset': 31403613, 'user': 'surrendo', 'uid': 206006, 'timestamp': datetime.datetime(2015, 5, 23, 18, 0, 24), 'id': 3537202793, 'version': 2, 'lat': 4.4229748, 'lon': -75.721085}\n",
      "\n",
      "\n",
      "{'visible': True, 'tag': {'is_in': 'Barcelona', 'is_in:country': 'Colombia', 'name': 'El Porvenir', 'place': 'neighbourhood', 'is_in:town': 'Calarcá', 'is_in:state': 'Quindío'}, 'changeset': 31386543, 'user': 'surrendo', 'uid': 206006, 'timestamp': datetime.datetime(2015, 5, 22, 23, 12, 1), 'id': 3537202794, 'version': 1, 'lat': 4.4267664, 'lon': -75.7168812}\n",
      "\n",
      "\n",
      "{'visible': True, 'tag': {'is_in': 'Barcelona', 'is_in:country': 'Colombia', 'name': 'El Totumo', 'place': 'neighbourhood', 'is_in:town': 'Calarcá', 'is_in:state': 'Quindío'}, 'changeset': 31386543, 'user': 'surrendo', 'uid': 206006, 'timestamp': datetime.datetime(2015, 5, 22, 23, 12, 1), 'id': 3537202795, 'version': 1, 'lat': 4.4261237, 'lon': -75.7196661}\n",
      "\n",
      "\n",
      "{'visible': True, 'tag': {'is_in': 'Barcelona', 'is_in:country': 'Colombia', 'name': 'Europeo', 'place': 'neighbourhood', 'is_in:town': 'Calarcá', 'is_in:state': 'Quindío'}, 'changeset': 31386543, 'user': 'surrendo', 'uid': 206006, 'timestamp': datetime.datetime(2015, 5, 22, 23, 12, 1), 'id': 3537202796, 'version': 1, 'lat': 4.4266588, 'lon': -75.7145545}\n",
      "\n",
      "\n",
      "{'visible': True, 'tag': {'is_in': 'Barcelona', 'is_in:country': 'Colombia', 'name': 'Fundadores', 'place': 'neighbourhood', 'is_in:town': 'Calarcá', 'is_in:state': 'Quindío'}, 'changeset': 31386543, 'user': 'surrendo', 'uid': 206006, 'timestamp': datetime.datetime(2015, 5, 22, 23, 12, 2), 'id': 3537202797, 'version': 1, 'lat': 4.4253765, 'lon': -75.7190705}\n",
      "\n",
      "\n",
      "{'visible': True, 'tag': {'is_in': 'Barcelona', 'is_in:country': 'Colombia', 'name': 'Gaitán', 'place': 'neighbourhood', 'is_in:town': 'Calarcá', 'is_in:state': 'Quindío'}, 'changeset': 31386543, 'user': 'surrendo', 'uid': 206006, 'timestamp': datetime.datetime(2015, 5, 22, 23, 12, 2), 'id': 3537202798, 'version': 1, 'lat': 4.4304109, 'lon': -75.7173198}\n",
      "\n",
      "\n",
      "{'visible': True, 'tag': {'is_in': 'Barcelona', 'is_in:country': 'Colombia', 'name': 'Italiano', 'place': 'neighbourhood', 'is_in:town': 'Calarcá', 'is_in:state': 'Quindío'}, 'changeset': 31386543, 'user': 'surrendo', 'uid': 206006, 'timestamp': datetime.datetime(2015, 5, 22, 23, 12, 2), 'id': 3537202799, 'version': 1, 'lat': 4.4272722, 'lon': -75.7140342}\n",
      "\n",
      "\n",
      "{'visible': True, 'tag': {'is_in': 'Barcelona', 'is_in:country': 'Colombia', 'name': 'Las Colinas', 'place': 'neighbourhood', 'is_in:town': 'Calarcá', 'is_in:state': 'Quindío'}, 'changeset': 31386543, 'user': 'surrendo', 'uid': 206006, 'timestamp': datetime.datetime(2015, 5, 22, 23, 12, 2), 'id': 3537202800, 'version': 1, 'lat': 4.4242215, 'lon': -75.7178826}\n",
      "\n",
      "\n",
      "{'visible': True, 'tag': {'is_in': 'Barcelona', 'is_in:country': 'Colombia', 'name': 'Los Alamos', 'place': 'neighbourhood', 'is_in:town': 'Calarcá', 'is_in:state': 'Quindío'}, 'changeset': 31386543, 'user': 'surrendo', 'uid': 206006, 'timestamp': datetime.datetime(2015, 5, 22, 23, 12, 2), 'id': 3537202801, 'version': 1, 'lat': 4.4261465, 'lon': -75.7151599}\n",
      "\n",
      "\n",
      "{'visible': True, 'tag': {'is_in': 'Barcelona', 'is_in:country': 'Colombia', 'name': 'Lucerito', 'place': 'neighbourhood', 'is_in:town': 'Calarcá', 'is_in:state': 'Quindío'}, 'changeset': 31386543, 'user': 'surrendo', 'uid': 206006, 'timestamp': datetime.datetime(2015, 5, 22, 23, 12, 2), 'id': 3537202802, 'version': 1, 'lat': 4.4279834, 'lon': -75.7169581}\n",
      "\n",
      "\n",
      "{'visible': True, 'tag': {'is_in': 'Barcelona', 'is_in:country': 'Colombia', 'name': 'Panorama 2 Etapa', 'place': 'neighbourhood', 'is_in:town': 'Calarcá', 'is_in:state': 'Quindío'}, 'changeset': 31386543, 'user': 'surrendo', 'uid': 206006, 'timestamp': datetime.datetime(2015, 5, 22, 23, 12, 2), 'id': 3537202803, 'version': 1, 'lat': 4.4295496, 'lon': -75.7167405}\n",
      "\n",
      "\n",
      "{'visible': True, 'tag': {'is_in': 'Barcelona', 'is_in:country': 'Colombia', 'name': 'Popular', 'place': 'neighbourhood', 'is_in:town': 'Calarcá', 'is_in:state': 'Quindío'}, 'changeset': 31386543, 'user': 'surrendo', 'uid': 206006, 'timestamp': datetime.datetime(2015, 5, 22, 23, 12, 2), 'id': 3537202804, 'version': 1, 'lat': 4.4268154, 'lon': -75.7179023}\n",
      "\n",
      "\n",
      "{'visible': True, 'tag': {'is_in': 'Barcelona', 'is_in:country': 'Colombia', 'name': 'San Felipe', 'place': 'neighbourhood', 'is_in:town': 'Calarcá', 'is_in:state': 'Quindío'}, 'changeset': 31386543, 'user': 'surrendo', 'uid': 206006, 'timestamp': datetime.datetime(2015, 5, 22, 23, 12, 2), 'id': 3537202805, 'version': 1, 'lat': 4.4262738, 'lon': -75.7213024}\n",
      "\n",
      "\n",
      "{'visible': True, 'tag': {'is_in': 'Barcelona', 'is_in:country': 'Colombia', 'name': 'Uribe', 'place': 'neighbourhood', 'is_in:town': 'Calarcá', 'is_in:state': 'Quindío'}, 'changeset': 31623755, 'user': 'surrendo', 'uid': 206006, 'timestamp': datetime.datetime(2015, 6, 1, 2, 59, 57), 'id': 3537202806, 'version': 2, 'lat': 4.424847, 'lon': -75.7216909}\n",
      "\n",
      "\n",
      "{'visible': True, 'tag': {'is_in': 'Barcelona', 'is_in:country': 'Colombia', 'name': 'Vélez', 'place': 'neighbourhood', 'is_in:town': 'Calarcá', 'is_in:state': 'Quindío'}, 'changeset': 31386543, 'user': 'surrendo', 'uid': 206006, 'timestamp': datetime.datetime(2015, 5, 22, 23, 12, 3), 'id': 3537202807, 'version': 1, 'lat': 4.4285626, 'lon': -75.7175259}\n",
      "\n",
      "\n",
      "{'visible': True, 'tag': {'is_in': 'Barcelona', 'is_in:country': 'Colombia', 'name': 'Zuleta', 'place': 'neighbourhood', 'is_in:town': 'Calarcá', 'is_in:state': 'Quindío'}, 'changeset': 31386543, 'user': 'surrendo', 'uid': 206006, 'timestamp': datetime.datetime(2015, 5, 22, 23, 12, 3), 'id': 3537202808, 'version': 1, 'lat': 4.4294451, 'lon': -75.7180495}\n",
      "\n",
      "\n",
      "{'visible': True, 'tag': {'is_in': 'Barcelona', 'is_in:country': 'Colombia', 'name': 'El Remanso', 'place': 'neighbourhood', 'is_in:town': 'Calarcá', 'is_in:state': 'Quindío'}, 'changeset': 31623755, 'user': 'surrendo', 'uid': 206006, 'timestamp': datetime.datetime(2015, 6, 1, 2, 59, 48), 'id': 3562536899, 'version': 1, 'lat': 4.4265418, 'lon': -75.7177253}\n",
      "\n",
      "\n"
     ]
    }
   ],
   "source": [
    "for s in response.nodes:\n",
    "    print(MyApi.NodeGet(s.id))\n",
    "    print(\"\\n\")\n"
   ]
  },
  {
   "cell_type": "code",
   "execution_count": 9,
   "metadata": {
    "collapsed": false
   },
   "outputs": [
    {
     "name": "stdout",
     "output_type": "stream",
     "text": [
      "{\"features\": [{\"geometry\": {\"coordinates\": [2.1895823, 41.3796015], \"type\": \"Point\"}, \"id\": 253774114, \"properties\": {\"is_in\": \"Barcelona\", \"name\": \"la Barceloneta\", \"note\": \"It is a suburb, but boundary limits are not yet established.\", \"place\": \"FIXME\"}, \"type\": \"Feature\"}, {\"geometry\": {\"coordinates\": [2.0570346, 41.3667951], \"type\": \"Point\"}, \"id\": 1470838836, \"properties\": {\"admin_level\": \"8\", \"capital\": \"8\", \"ele\": \"14\", \"is_in\": \"Barcelona\", \"is_in:country\": \"Spain\", \"is_in:country_code\": \"ES\", \"is_in:municipality\": \"Sant Joan Desp\\u00ed\", \"is_in:province_code\": \"08\", \"name\": \"Sant Joan Desp\\u00ed\", \"name:es\": \"San Juan Desp\\u00ed\", \"place\": \"town\", \"population\": \"32338\", \"population:date\": \"2009\", \"ref:ine\": \"08217000100\", \"source\": \"Instituto Geogr\\u00e1fico Nacional\", \"source:date\": \"2011-06\", \"source:ele\": \"MDT5\", \"source:file\": \"http://centrodedescargas.cnig.es/CentroDescargas/equipamiento/BD_Municipios-Entidades.zip\", \"source:name\": \"Nomencl\\u00e1tor Geogr\\u00e1fico de Municipios y Entidades de Poblaci\\u00f3n\"}, \"type\": \"Feature\"}, {\"geometry\": {\"coordinates\": [2.0750677, 41.3815832], \"type\": \"Point\"}, \"id\": 1470838887, \"properties\": {\"admin_level\": \"8\", \"capital\": \"8\", \"ele\": \"125\", \"is_in\": \"Barcelona\", \"is_in:country\": \"Spain\", \"is_in:country_code\": \"ES\", \"is_in:municipality\": \"Sant Just Desvern\", \"is_in:province_code\": \"08\", \"name\": \"Sant Just Desvern\", \"name:es\": \"San Justo Desvern\", \"place\": \"town\", \"population\": \"15923\", \"population:date\": \"2009\", \"ref:ine\": \"08221000100\", \"source\": \"Instituto Geogr\\u00e1fico Nacional\", \"source:date\": \"2011-06\", \"source:ele\": \"MDT5\", \"source:file\": \"http://centrodedescargas.cnig.es/CentroDescargas/equipamiento/BD_Municipios-Entidades.zip\", \"source:name\": \"Nomencl\\u00e1tor Geogr\\u00e1fico de Municipios y Entidades de Poblaci\\u00f3n\"}, \"type\": \"Feature\"}, {\"geometry\": {\"coordinates\": [-75.718344, 4.425693], \"type\": \"Point\"}, \"id\": 3537198689, \"properties\": {\"is_in\": \"Barcelona\", \"is_in:country\": \"Colombia\", \"is_in:state\": \"Quind\\u00edo\", \"is_in:town\": \"Calarc\\u00e1\", \"name\": \"Ancizar L\\u00f3pez\", \"place\": \"neighbourhood\"}, \"type\": \"Feature\"}, {\"geometry\": {\"coordinates\": [-75.7152548, 4.4276572], \"type\": \"Point\"}, \"id\": 3537198690, \"properties\": {\"is_in\": \"Barcelona\", \"is_in:country\": \"Colombia\", \"is_in:state\": \"Quind\\u00edo\", \"is_in:town\": \"Calarc\\u00e1\", \"name\": \"Caritas 1 Etapa\", \"place\": \"neighbourhood\"}, \"type\": \"Feature\"}, {\"geometry\": {\"coordinates\": [-75.7205235, 4.4270111], \"type\": \"Point\"}, \"id\": 3537198691, \"properties\": {\"is_in\": \"Barcelona\", \"is_in:country\": \"Colombia\", \"is_in:state\": \"Quind\\u00edo\", \"is_in:town\": \"Calarc\\u00e1\", \"name\": \"Cooviserq\", \"place\": \"neighbourhood\"}, \"type\": \"Feature\"}, {\"geometry\": {\"coordinates\": [-75.7195413, 4.42357], \"type\": \"Point\"}, \"id\": 3537198692, \"properties\": {\"is_in\": \"Barcelona\", \"is_in:country\": \"Colombia\", \"is_in:state\": \"Quind\\u00edo\", \"is_in:town\": \"Calarc\\u00e1\", \"name\": \"El Congal 1 Etapa\", \"place\": \"neighbourhood\"}, \"type\": \"Feature\"}, {\"geometry\": {\"coordinates\": [-75.721085, 4.4229748], \"type\": \"Point\"}, \"id\": 3537202793, \"properties\": {\"is_in\": \"Barcelona\", \"is_in:country\": \"Colombia\", \"is_in:state\": \"Quind\\u00edo\", \"is_in:town\": \"Calarc\\u00e1\", \"name\": \"El Congal 2 Etapa\", \"place\": \"neighbourhood\"}, \"type\": \"Feature\"}, {\"geometry\": {\"coordinates\": [-75.7168812, 4.4267664], \"type\": \"Point\"}, \"id\": 3537202794, \"properties\": {\"is_in\": \"Barcelona\", \"is_in:country\": \"Colombia\", \"is_in:state\": \"Quind\\u00edo\", \"is_in:town\": \"Calarc\\u00e1\", \"name\": \"El Porvenir\", \"place\": \"neighbourhood\"}, \"type\": \"Feature\"}, {\"geometry\": {\"coordinates\": [-75.7196661, 4.4261237], \"type\": \"Point\"}, \"id\": 3537202795, \"properties\": {\"is_in\": \"Barcelona\", \"is_in:country\": \"Colombia\", \"is_in:state\": \"Quind\\u00edo\", \"is_in:town\": \"Calarc\\u00e1\", \"name\": \"El Totumo\", \"place\": \"neighbourhood\"}, \"type\": \"Feature\"}, {\"geometry\": {\"coordinates\": [-75.7145545, 4.4266588], \"type\": \"Point\"}, \"id\": 3537202796, \"properties\": {\"is_in\": \"Barcelona\", \"is_in:country\": \"Colombia\", \"is_in:state\": \"Quind\\u00edo\", \"is_in:town\": \"Calarc\\u00e1\", \"name\": \"Europeo\", \"place\": \"neighbourhood\"}, \"type\": \"Feature\"}, {\"geometry\": {\"coordinates\": [-75.7190705, 4.4253765], \"type\": \"Point\"}, \"id\": 3537202797, \"properties\": {\"is_in\": \"Barcelona\", \"is_in:country\": \"Colombia\", \"is_in:state\": \"Quind\\u00edo\", \"is_in:town\": \"Calarc\\u00e1\", \"name\": \"Fundadores\", \"place\": \"neighbourhood\"}, \"type\": \"Feature\"}, {\"geometry\": {\"coordinates\": [-75.7173198, 4.4304109], \"type\": \"Point\"}, \"id\": 3537202798, \"properties\": {\"is_in\": \"Barcelona\", \"is_in:country\": \"Colombia\", \"is_in:state\": \"Quind\\u00edo\", \"is_in:town\": \"Calarc\\u00e1\", \"name\": \"Gait\\u00e1n\", \"place\": \"neighbourhood\"}, \"type\": \"Feature\"}, {\"geometry\": {\"coordinates\": [-75.7140342, 4.4272722], \"type\": \"Point\"}, \"id\": 3537202799, \"properties\": {\"is_in\": \"Barcelona\", \"is_in:country\": \"Colombia\", \"is_in:state\": \"Quind\\u00edo\", \"is_in:town\": \"Calarc\\u00e1\", \"name\": \"Italiano\", \"place\": \"neighbourhood\"}, \"type\": \"Feature\"}, {\"geometry\": {\"coordinates\": [-75.7178826, 4.4242215], \"type\": \"Point\"}, \"id\": 3537202800, \"properties\": {\"is_in\": \"Barcelona\", \"is_in:country\": \"Colombia\", \"is_in:state\": \"Quind\\u00edo\", \"is_in:town\": \"Calarc\\u00e1\", \"name\": \"Las Colinas\", \"place\": \"neighbourhood\"}, \"type\": \"Feature\"}, {\"geometry\": {\"coordinates\": [-75.7151599, 4.4261465], \"type\": \"Point\"}, \"id\": 3537202801, \"properties\": {\"is_in\": \"Barcelona\", \"is_in:country\": \"Colombia\", \"is_in:state\": \"Quind\\u00edo\", \"is_in:town\": \"Calarc\\u00e1\", \"name\": \"Los Alamos\", \"place\": \"neighbourhood\"}, \"type\": \"Feature\"}, {\"geometry\": {\"coordinates\": [-75.7169581, 4.4279834], \"type\": \"Point\"}, \"id\": 3537202802, \"properties\": {\"is_in\": \"Barcelona\", \"is_in:country\": \"Colombia\", \"is_in:state\": \"Quind\\u00edo\", \"is_in:town\": \"Calarc\\u00e1\", \"name\": \"Lucerito\", \"place\": \"neighbourhood\"}, \"type\": \"Feature\"}, {\"geometry\": {\"coordinates\": [-75.7167405, 4.4295496], \"type\": \"Point\"}, \"id\": 3537202803, \"properties\": {\"is_in\": \"Barcelona\", \"is_in:country\": \"Colombia\", \"is_in:state\": \"Quind\\u00edo\", \"is_in:town\": \"Calarc\\u00e1\", \"name\": \"Panorama 2 Etapa\", \"place\": \"neighbourhood\"}, \"type\": \"Feature\"}, {\"geometry\": {\"coordinates\": [-75.7179023, 4.4268154], \"type\": \"Point\"}, \"id\": 3537202804, \"properties\": {\"is_in\": \"Barcelona\", \"is_in:country\": \"Colombia\", \"is_in:state\": \"Quind\\u00edo\", \"is_in:town\": \"Calarc\\u00e1\", \"name\": \"Popular\", \"place\": \"neighbourhood\"}, \"type\": \"Feature\"}, {\"geometry\": {\"coordinates\": [-75.7213024, 4.4262738], \"type\": \"Point\"}, \"id\": 3537202805, \"properties\": {\"is_in\": \"Barcelona\", \"is_in:country\": \"Colombia\", \"is_in:state\": \"Quind\\u00edo\", \"is_in:town\": \"Calarc\\u00e1\", \"name\": \"San Felipe\", \"place\": \"neighbourhood\"}, \"type\": \"Feature\"}, {\"geometry\": {\"coordinates\": [-75.7216909, 4.424847], \"type\": \"Point\"}, \"id\": 3537202806, \"properties\": {\"is_in\": \"Barcelona\", \"is_in:country\": \"Colombia\", \"is_in:state\": \"Quind\\u00edo\", \"is_in:town\": \"Calarc\\u00e1\", \"name\": \"Uribe\", \"place\": \"neighbourhood\"}, \"type\": \"Feature\"}, {\"geometry\": {\"coordinates\": [-75.7175259, 4.4285626], \"type\": \"Point\"}, \"id\": 3537202807, \"properties\": {\"is_in\": \"Barcelona\", \"is_in:country\": \"Colombia\", \"is_in:state\": \"Quind\\u00edo\", \"is_in:town\": \"Calarc\\u00e1\", \"name\": \"V\\u00e9lez\", \"place\": \"neighbourhood\"}, \"type\": \"Feature\"}, {\"geometry\": {\"coordinates\": [-75.7180495, 4.4294451], \"type\": \"Point\"}, \"id\": 3537202808, \"properties\": {\"is_in\": \"Barcelona\", \"is_in:country\": \"Colombia\", \"is_in:state\": \"Quind\\u00edo\", \"is_in:town\": \"Calarc\\u00e1\", \"name\": \"Zuleta\", \"place\": \"neighbourhood\"}, \"type\": \"Feature\"}, {\"geometry\": {\"coordinates\": [-75.7177253, 4.4265418], \"type\": \"Point\"}, \"id\": 3562536899, \"properties\": {\"is_in\": \"Barcelona\", \"is_in:country\": \"Colombia\", \"is_in:state\": \"Quind\\u00edo\", \"is_in:town\": \"Calarc\\u00e1\", \"name\": \"El Remanso\", \"place\": \"neighbourhood\"}, \"type\": \"Feature\"}, {\"geometry\": {\"coordinates\": [2.1895823, 41.3796015], \"type\": \"Point\"}, \"id\": 253774114, \"properties\": {\"is_in\": \"Barcelona\", \"name\": \"la Barceloneta\", \"note\": \"It is a suburb, but boundary limits are not yet established.\", \"place\": \"FIXME\"}, \"type\": \"Feature\"}, {\"geometry\": {\"coordinates\": [2.0570346, 41.3667951], \"type\": \"Point\"}, \"id\": 1470838836, \"properties\": {\"admin_level\": \"8\", \"capital\": \"8\", \"ele\": \"14\", \"is_in\": \"Barcelona\", \"is_in:country\": \"Spain\", \"is_in:country_code\": \"ES\", \"is_in:municipality\": \"Sant Joan Desp\\u00ed\", \"is_in:province_code\": \"08\", \"name\": \"Sant Joan Desp\\u00ed\", \"name:es\": \"San Juan Desp\\u00ed\", \"place\": \"town\", \"population\": \"32338\", \"population:date\": \"2009\", \"ref:ine\": \"08217000100\", \"source\": \"Instituto Geogr\\u00e1fico Nacional\", \"source:date\": \"2011-06\", \"source:ele\": \"MDT5\", \"source:file\": \"http://centrodedescargas.cnig.es/CentroDescargas/equipamiento/BD_Municipios-Entidades.zip\", \"source:name\": \"Nomencl\\u00e1tor Geogr\\u00e1fico de Municipios y Entidades de Poblaci\\u00f3n\"}, \"type\": \"Feature\"}, {\"geometry\": {\"coordinates\": [2.0750677, 41.3815832], \"type\": \"Point\"}, \"id\": 1470838887, \"properties\": {\"admin_level\": \"8\", \"capital\": \"8\", \"ele\": \"125\", \"is_in\": \"Barcelona\", \"is_in:country\": \"Spain\", \"is_in:country_code\": \"ES\", \"is_in:municipality\": \"Sant Just Desvern\", \"is_in:province_code\": \"08\", \"name\": \"Sant Just Desvern\", \"name:es\": \"San Justo Desvern\", \"place\": \"town\", \"population\": \"15923\", \"population:date\": \"2009\", \"ref:ine\": \"08221000100\", \"source\": \"Instituto Geogr\\u00e1fico Nacional\", \"source:date\": \"2011-06\", \"source:ele\": \"MDT5\", \"source:file\": \"http://centrodedescargas.cnig.es/CentroDescargas/equipamiento/BD_Municipios-Entidades.zip\", \"source:name\": \"Nomencl\\u00e1tor Geogr\\u00e1fico de Municipios y Entidades de Poblaci\\u00f3n\"}, \"type\": \"Feature\"}, {\"geometry\": {\"coordinates\": [-75.718344, 4.425693], \"type\": \"Point\"}, \"id\": 3537198689, \"properties\": {\"is_in\": \"Barcelona\", \"is_in:country\": \"Colombia\", \"is_in:state\": \"Quind\\u00edo\", \"is_in:town\": \"Calarc\\u00e1\", \"name\": \"Ancizar L\\u00f3pez\", \"place\": \"neighbourhood\"}, \"type\": \"Feature\"}, {\"geometry\": {\"coordinates\": [-75.7152548, 4.4276572], \"type\": \"Point\"}, \"id\": 3537198690, \"properties\": {\"is_in\": \"Barcelona\", \"is_in:country\": \"Colombia\", \"is_in:state\": \"Quind\\u00edo\", \"is_in:town\": \"Calarc\\u00e1\", \"name\": \"Caritas 1 Etapa\", \"place\": \"neighbourhood\"}, \"type\": \"Feature\"}, {\"geometry\": {\"coordinates\": [-75.7205235, 4.4270111], \"type\": \"Point\"}, \"id\": 3537198691, \"properties\": {\"is_in\": \"Barcelona\", \"is_in:country\": \"Colombia\", \"is_in:state\": \"Quind\\u00edo\", \"is_in:town\": \"Calarc\\u00e1\", \"name\": \"Cooviserq\", \"place\": \"neighbourhood\"}, \"type\": \"Feature\"}, {\"geometry\": {\"coordinates\": [-75.7195413, 4.42357], \"type\": \"Point\"}, \"id\": 3537198692, \"properties\": {\"is_in\": \"Barcelona\", \"is_in:country\": \"Colombia\", \"is_in:state\": \"Quind\\u00edo\", \"is_in:town\": \"Calarc\\u00e1\", \"name\": \"El Congal 1 Etapa\", \"place\": \"neighbourhood\"}, \"type\": \"Feature\"}, {\"geometry\": {\"coordinates\": [-75.721085, 4.4229748], \"type\": \"Point\"}, \"id\": 3537202793, \"properties\": {\"is_in\": \"Barcelona\", \"is_in:country\": \"Colombia\", \"is_in:state\": \"Quind\\u00edo\", \"is_in:town\": \"Calarc\\u00e1\", \"name\": \"El Congal 2 Etapa\", \"place\": \"neighbourhood\"}, \"type\": \"Feature\"}, {\"geometry\": {\"coordinates\": [-75.7168812, 4.4267664], \"type\": \"Point\"}, \"id\": 3537202794, \"properties\": {\"is_in\": \"Barcelona\", \"is_in:country\": \"Colombia\", \"is_in:state\": \"Quind\\u00edo\", \"is_in:town\": \"Calarc\\u00e1\", \"name\": \"El Porvenir\", \"place\": \"neighbourhood\"}, \"type\": \"Feature\"}, {\"geometry\": {\"coordinates\": [-75.7196661, 4.4261237], \"type\": \"Point\"}, \"id\": 3537202795, \"properties\": {\"is_in\": \"Barcelona\", \"is_in:country\": \"Colombia\", \"is_in:state\": \"Quind\\u00edo\", \"is_in:town\": \"Calarc\\u00e1\", \"name\": \"El Totumo\", \"place\": \"neighbourhood\"}, \"type\": \"Feature\"}, {\"geometry\": {\"coordinates\": [-75.7145545, 4.4266588], \"type\": \"Point\"}, \"id\": 3537202796, \"properties\": {\"is_in\": \"Barcelona\", \"is_in:country\": \"Colombia\", \"is_in:state\": \"Quind\\u00edo\", \"is_in:town\": \"Calarc\\u00e1\", \"name\": \"Europeo\", \"place\": \"neighbourhood\"}, \"type\": \"Feature\"}, {\"geometry\": {\"coordinates\": [-75.7190705, 4.4253765], \"type\": \"Point\"}, \"id\": 3537202797, \"properties\": {\"is_in\": \"Barcelona\", \"is_in:country\": \"Colombia\", \"is_in:state\": \"Quind\\u00edo\", \"is_in:town\": \"Calarc\\u00e1\", \"name\": \"Fundadores\", \"place\": \"neighbourhood\"}, \"type\": \"Feature\"}, {\"geometry\": {\"coordinates\": [-75.7173198, 4.4304109], \"type\": \"Point\"}, \"id\": 3537202798, \"properties\": {\"is_in\": \"Barcelona\", \"is_in:country\": \"Colombia\", \"is_in:state\": \"Quind\\u00edo\", \"is_in:town\": \"Calarc\\u00e1\", \"name\": \"Gait\\u00e1n\", \"place\": \"neighbourhood\"}, \"type\": \"Feature\"}, {\"geometry\": {\"coordinates\": [-75.7140342, 4.4272722], \"type\": \"Point\"}, \"id\": 3537202799, \"properties\": {\"is_in\": \"Barcelona\", \"is_in:country\": \"Colombia\", \"is_in:state\": \"Quind\\u00edo\", \"is_in:town\": \"Calarc\\u00e1\", \"name\": \"Italiano\", \"place\": \"neighbourhood\"}, \"type\": \"Feature\"}, {\"geometry\": {\"coordinates\": [-75.7178826, 4.4242215], \"type\": \"Point\"}, \"id\": 3537202800, \"properties\": {\"is_in\": \"Barcelona\", \"is_in:country\": \"Colombia\", \"is_in:state\": \"Quind\\u00edo\", \"is_in:town\": \"Calarc\\u00e1\", \"name\": \"Las Colinas\", \"place\": \"neighbourhood\"}, \"type\": \"Feature\"}, {\"geometry\": {\"coordinates\": [-75.7151599, 4.4261465], \"type\": \"Point\"}, \"id\": 3537202801, \"properties\": {\"is_in\": \"Barcelona\", \"is_in:country\": \"Colombia\", \"is_in:state\": \"Quind\\u00edo\", \"is_in:town\": \"Calarc\\u00e1\", \"name\": \"Los Alamos\", \"place\": \"neighbourhood\"}, \"type\": \"Feature\"}, {\"geometry\": {\"coordinates\": [-75.7169581, 4.4279834], \"type\": \"Point\"}, \"id\": 3537202802, \"properties\": {\"is_in\": \"Barcelona\", \"is_in:country\": \"Colombia\", \"is_in:state\": \"Quind\\u00edo\", \"is_in:town\": \"Calarc\\u00e1\", \"name\": \"Lucerito\", \"place\": \"neighbourhood\"}, \"type\": \"Feature\"}, {\"geometry\": {\"coordinates\": [-75.7167405, 4.4295496], \"type\": \"Point\"}, \"id\": 3537202803, \"properties\": {\"is_in\": \"Barcelona\", \"is_in:country\": \"Colombia\", \"is_in:state\": \"Quind\\u00edo\", \"is_in:town\": \"Calarc\\u00e1\", \"name\": \"Panorama 2 Etapa\", \"place\": \"neighbourhood\"}, \"type\": \"Feature\"}, {\"geometry\": {\"coordinates\": [-75.7179023, 4.4268154], \"type\": \"Point\"}, \"id\": 3537202804, \"properties\": {\"is_in\": \"Barcelona\", \"is_in:country\": \"Colombia\", \"is_in:state\": \"Quind\\u00edo\", \"is_in:town\": \"Calarc\\u00e1\", \"name\": \"Popular\", \"place\": \"neighbourhood\"}, \"type\": \"Feature\"}, {\"geometry\": {\"coordinates\": [-75.7213024, 4.4262738], \"type\": \"Point\"}, \"id\": 3537202805, \"properties\": {\"is_in\": \"Barcelona\", \"is_in:country\": \"Colombia\", \"is_in:state\": \"Quind\\u00edo\", \"is_in:town\": \"Calarc\\u00e1\", \"name\": \"San Felipe\", \"place\": \"neighbourhood\"}, \"type\": \"Feature\"}, {\"geometry\": {\"coordinates\": [-75.7216909, 4.424847], \"type\": \"Point\"}, \"id\": 3537202806, \"properties\": {\"is_in\": \"Barcelona\", \"is_in:country\": \"Colombia\", \"is_in:state\": \"Quind\\u00edo\", \"is_in:town\": \"Calarc\\u00e1\", \"name\": \"Uribe\", \"place\": \"neighbourhood\"}, \"type\": \"Feature\"}, {\"geometry\": {\"coordinates\": [-75.7175259, 4.4285626], \"type\": \"Point\"}, \"id\": 3537202807, \"properties\": {\"is_in\": \"Barcelona\", \"is_in:country\": \"Colombia\", \"is_in:state\": \"Quind\\u00edo\", \"is_in:town\": \"Calarc\\u00e1\", \"name\": \"V\\u00e9lez\", \"place\": \"neighbourhood\"}, \"type\": \"Feature\"}, {\"geometry\": {\"coordinates\": [-75.7180495, 4.4294451], \"type\": \"Point\"}, \"id\": 3537202808, \"properties\": {\"is_in\": \"Barcelona\", \"is_in:country\": \"Colombia\", \"is_in:state\": \"Quind\\u00edo\", \"is_in:town\": \"Calarc\\u00e1\", \"name\": \"Zuleta\", \"place\": \"neighbourhood\"}, \"type\": \"Feature\"}, {\"geometry\": {\"coordinates\": [-75.7177253, 4.4265418], \"type\": \"Point\"}, \"id\": 3562536899, \"properties\": {\"is_in\": \"Barcelona\", \"is_in:country\": \"Colombia\", \"is_in:state\": \"Quind\\u00edo\", \"is_in:town\": \"Calarc\\u00e1\", \"name\": \"El Remanso\", \"place\": \"neighbourhood\"}, \"type\": \"Feature\"}], \"type\": \"FeatureCollection\"}\n"
     ]
    }
   ],
   "source": [
    "print(resultPass)"
   ]
  },
  {
   "cell_type": "code",
   "execution_count": 10,
   "metadata": {
    "collapsed": false
   },
   "outputs": [],
   "source": [
    "result2 =  apiOverPy.query(\"\"\"node(2.0719, 41.3211, 2.2273, 41.4686);out;\"\"\");"
   ]
  },
  {
   "cell_type": "code",
   "execution_count": 11,
   "metadata": {
    "collapsed": false
   },
   "outputs": [
    {
     "name": "stdout",
     "output_type": "stream",
     "text": [
      "[<overpy.Node id=1401883734 lat=2.1954000 lon=41.3694000>, <overpy.Node id=1401884415 lat=2.0957000 lon=41.3913850>, <overpy.Node id=1401892773 lat=2.1649580 lon=41.3596020>, <overpy.Node id=1411073910 lat=2.0721760 lon=41.4529820>, <overpy.Node id=1411073925 lat=2.0723700 lon=41.3403230>, <overpy.Node id=1411073964 lat=2.0729060 lon=41.4169570>, <overpy.Node id=1411073973 lat=2.0730550 lon=41.4155280>, <overpy.Node id=1411073980 lat=2.0730840 lon=41.3410680>, <overpy.Node id=1411073982 lat=2.0731740 lon=41.4192790>, <overpy.Node id=1411074003 lat=2.0734860 lon=41.3793250>, <overpy.Node id=1411074011 lat=2.0735900 lon=41.3881970>, <overpy.Node id=1411074013 lat=2.0735900 lon=41.4136520>, <overpy.Node id=1411074099 lat=2.0735900 lon=41.4215720>, <overpy.Node id=1411074113 lat=2.0736580 lon=41.3819610>, <overpy.Node id=1411074115 lat=2.0736650 lon=41.3786110>, <overpy.Node id=1411074117 lat=2.0736650 lon=41.3820640>, <overpy.Node id=1411074124 lat=2.0737390 lon=41.3849220>, <overpy.Node id=1411074129 lat=2.0737690 lon=41.3888520>, <overpy.Node id=1411074131 lat=2.0737990 lon=41.3861130>, <overpy.Node id=1411074133 lat=2.0737990 lon=41.3870060>, <overpy.Node id=1411074139 lat=2.0738580 lon=41.4247870>, <overpy.Node id=1411074146 lat=2.0739180 lon=41.3420200>, <overpy.Node id=1411074149 lat=2.0739480 lon=41.3894180>, <overpy.Node id=1411074152 lat=2.0739920 lon=41.3775690>, <overpy.Node id=1411074175 lat=2.0741260 lon=41.4273480>, <overpy.Node id=1411074199 lat=2.0743790 lon=41.3769140>, <overpy.Node id=1411074209 lat=2.0744240 lon=41.3901030>, <overpy.Node id=1411074227 lat=2.0746470 lon=41.4417280>, <overpy.Node id=1411074243 lat=2.0747810 lon=41.4104970>, <overpy.Node id=1411074261 lat=2.0748710 lon=41.3446110>, <overpy.Node id=1411074263 lat=2.0748710 lon=41.3456530>, <overpy.Node id=1411074285 lat=2.0749000 lon=41.3908470>, <overpy.Node id=1411074288 lat=2.0749000 lon=41.4298490>, <overpy.Node id=1411074295 lat=2.0749900 lon=41.3435690>, <overpy.Node id=1411074298 lat=2.0749900 lon=41.3470220>, <overpy.Node id=1411074300 lat=2.0750200 lon=41.4088590>, <overpy.Node id=1411074303 lat=2.0750640 lon=41.3761390>, <overpy.Node id=1411074330 lat=2.0751090 lon=41.4076680>, <overpy.Node id=1411074334 lat=2.0752580 lon=41.3914720>, <overpy.Node id=1411074359 lat=2.0753170 lon=41.4066860>, <overpy.Node id=1411074392 lat=2.0754960 lon=41.3921870>, <overpy.Node id=1411074396 lat=2.0755550 lon=41.3488090>, <overpy.Node id=1411074400 lat=2.0755550 lon=41.4094250>, <overpy.Node id=1411074414 lat=2.0756750 lon=41.3932290>, <overpy.Node id=1411074448 lat=2.0757940 lon=41.3940920>, <overpy.Node id=1411074465 lat=2.0759130 lon=41.4042740>, <overpy.Node id=1411074471 lat=2.0760020 lon=41.4312180>, <overpy.Node id=1411074475 lat=2.0760170 lon=41.3409780>, <overpy.Node id=1411074478 lat=2.0760170 lon=41.4522670>, <overpy.Node id=1411074482 lat=2.0760470 lon=41.3751570>, <overpy.Node id=1411074499 lat=2.0762100 lon=41.3951640>, <overpy.Node id=1411074512 lat=2.0762700 lon=41.4014760>, <overpy.Node id=1411074549 lat=2.0764780 lon=41.3505950>, <overpy.Node id=1411074551 lat=2.0765080 lon=41.3960570>, <overpy.Node id=1411074579 lat=2.0766270 lon=41.3970400>, <overpy.Node id=1411074581 lat=2.0766270 lon=41.3982010>, <overpy.Node id=1411074602 lat=2.0769250 lon=41.3528870>, <overpy.Node id=1411074613 lat=2.0770890 lon=41.3394300>, <overpy.Node id=1411074628 lat=2.0772520 lon=41.4322600>, <overpy.Node id=1411074635 lat=2.0774910 lon=41.3741450>, <overpy.Node id=1411074639 lat=2.0775060 lon=41.4077580>, <overpy.Node id=1411074673 lat=2.0776250 lon=41.3551800>, <overpy.Node id=1411074805 lat=2.0779520 lon=41.4417870>, <overpy.Node id=1411074822 lat=2.0782500 lon=41.3558350>, <overpy.Node id=1411074826 lat=2.0783090 lon=41.4065370>, <overpy.Node id=1411074827 lat=2.0783840 lon=41.3734000>, <overpy.Node id=1411074836 lat=2.0786670 lon=41.4515520>, <overpy.Node id=1411074838 lat=2.0788010 lon=41.3728940>, <overpy.Node id=1411074845 lat=2.0788450 lon=41.4054060>, <overpy.Node id=1411074853 lat=2.0789640 lon=41.3564900>, <overpy.Node id=1411074858 lat=2.0790540 lon=41.3379420>, <overpy.Node id=1411074862 lat=2.0790980 lon=41.4330340>, <overpy.Node id=1411074868 lat=2.0793510 lon=41.4046020>, <overpy.Node id=1411074875 lat=2.0794850 lon=41.3718520>, <overpy.Node id=1411074888 lat=2.0798280 lon=41.3569660>, <overpy.Node id=1411074902 lat=2.0802890 lon=41.3696790>, <overpy.Node id=1411074928 lat=2.0805870 lon=41.3685480>, <overpy.Node id=1411074930 lat=2.0806610 lon=41.3577100>, <overpy.Node id=1411074931 lat=2.0807510 lon=41.4031130>, <overpy.Node id=1411074939 lat=2.0809590 lon=41.4506000>, <overpy.Node id=1411074955 lat=2.0811530 lon=41.4344630>, <overpy.Node id=1411074959 lat=2.0812120 lon=41.3673270>, <overpy.Node id=1411074977 lat=2.0817930 lon=41.3588720>, <overpy.Node id=1411074992 lat=2.0820760 lon=41.3663440>, <overpy.Node id=1411074993 lat=2.0821200 lon=41.4020110>, <overpy.Node id=1411075003 lat=2.0822990 lon=41.4499150>, <overpy.Node id=1411075007 lat=2.0824630 lon=41.4355950>, <overpy.Node id=1411075012 lat=2.0825070 lon=41.3598840>, <overpy.Node id=1411075026 lat=2.0828650 lon=41.3356190>, <overpy.Node id=1411075047 lat=2.0835640 lon=41.3650640>, <overpy.Node id=1411075086 lat=2.0838170 lon=41.4008500>, <overpy.Node id=1411075089 lat=2.0838770 lon=41.4427100>, <overpy.Node id=1411075100 lat=2.0842190 lon=41.3642900>, <overpy.Node id=1411075112 lat=2.0845020 lon=41.4484560>, <overpy.Node id=1411075116 lat=2.0845470 lon=41.3633970>, <overpy.Node id=1411075130 lat=2.0848440 lon=41.3624740>, <overpy.Node id=1411075141 lat=2.0851120 lon=41.4382440>, <overpy.Node id=1411075151 lat=2.0853430 lon=41.3629160>, <overpy.Node id=1411075214 lat=2.0860200 lon=41.4405670>, <overpy.Node id=1411075240 lat=2.0862440 lon=41.3337440>, <overpy.Node id=1411075249 lat=2.0862880 lon=41.4468780>, <overpy.Node id=1411075274 lat=2.0865860 lon=41.4422340>, <overpy.Node id=1411075291 lat=2.0867440 lon=41.4427970>, <overpy.Node id=1411075299 lat=2.0868240 lon=41.4427990>, <overpy.Node id=1411075307 lat=2.0868840 lon=41.4460740>, <overpy.Node id=1411075314 lat=2.0869280 lon=41.3643200>, <overpy.Node id=1411075332 lat=2.0870030 lon=41.4437220>, <overpy.Node id=1411075334 lat=2.0870030 lon=41.4445560>, <overpy.Node id=1411075338 lat=2.0870480 lon=41.3984690>, <overpy.Node id=1411075359 lat=2.0872710 lon=41.4427100>, <overpy.Node id=1411075394 lat=2.0880150 lon=41.4425020>, <overpy.Node id=1411075415 lat=2.0882090 lon=41.3662250>, <overpy.Node id=1411075454 lat=2.0887590 lon=41.4420550>, <overpy.Node id=1411075590 lat=2.0899060 lon=41.3962950>, <overpy.Node id=1411075633 lat=2.0903820 lon=41.3689350>, <overpy.Node id=1411075670 lat=2.0909770 lon=41.3321960>, <overpy.Node id=1411075696 lat=2.0911860 lon=41.3952530>, <overpy.Node id=1411075706 lat=2.0913350 lon=41.3706910>, <overpy.Node id=1411075823 lat=2.0928530 lon=41.3736090>, <overpy.Node id=1411075854 lat=2.0933290 lon=41.3942410>, <overpy.Node id=1411075893 lat=2.0938650 lon=41.3767650>, <overpy.Node id=1411075914 lat=2.0941930 lon=41.4376790>, <overpy.Node id=1411075918 lat=2.0942820 lon=41.3310640>, <overpy.Node id=1411075965 lat=2.0949070 lon=41.3791760>, <overpy.Node id=1411076080 lat=2.0952350 lon=41.3934670>, <overpy.Node id=1411076105 lat=2.0955620 lon=41.4371720>, <overpy.Node id=1411076136 lat=2.0958300 lon=41.3809920>, <overpy.Node id=1411076195 lat=2.0962770 lon=41.3926330>, <overpy.Node id=1411076201 lat=2.0963360 lon=41.3817960>, <overpy.Node id=1411076295 lat=2.0971110 lon=41.4366960>, <overpy.Node id=1411076307 lat=2.0972590 lon=41.3913230>, <overpy.Node id=1411076335 lat=2.0977510 lon=41.3302010>, <overpy.Node id=1411076352 lat=2.0979140 lon=41.3835230>, <overpy.Node id=1411076354 lat=2.0979440 lon=41.3898350>, <overpy.Node id=1411076374 lat=2.0981230 lon=41.4366660>, <overpy.Node id=1411076376 lat=2.0981530 lon=41.3924550>, <overpy.Node id=1411076403 lat=2.0985190 lon=41.3414390>, <overpy.Node id=1411076405 lat=2.0985990 lon=41.3843570>, <overpy.Node id=1411076418 lat=2.0987780 lon=41.3871850>, <overpy.Node id=1411076423 lat=2.0988370 lon=41.3850710>, <overpy.Node id=1411076430 lat=2.0989560 lon=41.3861130>, <overpy.Node id=1411076660 lat=2.0996410 lon=41.3922460>, <overpy.Node id=1411076707 lat=2.1000430 lon=41.3293380>, <overpy.Node id=1411076724 lat=2.1002070 lon=41.4371130>, <overpy.Node id=1411076775 lat=2.1011740 lon=41.3283850>, <overpy.Node id=1411076778 lat=2.1012790 lon=41.3917400>, <overpy.Node id=1411076807 lat=2.1016360 lon=41.4370530>, <overpy.Node id=1411076828 lat=2.1019780 lon=41.3214180>, <overpy.Node id=1411076831 lat=2.1020080 lon=41.3272240>, <overpy.Node id=1411076864 lat=2.1023800 lon=41.3915910>, <overpy.Node id=1411076868 lat=2.1023950 lon=41.3220730>, <overpy.Node id=1411076903 lat=2.1026930 lon=41.3264200>, <overpy.Node id=1411076915 lat=2.1029760 lon=41.4366660>, <overpy.Node id=1411076940 lat=2.1031840 lon=41.4371430>, <overpy.Node id=1411076956 lat=2.1032730 lon=41.3914130>, <overpy.Node id=1411076967 lat=2.1033630 lon=41.4388990>, <overpy.Node id=1411077002 lat=2.1037940 lon=41.3256160>, <overpy.Node id=1411077019 lat=2.1039580 lon=41.4403880>, <overpy.Node id=1411077139 lat=2.1045390 lon=41.3234130>, <overpy.Node id=1411077141 lat=2.1045680 lon=41.4359220>, <overpy.Node id=1411077155 lat=2.1047620 lon=41.4420850>, <overpy.Node id=1411077158 lat=2.1047920 lon=41.3916510>, <overpy.Node id=1411077173 lat=2.1048660 lon=41.3251990>, <overpy.Node id=1411077242 lat=2.1061170 lon=41.4349100>, <overpy.Node id=1411077245 lat=2.1061320 lon=41.3927230>, <overpy.Node id=1411077255 lat=2.1062380 lon=41.3248460>, <overpy.Node id=1411077279 lat=2.1067270 lon=41.4453000>, <overpy.Node id=1411077315 lat=2.1072630 lon=41.4529220>, <overpy.Node id=1411077324 lat=2.1073520 lon=41.4521180>, <overpy.Node id=1411077339 lat=2.1074710 lon=41.4539040>, <overpy.Node id=1411077344 lat=2.1075460 lon=41.4336300>, <overpy.Node id=1411077358 lat=2.1075900 lon=41.4480100>, <overpy.Node id=1411077385 lat=2.1078290 lon=41.4508080>, <overpy.Node id=1411077403 lat=2.1078880 lon=41.4501830>, <overpy.Node id=1411077430 lat=2.1080560 lon=41.3258780>, <overpy.Node id=1411077434 lat=2.1080670 lon=41.3258840>, <overpy.Node id=1411077470 lat=2.1084540 lon=41.3243060>, <overpy.Node id=1411077494 lat=2.1085730 lon=41.4558990>, <overpy.Node id=1411077526 lat=2.1087370 lon=41.4325280>, <overpy.Node id=1411077567 lat=2.1090340 lon=41.4134740>, <overpy.Node id=1411077648 lat=2.1090940 lon=41.4139500>, <overpy.Node id=1411077670 lat=2.1091680 lon=41.3954620>, <overpy.Node id=1411077673 lat=2.1091830 lon=41.4141590>, <overpy.Node id=1411077675 lat=2.1092130 lon=41.4130570>, <overpy.Node id=1411077677 lat=2.1092900 lon=41.3238650>, <overpy.Node id=1411077692 lat=2.1093620 lon=41.4143070>, <overpy.Node id=1411077709 lat=2.1095260 lon=41.3237400>, <overpy.Node id=1411077715 lat=2.1096300 lon=41.4127000>, <overpy.Node id=1411077738 lat=2.1097790 lon=41.4146050>, <overpy.Node id=1411077773 lat=2.1101210 lon=41.3967420>, <overpy.Node id=1411077788 lat=2.1102100 lon=41.3226980>, <overpy.Node id=1411077792 lat=2.1102250 lon=41.4151110>, <overpy.Node id=1411077798 lat=2.1102400 lon=41.4575070>, <overpy.Node id=1411077804 lat=2.1102850 lon=41.4120150>, <overpy.Node id=1411077808 lat=2.1102850 lon=41.4319030>, <overpy.Node id=1411077830 lat=2.1104630 lon=41.4161530>, <overpy.Node id=1411077847 lat=2.1105170 lon=41.3218630>, <overpy.Node id=1411077849 lat=2.1105230 lon=41.4178800>, <overpy.Node id=1411077854 lat=2.1105380 lon=41.3218050>, <overpy.Node id=1411077857 lat=2.1105530 lon=41.4168080>, <overpy.Node id=1411077874 lat=2.1106420 lon=41.4186240>, <overpy.Node id=1411077880 lat=2.1106570 lon=41.3978430>, <overpy.Node id=1411077883 lat=2.1106720 lon=41.4113600>, <overpy.Node id=1411077910 lat=2.1109690 lon=41.4192200>, <overpy.Node id=1411077913 lat=2.1110590 lon=41.4106160>, <overpy.Node id=1411077929 lat=2.1111780 lon=41.4102290>, <overpy.Node id=1411077953 lat=2.1114460 lon=41.4316650>, <overpy.Node id=1411077974 lat=2.1115200 lon=41.4074900>, <overpy.Node id=1411078006 lat=2.1117880 lon=41.4000470>, <overpy.Node id=1411078052 lat=2.1121750 lon=41.4055250>, <overpy.Node id=1411078077 lat=2.1122350 lon=41.4589360>, <overpy.Node id=1411078093 lat=2.1122940 lon=41.4665280>, <overpy.Node id=1411078111 lat=2.1123240 lon=41.4684040>, <overpy.Node id=1411078118 lat=2.1123390 lon=41.4018630>, <overpy.Node id=1411078120 lat=2.1123690 lon=41.4206190>, <overpy.Node id=1411078124 lat=2.1123840 lon=41.4645330>, <overpy.Node id=1411078129 lat=2.1124730 lon=41.4043340>, <overpy.Node id=1411078146 lat=2.1125030 lon=41.3304990>, <overpy.Node id=1411078156 lat=2.1125920 lon=41.4629550>, <overpy.Node id=1411078268 lat=2.1127410 lon=41.4597700>, <overpy.Node id=1411078275 lat=2.1129200 lon=41.4619130>, <overpy.Node id=1411078280 lat=2.1129640 lon=41.4030540>, <overpy.Node id=1411078281 lat=2.1129790 lon=41.4606030>, <overpy.Node id=1411078292 lat=2.1130680 lon=41.4610800>, <overpy.Node id=1411078296 lat=2.1131130 lon=41.4316940>, <overpy.Node id=1411078337 lat=2.1140060 lon=41.4227330>, <overpy.Node id=1411078350 lat=2.1142150 lon=41.4315750>, <overpy.Node id=1411078375 lat=2.1147800 lon=41.4238640>, <overpy.Node id=1411078396 lat=2.1151380 lon=41.4248170>, <overpy.Node id=1411078399 lat=2.1152120 lon=41.4002250>, <overpy.Node id=1411078421 lat=2.1153160 lon=41.4258890>, <overpy.Node id=1411078439 lat=2.1153760 lon=41.4282710>, <overpy.Node id=1411078478 lat=2.1157630 lon=41.4294020>, <overpy.Node id=1411078479 lat=2.1158220 lon=41.3352920>, <overpy.Node id=1411078532 lat=2.1162690 lon=41.4307120>, <overpy.Node id=1411078558 lat=2.1165220 lon=41.3993920>, <overpy.Node id=1411078610 lat=2.1170430 lon=41.4319330>, <overpy.Node id=1411078866 lat=2.1179360 lon=41.4322900>, <overpy.Node id=1411078908 lat=2.1183530 lon=41.3374060>, <overpy.Node id=1411078968 lat=2.1188440 lon=41.3981410>, <overpy.Node id=1411079107 lat=2.1200650 lon=41.4329150>, <overpy.Node id=1411079170 lat=2.1205110 lon=41.4332430>, <overpy.Node id=1411079193 lat=2.1207200 lon=41.3968010>, <overpy.Node id=1411079199 lat=2.1207500 lon=41.4334810>, <overpy.Node id=1411079238 lat=2.1211070 lon=41.3962950>, <overpy.Node id=1411079248 lat=2.1211960 lon=41.4345820>, <overpy.Node id=1411079266 lat=2.1214050 lon=41.3957590>, <overpy.Node id=1411079290 lat=2.1217020 lon=41.4349690>, <overpy.Node id=1411079296 lat=2.1217620 lon=41.3940920>, <overpy.Node id=1411079304 lat=2.1218070 lon=41.3402040>, <overpy.Node id=1411079352 lat=2.1222980 lon=41.3926030>, <overpy.Node id=1411079353 lat=2.1223280 lon=41.4352370>, <overpy.Node id=1411079404 lat=2.1229830 lon=41.3912340>, <overpy.Node id=1411079508 lat=2.1235780 lon=41.3903110>, <overpy.Node id=1411079525 lat=2.1237860 lon=41.4357430>, <overpy.Node id=1411079549 lat=2.1241880 lon=41.3429430>, <overpy.Node id=1411079558 lat=2.1244120 lon=41.3894770>, <overpy.Node id=1411079571 lat=2.1245610 lon=41.4361600>, <overpy.Node id=1411079600 lat=2.1250670 lon=41.4364880>, <overpy.Node id=1411079606 lat=2.1252450 lon=41.4367560>, <overpy.Node id=1411079612 lat=2.1252750 lon=41.3888220>, <overpy.Node id=1411079616 lat=2.1253640 lon=41.4371130>, <overpy.Node id=1411079618 lat=2.1254540 lon=41.4376790>, <overpy.Node id=1411079622 lat=2.1255160 lon=41.4367090>, <overpy.Node id=1411079641 lat=2.1257510 lon=41.3879590>, <overpy.Node id=1411079642 lat=2.1258410 lon=41.4386310>, <overpy.Node id=1411079655 lat=2.1260490 lon=41.4392860>, <overpy.Node id=1411079680 lat=2.1263470 lon=41.4398220>, <overpy.Node id=1411079683 lat=2.1264060 lon=41.3865890>, <overpy.Node id=1411079703 lat=2.1266890 lon=41.3466050>, <overpy.Node id=1411079740 lat=2.1272100 lon=41.3849820>, <overpy.Node id=1411079756 lat=2.1274740 lon=41.4363700>, <overpy.Node id=1411079782 lat=2.1279840 lon=41.3841180>, <overpy.Node id=1411079803 lat=2.1284460 lon=41.3508930>, <overpy.Node id=1411079805 lat=2.1284610 lon=41.3642010>, <overpy.Node id=1411079807 lat=2.1284900 lon=41.3650640>, <overpy.Node id=1411079860 lat=2.1286390 lon=41.3661060>, <overpy.Node id=1411079871 lat=2.1287580 lon=41.3833740>, <overpy.Node id=1411079877 lat=2.1288480 lon=41.3636950>, <overpy.Node id=1411079885 lat=2.1290560 lon=41.3673860>, <overpy.Node id=1411079888 lat=2.1291280 lon=41.4361630>, <overpy.Node id=1411079891 lat=2.1291450 lon=41.3632480>, <overpy.Node id=1411079900 lat=2.1292650 lon=41.3554180>, <overpy.Node id=1411079901 lat=2.1292650 lon=41.3786400>, <overpy.Node id=1411079909 lat=2.1293540 lon=41.3826890>, <overpy.Node id=1411079920 lat=2.1294730 lon=41.3770920>, <overpy.Node id=1411079926 lat=2.1295920 lon=41.3800690>, <overpy.Node id=1411079932 lat=2.1296520 lon=41.3688450>, <overpy.Node id=1411079933 lat=2.1296810 lon=41.3569360>, <overpy.Node id=1411079941 lat=2.1297710 lon=41.3622060>, <overpy.Node id=1411079945 lat=2.1298300 lon=41.3613720>, <overpy.Node id=1411079948 lat=2.1298600 lon=41.3756040>, <overpy.Node id=1411079953 lat=2.1298900 lon=41.3594670>, <overpy.Node id=1411079962 lat=2.1300680 lon=41.3707510>, <overpy.Node id=1411079966 lat=2.1300770 lon=41.3815030>, <overpy.Node id=1411079968 lat=2.1300980 lon=41.3814690>, <overpy.Node id=1411079969 lat=2.1301280 lon=41.3741150>, <overpy.Node id=1411079975 lat=2.1302470 lon=41.3731320>, <overpy.Node id=1411079978 lat=2.1302770 lon=41.3820940>, <overpy.Node id=1411079982 lat=2.1303070 lon=41.3720010>, <overpy.Node id=1411080012 lat=2.1310660 lon=41.3801290>, <overpy.Node id=1411080028 lat=2.1313490 lon=41.3850120>, <overpy.Node id=1411080058 lat=2.1316020 lon=41.4454490>, <overpy.Node id=1411080072 lat=2.1318100 lon=41.3796230>, <overpy.Node id=1411080074 lat=2.1319140 lon=41.3859050>, <overpy.Node id=1411080113 lat=2.1323010 lon=41.3863220>, <overpy.Node id=1411080130 lat=2.1327330 lon=41.3791760>, <overpy.Node id=1411080190 lat=2.1330160 lon=41.3867680>, <overpy.Node id=1411080206 lat=2.1332990 lon=41.3791460>, <overpy.Node id=1411080218 lat=2.1335220 lon=41.3872440>, <overpy.Node id=1411080235 lat=2.1338350 lon=41.3791760>, <overpy.Node id=1411080237 lat=2.1338490 lon=41.3879590>, <overpy.Node id=1411080254 lat=2.1342660 lon=41.3889410>, <overpy.Node id=1411080267 lat=2.1344900 lon=41.3791460>, <overpy.Node id=1411080291 lat=2.1351740 lon=41.3789680>, <overpy.Node id=1411080296 lat=2.1352490 lon=41.3898640>, <overpy.Node id=1411080298 lat=2.1353330 lon=41.4307860>, <overpy.Node id=1411080301 lat=2.1354420 lon=41.4494680>, <overpy.Node id=1411080322 lat=2.1357400 lon=41.3787890>, <overpy.Node id=1411080344 lat=2.1363650 lon=41.3785210>, <overpy.Node id=1411080354 lat=2.1365740 lon=41.4268560>, <overpy.Node id=1411080362 lat=2.1366930 lon=41.3908770>, <overpy.Node id=1411080369 lat=2.1367800 lon=41.4231330>, <overpy.Node id=1411080430 lat=2.1378240 lon=41.3770030>, <overpy.Node id=1411080545 lat=2.1380210 lon=41.4198240>, <overpy.Node id=1411080560 lat=2.1383300 lon=41.3769140>, <overpy.Node id=1411080572 lat=2.1385390 lon=41.4525050>, <overpy.Node id=1411080594 lat=2.1389260 lon=41.3918590>, <overpy.Node id=1411080617 lat=2.1392530 lon=41.3768240>, <overpy.Node id=1411080648 lat=2.1397890 lon=41.4534580>, <overpy.Node id=1411080664 lat=2.1398830 lon=41.4165150>, <overpy.Node id=1411080674 lat=2.1400570 lon=41.3767050>, <overpy.Node id=1411080743 lat=2.1409170 lon=41.4101040>, <overpy.Node id=1411080745 lat=2.1409800 lon=41.3932290>, <overpy.Node id=1411080821 lat=2.1417240 lon=41.4586080>, <overpy.Node id=1411080835 lat=2.1418140 lon=41.3761690>, <overpy.Node id=1411080865 lat=2.1420520 lon=41.3948070>, <overpy.Node id=1411080924 lat=2.1428960 lon=41.4069570>, <overpy.Node id=1411081016 lat=2.1437190 lon=41.3974860>, <overpy.Node id=1411081022 lat=2.1438380 lon=41.4555720>, <overpy.Node id=1411081023 lat=2.1438680 lon=41.4631040>, <overpy.Node id=1411081028 lat=2.1439120 lon=41.4065960>, <overpy.Node id=1411081082 lat=2.1449100 lon=41.4660810>, <overpy.Node id=1411081085 lat=2.1449400 lon=41.3993920>, <overpy.Node id=1411081098 lat=2.1451180 lon=41.4671230>, <overpy.Node id=1411081100 lat=2.1451180 lon=41.4678380>, <overpy.Node id=1411081113 lat=2.1454750 lon=41.4563460>, <overpy.Node id=1411081138 lat=2.1461010 lon=41.4011480>, <overpy.Node id=1411081154 lat=2.1466070 lon=41.3755140>, <overpy.Node id=1411081169 lat=2.1470390 lon=41.4053760>, <overpy.Node id=1411081178 lat=2.1471730 lon=41.4567630>, <overpy.Node id=1411081185 lat=2.1473210 lon=41.3751270>, <overpy.Node id=1411081203 lat=2.1477680 lon=41.4024880>, <overpy.Node id=1411081292 lat=2.1479760 lon=41.3747400>, <overpy.Node id=1411081324 lat=2.1488700 lon=41.3736680>, <overpy.Node id=1411081328 lat=2.1488990 lon=41.4569110>, <overpy.Node id=1411081409 lat=2.1498520 lon=41.4569710>, <overpy.Node id=1411081412 lat=2.1499710 lon=41.4037980>, <overpy.Node id=1411081425 lat=2.1501500 lon=41.3717630>, <overpy.Node id=1411081458 lat=2.1504180 lon=41.4039170>, <overpy.Node id=1411081463 lat=2.1504470 lon=41.4570310>, <overpy.Node id=1411081477 lat=2.1505960 lon=41.4595910>, <overpy.Node id=1411081478 lat=2.1505960 lon=41.4601570>, <overpy.Node id=1411081490 lat=2.1506260 lon=41.4572690>, <overpy.Node id=1411081512 lat=2.1507150 lon=41.4588760>, <overpy.Node id=1411081526 lat=2.1507450 lon=41.4575960>, <overpy.Node id=1411081528 lat=2.1507450 lon=41.4584890>, <overpy.Node id=1411081548 lat=2.1508940 lon=41.4611390>, <overpy.Node id=1411081616 lat=2.1515190 lon=41.3698280>, <overpy.Node id=1411081648 lat=2.1523230 lon=41.3689640>, <overpy.Node id=1411081684 lat=2.1526510 lon=41.4057330>, <overpy.Node id=1411081695 lat=2.1528590 lon=41.3677730>, <overpy.Node id=1411081709 lat=2.1531270 lon=41.4646520>, <overpy.Node id=1411081728 lat=2.1535740 lon=41.4651580>, <overpy.Node id=1411081741 lat=2.1538560 lon=41.3664930>, <overpy.Node id=1411081776 lat=2.1546900 lon=41.3659570>, <overpy.Node id=1411081786 lat=2.1550920 lon=41.4665870>, <overpy.Node id=1411081808 lat=2.1556720 lon=41.3653920>, <overpy.Node id=1411081814 lat=2.1558960 lon=41.4078770>, <overpy.Node id=1411081840 lat=2.1565660 lon=41.3650340>, <overpy.Node id=1411081858 lat=2.1570270 lon=41.4674510>, <overpy.Node id=1411081897 lat=2.1576080 lon=41.3224900>, <overpy.Node id=1411081910 lat=2.1578160 lon=41.3644690>, <overpy.Node id=1411081973 lat=2.1584260 lon=41.4679870>, <overpy.Node id=1411082003 lat=2.1591260 lon=41.3260630>, <overpy.Node id=1411082005 lat=2.1592300 lon=41.4682550>, <overpy.Node id=1411082016 lat=2.1594830 lon=41.3280870>, <overpy.Node id=1411082038 lat=2.1598700 lon=41.3639330>, <overpy.Node id=1411082052 lat=2.1601980 lon=41.3383880>, <overpy.Node id=1411082063 lat=2.1602870 lon=41.3361260>, <overpy.Node id=1411082064 lat=2.1603170 lon=41.3392520>, <overpy.Node id=1411082084 lat=2.1604360 lon=41.3318980>, <overpy.Node id=1411082087 lat=2.1604960 lon=41.3347260>, <overpy.Node id=1411082096 lat=2.1606740 lon=41.3332670>, <overpy.Node id=1411082099 lat=2.1607930 lon=41.3401450>, <overpy.Node id=1411082127 lat=2.1615970 lon=41.3630100>, <overpy.Node id=1411082137 lat=2.1617160 lon=41.3422880>, <overpy.Node id=1411082160 lat=2.1621630 lon=41.4124320>, <overpy.Node id=1411082167 lat=2.1622820 lon=41.3625040>, <overpy.Node id=1411082184 lat=2.1629960 lon=41.3618790>, <overpy.Node id=1411082230 lat=2.1638300 lon=41.3611040>, <overpy.Node id=1411082232 lat=2.1638600 lon=41.4138010>, <overpy.Node id=1411082253 lat=2.1642020 lon=41.3477070>, <overpy.Node id=1411082269 lat=2.1645590 lon=41.3607470>, <overpy.Node id=1411082282 lat=2.1647830 lon=41.4142480>, <overpy.Node id=1411082303 lat=2.1650360 lon=41.3607170>, <overpy.Node id=1411082308 lat=2.1651850 lon=41.3583650>, <overpy.Node id=1411082309 lat=2.1652140 lon=41.3516370>, <overpy.Node id=1411082317 lat=2.1652740 lon=41.3595270>, <overpy.Node id=1411082318 lat=2.1653630 lon=41.3569960>, <overpy.Node id=1411082320 lat=2.1654530 lon=41.3545550>, <overpy.Node id=1411082324 lat=2.1655120 lon=41.3605390>, <overpy.Node id=1411082346 lat=2.1660930 lon=41.4153200>, <overpy.Node id=1411082356 lat=2.1662710 lon=41.3624740>, <overpy.Node id=1411082418 lat=2.1675810 lon=41.4167790>, <overpy.Node id=1411082453 lat=2.1680280 lon=41.3650940>, <overpy.Node id=1411082463 lat=2.1681770 lon=41.4178800>, <overpy.Node id=1411082502 lat=2.1686530 lon=41.4192500>, <overpy.Node id=1411082720 lat=2.1690400 lon=41.4204700>, <overpy.Node id=1411082730 lat=2.1691560 lon=41.4253100>, <overpy.Node id=1411082736 lat=2.1691890 lon=41.4225250>, <overpy.Node id=1411082891 lat=2.1714520 lon=41.3699770>, <overpy.Node id=1411082994 lat=2.1733420 lon=41.3733110>, <overpy.Node id=1411083036 lat=2.1742650 lon=41.3742040>, <overpy.Node id=1411083107 lat=2.1760810 lon=41.3754840>, <overpy.Node id=1411083130 lat=2.1771230 lon=41.3770030>, <overpy.Node id=1411083218 lat=2.1785820 lon=41.3792060>, <overpy.Node id=1411083281 lat=2.1802790 lon=41.3824210>, <overpy.Node id=1411083335 lat=2.1821250 lon=41.3844460>, <overpy.Node id=1411083385 lat=2.1835840 lon=41.3852200>, <overpy.Node id=1411083462 lat=2.1846260 lon=41.3856070>, <overpy.Node id=1411083508 lat=2.1855640 lon=41.3863220>, <overpy.Node id=1411083533 lat=2.1862490 lon=41.3877510>, <overpy.Node id=1411083567 lat=2.1871530 lon=41.4078370>, <overpy.Node id=1411083569 lat=2.1873200 lon=41.3894770>, <overpy.Node id=1411083681 lat=2.1893150 lon=41.3921870>, <overpy.Node id=1411083727 lat=2.1907440 lon=41.3935560>, <overpy.Node id=1411083734 lat=2.1909230 lon=41.4012970>, <overpy.Node id=1411083746 lat=2.1911610 lon=41.4027260>, <overpy.Node id=1411083748 lat=2.1912650 lon=41.4038020>, <overpy.Node id=1411083753 lat=2.1913400 lon=41.4000170>, <overpy.Node id=1411083754 lat=2.1913400 lon=41.4045720>, <overpy.Node id=1411083770 lat=2.1917270 lon=41.4076090>, <overpy.Node id=1411083771 lat=2.1918460 lon=41.3989450>, <overpy.Node id=1411083774 lat=2.1919350 lon=41.3948660>, <overpy.Node id=1411083780 lat=2.1920540 lon=41.4085320>, <overpy.Node id=1411083787 lat=2.1922630 lon=41.3970690>, <overpy.Node id=1411083790 lat=2.1923220 lon=41.3959380>, <overpy.Node id=1411083812 lat=2.1928730 lon=41.4106450>, <overpy.Node id=1411083849 lat=2.1937660 lon=41.4120450>, <overpy.Node id=1411083851 lat=2.1940340 lon=41.4131170>, <overpy.Node id=1411083852 lat=2.1940640 lon=41.4140390>, <overpy.Node id=1411083857 lat=2.1943020 lon=41.4146650>, <overpy.Node id=1411083888 lat=2.1949720 lon=41.4001660>, <overpy.Node id=1411083890 lat=2.1950020 lon=41.3990940>, <overpy.Node id=1411083891 lat=2.1950310 lon=41.3999570>, <overpy.Node id=1411083903 lat=2.1952990 lon=41.3982900>, <overpy.Node id=1411083931 lat=2.1953140 lon=41.4161830>, <overpy.Node id=1411083944 lat=2.1956710 lon=41.4177310>, <overpy.Node id=1411083946 lat=2.1957010 lon=41.4249360>, <overpy.Node id=1411083948 lat=2.1957610 lon=41.4238940>, <overpy.Node id=1411083952 lat=2.1959990 lon=41.4190410>, <overpy.Node id=1411083953 lat=2.1960580 lon=41.4229410>, <overpy.Node id=1411083954 lat=2.1960730 lon=41.3965330>, <overpy.Node id=1411083956 lat=2.1960880 lon=41.3686070>, <overpy.Node id=1411083961 lat=2.1963260 lon=41.4205600>, <overpy.Node id=1411083962 lat=2.1963560 lon=41.4221080>, <overpy.Node id=1411083965 lat=2.1963860 lon=41.4300570>, <overpy.Node id=1411083966 lat=2.1965650 lon=41.4344630>, <overpy.Node id=1411083968 lat=2.1966240 lon=41.3688750>, <overpy.Node id=1411083979 lat=2.1968180 lon=41.3954620>, <overpy.Node id=1411083984 lat=2.1968920 lon=41.4365770>, <overpy.Node id=1411083992 lat=2.1971900 lon=41.3693810>, <overpy.Node id=1411083993 lat=2.1971900 lon=41.4374400>, <overpy.Node id=1411084000 lat=2.1973240 lon=41.3948360>, <overpy.Node id=1411084014 lat=2.1977850 lon=41.4380360>, <overpy.Node id=1411084017 lat=2.1978150 lon=41.3697980>, <overpy.Node id=1411084031 lat=2.1982620 lon=41.4382440>, <overpy.Node id=1411084035 lat=2.1983210 lon=41.3702150>, <overpy.Node id=1411084045 lat=2.1989460 lon=41.3711970>, <overpy.Node id=1411084060 lat=2.1993780 lon=41.3920680>, <overpy.Node id=1411084071 lat=2.1997760 lon=41.3955080>, <overpy.Node id=1411084074 lat=2.1998840 lon=41.4390180>, <overpy.Node id=1411084077 lat=2.1999590 lon=41.3728940>, <overpy.Node id=1411084089 lat=2.2003010 lon=41.3909360>, <overpy.Node id=1411084090 lat=2.2003900 lon=41.4394350>, <overpy.Node id=1411084109 lat=2.2006290 lon=41.3886440>, <overpy.Node id=1411084110 lat=2.2006580 lon=41.3903110>, <overpy.Node id=1411084113 lat=2.2006880 lon=41.3877800>, <overpy.Node id=1411084116 lat=2.2008220 lon=41.3740850>, <overpy.Node id=1411084117 lat=2.2008370 lon=41.3895960>, <overpy.Node id=1411084119 lat=2.2008370 lon=41.4400600>, <overpy.Node id=1411084121 lat=2.2008520 lon=41.3754840>, <overpy.Node id=1411084124 lat=2.2008960 lon=41.3870360>, <overpy.Node id=1411084127 lat=2.2009110 lon=41.3799210>, <overpy.Node id=1411084129 lat=2.2009410 lon=41.3773600>, <overpy.Node id=1411084135 lat=2.2012090 lon=41.3834040>, <overpy.Node id=1411084139 lat=2.2013430 lon=41.4413110>, <overpy.Node id=1411084141 lat=2.2014030 lon=41.3862320>, <overpy.Node id=1411084153 lat=2.2016710 lon=41.3848630>, <overpy.Node id=1411084154 lat=2.2016710 lon=41.3853990>, <overpy.Node id=1411084162 lat=2.2020580 lon=41.4424420>, <overpy.Node id=1411084263 lat=2.2024150 lon=41.4364280>, <overpy.Node id=1411084294 lat=2.2027720 lon=41.4430970>, <overpy.Node id=1411084319 lat=2.2031890 lon=41.4440500>, <overpy.Node id=1411084340 lat=2.2035460 lon=41.4450620>, <overpy.Node id=1411084372 lat=2.2038440 lon=41.4463130>, <overpy.Node id=1411084395 lat=2.2042310 lon=41.4477420>, <overpy.Node id=1411084448 lat=2.2048560 lon=41.4494390>, <overpy.Node id=1411084528 lat=2.2057790 lon=41.4510460>, <overpy.Node id=1411084535 lat=2.2059880 lon=41.4351780>, <overpy.Node id=1411084558 lat=2.2063890 lon=41.4627770>, <overpy.Node id=1411084565 lat=2.2065680 lon=41.4613180>, <overpy.Node id=1411084566 lat=2.2065980 lon=41.4638480>, <overpy.Node id=1411084578 lat=2.2067910 lon=41.4532200>, <overpy.Node id=1411084588 lat=2.2070440 lon=41.4602760>, <overpy.Node id=1411084592 lat=2.2070740 lon=41.4656050>, <overpy.Node id=1411084598 lat=2.2071640 lon=41.4674510>, <overpy.Node id=1411084601 lat=2.2073720 lon=41.4548570>, <overpy.Node id=1411084610 lat=2.2076990 lon=41.4589660>, <overpy.Node id=1411084614 lat=2.2078480 lon=41.4568520>, <overpy.Node id=1411084620 lat=2.2080270 lon=41.4578340>, <overpy.Node id=1411084626 lat=2.2081910 lon=41.4341950>, <overpy.Node id=1411084718 lat=2.2117340 lon=41.4319920>, <overpy.Node id=1411084867 lat=2.2150530 lon=41.4308010>, <overpy.Node id=1411084891 lat=2.2154400 lon=41.4305630>, <overpy.Node id=1411084904 lat=2.2158270 lon=41.4302650>, <overpy.Node id=1411084923 lat=2.2163630 lon=41.4297590>, <overpy.Node id=1411084952 lat=2.2174940 lon=41.4280620>, <overpy.Node id=1411084990 lat=2.2190430 lon=41.4266330>, <overpy.Node id=1411085078 lat=2.2212310 lon=41.4246680>, <overpy.Node id=1411085098 lat=2.2219450 lon=41.4236560>, <overpy.Node id=1411085125 lat=2.2224810 lon=41.4229710>, <overpy.Node id=1411085153 lat=2.2233740 lon=41.4221670>, <overpy.Node id=1411085171 lat=2.2242080 lon=41.4214830>, <overpy.Node id=1411085207 lat=2.2250720 lon=41.4206790>, <overpy.Node id=1411085235 lat=2.2259050 lon=41.4198150>, <overpy.Node id=1411085254 lat=2.2265300 lon=41.4194580>, <overpy.Node id=1411085268 lat=2.2270650 lon=41.3687530>]\n"
     ]
    }
   ],
   "source": [
    "r = result2.nodes\n",
    "print(r)\n"
   ]
  },
  {
   "cell_type": "code",
   "execution_count": 12,
   "metadata": {
    "collapsed": false
   },
   "outputs": [
    {
     "name": "stdout",
     "output_type": "stream",
     "text": [
      "{'visible': True, 'tag': {'name': 'Cal Pajàres', 'amenity': 'restaurant'}, 'changeset': 2533068, 'user': 'miuet', 'uid': 20502, 'timestamp': datetime.datetime(2009, 9, 19, 11, 56, 17), 'id': 317180460, 'version': 2, 'lat': 42.0258558, 'lon': 1.8783443}\n"
     ]
    }
   ],
   "source": [
    "print(MyApi.NodeGet(317180460))"
   ]
  },
  {
   "cell_type": "code",
   "execution_count": null,
   "metadata": {
    "collapsed": false
   },
   "outputs": [],
   "source": []
  },
  {
   "cell_type": "code",
   "execution_count": 14,
   "metadata": {
    "collapsed": false
   },
   "outputs": [
    {
     "ename": "TimeoutError",
     "evalue": "25",
     "output_type": "error",
     "traceback": [
      "\u001b[0;31m---------------------------------------------------------------------------\u001b[0m",
      "\u001b[0;31mtimeout\u001b[0m                                   Traceback (most recent call last)",
      "\u001b[0;32mC:\\Program Files\\Anaconda3\\lib\\site-packages\\requests\\packages\\urllib3\\connectionpool.py\u001b[0m in \u001b[0;36m_make_request\u001b[0;34m(self, conn, method, url, timeout, chunked, **httplib_request_kw)\u001b[0m\n\u001b[1;32m    392\u001b[0m                     \u001b[1;31m# otherwise it looks like a programming error was the cause.\u001b[0m\u001b[1;33m\u001b[0m\u001b[1;33m\u001b[0m\u001b[0m\n\u001b[0;32m--> 393\u001b[0;31m                     \u001b[0msix\u001b[0m\u001b[1;33m.\u001b[0m\u001b[0mraise_from\u001b[0m\u001b[1;33m(\u001b[0m\u001b[0me\u001b[0m\u001b[1;33m,\u001b[0m \u001b[1;32mNone\u001b[0m\u001b[1;33m)\u001b[0m\u001b[1;33m\u001b[0m\u001b[0m\n\u001b[0m\u001b[1;32m    394\u001b[0m         \u001b[1;32mexcept\u001b[0m \u001b[1;33m(\u001b[0m\u001b[0mSocketTimeout\u001b[0m\u001b[1;33m,\u001b[0m \u001b[0mBaseSSLError\u001b[0m\u001b[1;33m,\u001b[0m \u001b[0mSocketError\u001b[0m\u001b[1;33m)\u001b[0m \u001b[1;32mas\u001b[0m \u001b[0me\u001b[0m\u001b[1;33m:\u001b[0m\u001b[1;33m\u001b[0m\u001b[0m\n",
      "\u001b[0;32mC:\\Program Files\\Anaconda3\\lib\\site-packages\\requests\\packages\\urllib3\\packages\\six.py\u001b[0m in \u001b[0;36mraise_from\u001b[0;34m(value, from_value)\u001b[0m\n",
      "\u001b[0;32mC:\\Program Files\\Anaconda3\\lib\\site-packages\\requests\\packages\\urllib3\\connectionpool.py\u001b[0m in \u001b[0;36m_make_request\u001b[0;34m(self, conn, method, url, timeout, chunked, **httplib_request_kw)\u001b[0m\n\u001b[1;32m    388\u001b[0m                 \u001b[1;32mtry\u001b[0m\u001b[1;33m:\u001b[0m\u001b[1;33m\u001b[0m\u001b[0m\n\u001b[0;32m--> 389\u001b[0;31m                     \u001b[0mhttplib_response\u001b[0m \u001b[1;33m=\u001b[0m \u001b[0mconn\u001b[0m\u001b[1;33m.\u001b[0m\u001b[0mgetresponse\u001b[0m\u001b[1;33m(\u001b[0m\u001b[1;33m)\u001b[0m\u001b[1;33m\u001b[0m\u001b[0m\n\u001b[0m\u001b[1;32m    390\u001b[0m                 \u001b[1;32mexcept\u001b[0m \u001b[0mException\u001b[0m \u001b[1;32mas\u001b[0m \u001b[0me\u001b[0m\u001b[1;33m:\u001b[0m\u001b[1;33m\u001b[0m\u001b[0m\n",
      "\u001b[0;32mC:\\Program Files\\Anaconda3\\lib\\http\\client.py\u001b[0m in \u001b[0;36mgetresponse\u001b[0;34m(self)\u001b[0m\n\u001b[1;32m   1196\u001b[0m             \u001b[1;32mtry\u001b[0m\u001b[1;33m:\u001b[0m\u001b[1;33m\u001b[0m\u001b[0m\n\u001b[0;32m-> 1197\u001b[0;31m                 \u001b[0mresponse\u001b[0m\u001b[1;33m.\u001b[0m\u001b[0mbegin\u001b[0m\u001b[1;33m(\u001b[0m\u001b[1;33m)\u001b[0m\u001b[1;33m\u001b[0m\u001b[0m\n\u001b[0m\u001b[1;32m   1198\u001b[0m             \u001b[1;32mexcept\u001b[0m \u001b[0mConnectionError\u001b[0m\u001b[1;33m:\u001b[0m\u001b[1;33m\u001b[0m\u001b[0m\n",
      "\u001b[0;32mC:\\Program Files\\Anaconda3\\lib\\http\\client.py\u001b[0m in \u001b[0;36mbegin\u001b[0;34m(self)\u001b[0m\n\u001b[1;32m    296\u001b[0m         \u001b[1;32mwhile\u001b[0m \u001b[1;32mTrue\u001b[0m\u001b[1;33m:\u001b[0m\u001b[1;33m\u001b[0m\u001b[0m\n\u001b[0;32m--> 297\u001b[0;31m             \u001b[0mversion\u001b[0m\u001b[1;33m,\u001b[0m \u001b[0mstatus\u001b[0m\u001b[1;33m,\u001b[0m \u001b[0mreason\u001b[0m \u001b[1;33m=\u001b[0m \u001b[0mself\u001b[0m\u001b[1;33m.\u001b[0m\u001b[0m_read_status\u001b[0m\u001b[1;33m(\u001b[0m\u001b[1;33m)\u001b[0m\u001b[1;33m\u001b[0m\u001b[0m\n\u001b[0m\u001b[1;32m    298\u001b[0m             \u001b[1;32mif\u001b[0m \u001b[0mstatus\u001b[0m \u001b[1;33m!=\u001b[0m \u001b[0mCONTINUE\u001b[0m\u001b[1;33m:\u001b[0m\u001b[1;33m\u001b[0m\u001b[0m\n",
      "\u001b[0;32mC:\\Program Files\\Anaconda3\\lib\\http\\client.py\u001b[0m in \u001b[0;36m_read_status\u001b[0;34m(self)\u001b[0m\n\u001b[1;32m    257\u001b[0m     \u001b[1;32mdef\u001b[0m \u001b[0m_read_status\u001b[0m\u001b[1;33m(\u001b[0m\u001b[0mself\u001b[0m\u001b[1;33m)\u001b[0m\u001b[1;33m:\u001b[0m\u001b[1;33m\u001b[0m\u001b[0m\n\u001b[0;32m--> 258\u001b[0;31m         \u001b[0mline\u001b[0m \u001b[1;33m=\u001b[0m \u001b[0mstr\u001b[0m\u001b[1;33m(\u001b[0m\u001b[0mself\u001b[0m\u001b[1;33m.\u001b[0m\u001b[0mfp\u001b[0m\u001b[1;33m.\u001b[0m\u001b[0mreadline\u001b[0m\u001b[1;33m(\u001b[0m\u001b[0m_MAXLINE\u001b[0m \u001b[1;33m+\u001b[0m \u001b[1;36m1\u001b[0m\u001b[1;33m)\u001b[0m\u001b[1;33m,\u001b[0m \u001b[1;34m\"iso-8859-1\"\u001b[0m\u001b[1;33m)\u001b[0m\u001b[1;33m\u001b[0m\u001b[0m\n\u001b[0m\u001b[1;32m    259\u001b[0m         \u001b[1;32mif\u001b[0m \u001b[0mlen\u001b[0m\u001b[1;33m(\u001b[0m\u001b[0mline\u001b[0m\u001b[1;33m)\u001b[0m \u001b[1;33m>\u001b[0m \u001b[0m_MAXLINE\u001b[0m\u001b[1;33m:\u001b[0m\u001b[1;33m\u001b[0m\u001b[0m\n",
      "\u001b[0;32mC:\\Program Files\\Anaconda3\\lib\\socket.py\u001b[0m in \u001b[0;36mreadinto\u001b[0;34m(self, b)\u001b[0m\n\u001b[1;32m    574\u001b[0m             \u001b[1;32mtry\u001b[0m\u001b[1;33m:\u001b[0m\u001b[1;33m\u001b[0m\u001b[0m\n\u001b[0;32m--> 575\u001b[0;31m                 \u001b[1;32mreturn\u001b[0m \u001b[0mself\u001b[0m\u001b[1;33m.\u001b[0m\u001b[0m_sock\u001b[0m\u001b[1;33m.\u001b[0m\u001b[0mrecv_into\u001b[0m\u001b[1;33m(\u001b[0m\u001b[0mb\u001b[0m\u001b[1;33m)\u001b[0m\u001b[1;33m\u001b[0m\u001b[0m\n\u001b[0m\u001b[1;32m    576\u001b[0m             \u001b[1;32mexcept\u001b[0m \u001b[0mtimeout\u001b[0m\u001b[1;33m:\u001b[0m\u001b[1;33m\u001b[0m\u001b[0m\n",
      "\u001b[0;32mC:\\Program Files\\Anaconda3\\lib\\ssl.py\u001b[0m in \u001b[0;36mrecv_into\u001b[0;34m(self, buffer, nbytes, flags)\u001b[0m\n\u001b[1;32m    928\u001b[0m                   self.__class__)\n\u001b[0;32m--> 929\u001b[0;31m             \u001b[1;32mreturn\u001b[0m \u001b[0mself\u001b[0m\u001b[1;33m.\u001b[0m\u001b[0mread\u001b[0m\u001b[1;33m(\u001b[0m\u001b[0mnbytes\u001b[0m\u001b[1;33m,\u001b[0m \u001b[0mbuffer\u001b[0m\u001b[1;33m)\u001b[0m\u001b[1;33m\u001b[0m\u001b[0m\n\u001b[0m\u001b[1;32m    930\u001b[0m         \u001b[1;32melse\u001b[0m\u001b[1;33m:\u001b[0m\u001b[1;33m\u001b[0m\u001b[0m\n",
      "\u001b[0;32mC:\\Program Files\\Anaconda3\\lib\\ssl.py\u001b[0m in \u001b[0;36mread\u001b[0;34m(self, len, buffer)\u001b[0m\n\u001b[1;32m    790\u001b[0m         \u001b[1;32mtry\u001b[0m\u001b[1;33m:\u001b[0m\u001b[1;33m\u001b[0m\u001b[0m\n\u001b[0;32m--> 791\u001b[0;31m             \u001b[1;32mreturn\u001b[0m \u001b[0mself\u001b[0m\u001b[1;33m.\u001b[0m\u001b[0m_sslobj\u001b[0m\u001b[1;33m.\u001b[0m\u001b[0mread\u001b[0m\u001b[1;33m(\u001b[0m\u001b[0mlen\u001b[0m\u001b[1;33m,\u001b[0m \u001b[0mbuffer\u001b[0m\u001b[1;33m)\u001b[0m\u001b[1;33m\u001b[0m\u001b[0m\n\u001b[0m\u001b[1;32m    792\u001b[0m         \u001b[1;32mexcept\u001b[0m \u001b[0mSSLError\u001b[0m \u001b[1;32mas\u001b[0m \u001b[0mx\u001b[0m\u001b[1;33m:\u001b[0m\u001b[1;33m\u001b[0m\u001b[0m\n",
      "\u001b[0;32mC:\\Program Files\\Anaconda3\\lib\\ssl.py\u001b[0m in \u001b[0;36mread\u001b[0;34m(self, len, buffer)\u001b[0m\n\u001b[1;32m    574\u001b[0m         \u001b[1;32mif\u001b[0m \u001b[0mbuffer\u001b[0m \u001b[1;32mis\u001b[0m \u001b[1;32mnot\u001b[0m \u001b[1;32mNone\u001b[0m\u001b[1;33m:\u001b[0m\u001b[1;33m\u001b[0m\u001b[0m\n\u001b[0;32m--> 575\u001b[0;31m             \u001b[0mv\u001b[0m \u001b[1;33m=\u001b[0m \u001b[0mself\u001b[0m\u001b[1;33m.\u001b[0m\u001b[0m_sslobj\u001b[0m\u001b[1;33m.\u001b[0m\u001b[0mread\u001b[0m\u001b[1;33m(\u001b[0m\u001b[0mlen\u001b[0m\u001b[1;33m,\u001b[0m \u001b[0mbuffer\u001b[0m\u001b[1;33m)\u001b[0m\u001b[1;33m\u001b[0m\u001b[0m\n\u001b[0m\u001b[1;32m    576\u001b[0m         \u001b[1;32melse\u001b[0m\u001b[1;33m:\u001b[0m\u001b[1;33m\u001b[0m\u001b[0m\n",
      "\u001b[0;31mtimeout\u001b[0m: The read operation timed out",
      "\nDuring handling of the above exception, another exception occurred:\n",
      "\u001b[0;31mReadTimeoutError\u001b[0m                          Traceback (most recent call last)",
      "\u001b[0;32mC:\\Program Files\\Anaconda3\\lib\\site-packages\\requests\\adapters.py\u001b[0m in \u001b[0;36msend\u001b[0;34m(self, request, stream, timeout, verify, cert, proxies)\u001b[0m\n\u001b[1;32m    422\u001b[0m                     \u001b[0mretries\u001b[0m\u001b[1;33m=\u001b[0m\u001b[0mself\u001b[0m\u001b[1;33m.\u001b[0m\u001b[0mmax_retries\u001b[0m\u001b[1;33m,\u001b[0m\u001b[1;33m\u001b[0m\u001b[0m\n\u001b[0;32m--> 423\u001b[0;31m                     \u001b[0mtimeout\u001b[0m\u001b[1;33m=\u001b[0m\u001b[0mtimeout\u001b[0m\u001b[1;33m\u001b[0m\u001b[0m\n\u001b[0m\u001b[1;32m    424\u001b[0m                 )\n",
      "\u001b[0;32mC:\\Program Files\\Anaconda3\\lib\\site-packages\\requests\\packages\\urllib3\\connectionpool.py\u001b[0m in \u001b[0;36murlopen\u001b[0;34m(self, method, url, body, headers, retries, redirect, assert_same_host, timeout, pool_timeout, release_conn, chunked, **response_kw)\u001b[0m\n\u001b[1;32m    639\u001b[0m             retries = retries.increment(method, url, error=e, _pool=self,\n\u001b[0;32m--> 640\u001b[0;31m                                         _stacktrace=sys.exc_info()[2])\n\u001b[0m\u001b[1;32m    641\u001b[0m             \u001b[0mretries\u001b[0m\u001b[1;33m.\u001b[0m\u001b[0msleep\u001b[0m\u001b[1;33m(\u001b[0m\u001b[1;33m)\u001b[0m\u001b[1;33m\u001b[0m\u001b[0m\n",
      "\u001b[0;32mC:\\Program Files\\Anaconda3\\lib\\site-packages\\requests\\packages\\urllib3\\util\\retry.py\u001b[0m in \u001b[0;36mincrement\u001b[0;34m(self, method, url, response, error, _pool, _stacktrace)\u001b[0m\n\u001b[1;32m    260\u001b[0m             \u001b[1;32mif\u001b[0m \u001b[0mread\u001b[0m \u001b[1;32mis\u001b[0m \u001b[1;32mFalse\u001b[0m\u001b[1;33m:\u001b[0m\u001b[1;33m\u001b[0m\u001b[0m\n\u001b[0;32m--> 261\u001b[0;31m                 \u001b[1;32mraise\u001b[0m \u001b[0msix\u001b[0m\u001b[1;33m.\u001b[0m\u001b[0mreraise\u001b[0m\u001b[1;33m(\u001b[0m\u001b[0mtype\u001b[0m\u001b[1;33m(\u001b[0m\u001b[0merror\u001b[0m\u001b[1;33m)\u001b[0m\u001b[1;33m,\u001b[0m \u001b[0merror\u001b[0m\u001b[1;33m,\u001b[0m \u001b[0m_stacktrace\u001b[0m\u001b[1;33m)\u001b[0m\u001b[1;33m\u001b[0m\u001b[0m\n\u001b[0m\u001b[1;32m    262\u001b[0m             \u001b[1;32melif\u001b[0m \u001b[0mread\u001b[0m \u001b[1;32mis\u001b[0m \u001b[1;32mnot\u001b[0m \u001b[1;32mNone\u001b[0m\u001b[1;33m:\u001b[0m\u001b[1;33m\u001b[0m\u001b[0m\n",
      "\u001b[0;32mC:\\Program Files\\Anaconda3\\lib\\site-packages\\requests\\packages\\urllib3\\packages\\six.py\u001b[0m in \u001b[0;36mreraise\u001b[0;34m(tp, value, tb)\u001b[0m\n\u001b[1;32m    685\u001b[0m             \u001b[1;32mraise\u001b[0m \u001b[0mvalue\u001b[0m\u001b[1;33m.\u001b[0m\u001b[0mwith_traceback\u001b[0m\u001b[1;33m(\u001b[0m\u001b[0mtb\u001b[0m\u001b[1;33m)\u001b[0m\u001b[1;33m\u001b[0m\u001b[0m\n\u001b[0;32m--> 686\u001b[0;31m         \u001b[1;32mraise\u001b[0m \u001b[0mvalue\u001b[0m\u001b[1;33m\u001b[0m\u001b[0m\n\u001b[0m\u001b[1;32m    687\u001b[0m \u001b[1;33m\u001b[0m\u001b[0m\n",
      "\u001b[0;32mC:\\Program Files\\Anaconda3\\lib\\site-packages\\requests\\packages\\urllib3\\connectionpool.py\u001b[0m in \u001b[0;36murlopen\u001b[0;34m(self, method, url, body, headers, retries, redirect, assert_same_host, timeout, pool_timeout, release_conn, chunked, **response_kw)\u001b[0m\n\u001b[1;32m    594\u001b[0m                                                   \u001b[0mbody\u001b[0m\u001b[1;33m=\u001b[0m\u001b[0mbody\u001b[0m\u001b[1;33m,\u001b[0m \u001b[0mheaders\u001b[0m\u001b[1;33m=\u001b[0m\u001b[0mheaders\u001b[0m\u001b[1;33m,\u001b[0m\u001b[1;33m\u001b[0m\u001b[0m\n\u001b[0;32m--> 595\u001b[0;31m                                                   chunked=chunked)\n\u001b[0m\u001b[1;32m    596\u001b[0m \u001b[1;33m\u001b[0m\u001b[0m\n",
      "\u001b[0;32mC:\\Program Files\\Anaconda3\\lib\\site-packages\\requests\\packages\\urllib3\\connectionpool.py\u001b[0m in \u001b[0;36m_make_request\u001b[0;34m(self, conn, method, url, timeout, chunked, **httplib_request_kw)\u001b[0m\n\u001b[1;32m    394\u001b[0m         \u001b[1;32mexcept\u001b[0m \u001b[1;33m(\u001b[0m\u001b[0mSocketTimeout\u001b[0m\u001b[1;33m,\u001b[0m \u001b[0mBaseSSLError\u001b[0m\u001b[1;33m,\u001b[0m \u001b[0mSocketError\u001b[0m\u001b[1;33m)\u001b[0m \u001b[1;32mas\u001b[0m \u001b[0me\u001b[0m\u001b[1;33m:\u001b[0m\u001b[1;33m\u001b[0m\u001b[0m\n\u001b[0;32m--> 395\u001b[0;31m             \u001b[0mself\u001b[0m\u001b[1;33m.\u001b[0m\u001b[0m_raise_timeout\u001b[0m\u001b[1;33m(\u001b[0m\u001b[0merr\u001b[0m\u001b[1;33m=\u001b[0m\u001b[0me\u001b[0m\u001b[1;33m,\u001b[0m \u001b[0murl\u001b[0m\u001b[1;33m=\u001b[0m\u001b[0murl\u001b[0m\u001b[1;33m,\u001b[0m \u001b[0mtimeout_value\u001b[0m\u001b[1;33m=\u001b[0m\u001b[0mread_timeout\u001b[0m\u001b[1;33m)\u001b[0m\u001b[1;33m\u001b[0m\u001b[0m\n\u001b[0m\u001b[1;32m    396\u001b[0m             \u001b[1;32mraise\u001b[0m\u001b[1;33m\u001b[0m\u001b[0m\n",
      "\u001b[0;32mC:\\Program Files\\Anaconda3\\lib\\site-packages\\requests\\packages\\urllib3\\connectionpool.py\u001b[0m in \u001b[0;36m_raise_timeout\u001b[0;34m(self, err, url, timeout_value)\u001b[0m\n\u001b[1;32m    314\u001b[0m         \u001b[1;32mif\u001b[0m \u001b[0misinstance\u001b[0m\u001b[1;33m(\u001b[0m\u001b[0merr\u001b[0m\u001b[1;33m,\u001b[0m \u001b[0mSocketTimeout\u001b[0m\u001b[1;33m)\u001b[0m\u001b[1;33m:\u001b[0m\u001b[1;33m\u001b[0m\u001b[0m\n\u001b[0;32m--> 315\u001b[0;31m             \u001b[1;32mraise\u001b[0m \u001b[0mReadTimeoutError\u001b[0m\u001b[1;33m(\u001b[0m\u001b[0mself\u001b[0m\u001b[1;33m,\u001b[0m \u001b[0murl\u001b[0m\u001b[1;33m,\u001b[0m \u001b[1;34m\"Read timed out. (read timeout=%s)\"\u001b[0m \u001b[1;33m%\u001b[0m \u001b[0mtimeout_value\u001b[0m\u001b[1;33m)\u001b[0m\u001b[1;33m\u001b[0m\u001b[0m\n\u001b[0m\u001b[1;32m    316\u001b[0m \u001b[1;33m\u001b[0m\u001b[0m\n",
      "\u001b[0;31mReadTimeoutError\u001b[0m: HTTPSConnectionPool(host='overpass-api.de', port=443): Read timed out. (read timeout=25)",
      "\nDuring handling of the above exception, another exception occurred:\n",
      "\u001b[0;31mReadTimeout\u001b[0m                               Traceback (most recent call last)",
      "\u001b[0;32mC:\\Program Files\\Anaconda3\\lib\\site-packages\\overpass\\api.py\u001b[0m in \u001b[0;36m_GetFromOverpass\u001b[0;34m(self, query)\u001b[0m\n\u001b[1;32m    100\u001b[0m                 \u001b[0mtimeout\u001b[0m\u001b[1;33m=\u001b[0m\u001b[0mself\u001b[0m\u001b[1;33m.\u001b[0m\u001b[0mtimeout\u001b[0m\u001b[1;33m,\u001b[0m\u001b[1;33m\u001b[0m\u001b[0m\n\u001b[0;32m--> 101\u001b[0;31m                 \u001b[0mheaders\u001b[0m\u001b[1;33m=\u001b[0m\u001b[1;33m{\u001b[0m\u001b[1;34m'Accept-Charset'\u001b[0m\u001b[1;33m:\u001b[0m \u001b[1;34m'utf-8;q=0.7,*;q=0.7'\u001b[0m\u001b[1;33m}\u001b[0m\u001b[1;33m\u001b[0m\u001b[0m\n\u001b[0m\u001b[1;32m    102\u001b[0m             )\n",
      "\u001b[0;32mC:\\Program Files\\Anaconda3\\lib\\site-packages\\requests\\api.py\u001b[0m in \u001b[0;36mpost\u001b[0;34m(url, data, json, **kwargs)\u001b[0m\n\u001b[1;32m    109\u001b[0m \u001b[1;33m\u001b[0m\u001b[0m\n\u001b[0;32m--> 110\u001b[0;31m     \u001b[1;32mreturn\u001b[0m \u001b[0mrequest\u001b[0m\u001b[1;33m(\u001b[0m\u001b[1;34m'post'\u001b[0m\u001b[1;33m,\u001b[0m \u001b[0murl\u001b[0m\u001b[1;33m,\u001b[0m \u001b[0mdata\u001b[0m\u001b[1;33m=\u001b[0m\u001b[0mdata\u001b[0m\u001b[1;33m,\u001b[0m \u001b[0mjson\u001b[0m\u001b[1;33m=\u001b[0m\u001b[0mjson\u001b[0m\u001b[1;33m,\u001b[0m \u001b[1;33m**\u001b[0m\u001b[0mkwargs\u001b[0m\u001b[1;33m)\u001b[0m\u001b[1;33m\u001b[0m\u001b[0m\n\u001b[0m\u001b[1;32m    111\u001b[0m \u001b[1;33m\u001b[0m\u001b[0m\n",
      "\u001b[0;32mC:\\Program Files\\Anaconda3\\lib\\site-packages\\requests\\api.py\u001b[0m in \u001b[0;36mrequest\u001b[0;34m(method, url, **kwargs)\u001b[0m\n\u001b[1;32m     55\u001b[0m     \u001b[1;32mwith\u001b[0m \u001b[0msessions\u001b[0m\u001b[1;33m.\u001b[0m\u001b[0mSession\u001b[0m\u001b[1;33m(\u001b[0m\u001b[1;33m)\u001b[0m \u001b[1;32mas\u001b[0m \u001b[0msession\u001b[0m\u001b[1;33m:\u001b[0m\u001b[1;33m\u001b[0m\u001b[0m\n\u001b[0;32m---> 56\u001b[0;31m         \u001b[1;32mreturn\u001b[0m \u001b[0msession\u001b[0m\u001b[1;33m.\u001b[0m\u001b[0mrequest\u001b[0m\u001b[1;33m(\u001b[0m\u001b[0mmethod\u001b[0m\u001b[1;33m=\u001b[0m\u001b[0mmethod\u001b[0m\u001b[1;33m,\u001b[0m \u001b[0murl\u001b[0m\u001b[1;33m=\u001b[0m\u001b[0murl\u001b[0m\u001b[1;33m,\u001b[0m \u001b[1;33m**\u001b[0m\u001b[0mkwargs\u001b[0m\u001b[1;33m)\u001b[0m\u001b[1;33m\u001b[0m\u001b[0m\n\u001b[0m\u001b[1;32m     57\u001b[0m \u001b[1;33m\u001b[0m\u001b[0m\n",
      "\u001b[0;32mC:\\Program Files\\Anaconda3\\lib\\site-packages\\requests\\sessions.py\u001b[0m in \u001b[0;36mrequest\u001b[0;34m(self, method, url, params, data, headers, cookies, files, auth, timeout, allow_redirects, proxies, hooks, stream, verify, cert, json)\u001b[0m\n\u001b[1;32m    474\u001b[0m         \u001b[0msend_kwargs\u001b[0m\u001b[1;33m.\u001b[0m\u001b[0mupdate\u001b[0m\u001b[1;33m(\u001b[0m\u001b[0msettings\u001b[0m\u001b[1;33m)\u001b[0m\u001b[1;33m\u001b[0m\u001b[0m\n\u001b[0;32m--> 475\u001b[0;31m         \u001b[0mresp\u001b[0m \u001b[1;33m=\u001b[0m \u001b[0mself\u001b[0m\u001b[1;33m.\u001b[0m\u001b[0msend\u001b[0m\u001b[1;33m(\u001b[0m\u001b[0mprep\u001b[0m\u001b[1;33m,\u001b[0m \u001b[1;33m**\u001b[0m\u001b[0msend_kwargs\u001b[0m\u001b[1;33m)\u001b[0m\u001b[1;33m\u001b[0m\u001b[0m\n\u001b[0m\u001b[1;32m    476\u001b[0m \u001b[1;33m\u001b[0m\u001b[0m\n",
      "\u001b[0;32mC:\\Program Files\\Anaconda3\\lib\\site-packages\\requests\\sessions.py\u001b[0m in \u001b[0;36msend\u001b[0;34m(self, request, **kwargs)\u001b[0m\n\u001b[1;32m    595\u001b[0m         \u001b[1;31m# Send the request\u001b[0m\u001b[1;33m\u001b[0m\u001b[1;33m\u001b[0m\u001b[0m\n\u001b[0;32m--> 596\u001b[0;31m         \u001b[0mr\u001b[0m \u001b[1;33m=\u001b[0m \u001b[0madapter\u001b[0m\u001b[1;33m.\u001b[0m\u001b[0msend\u001b[0m\u001b[1;33m(\u001b[0m\u001b[0mrequest\u001b[0m\u001b[1;33m,\u001b[0m \u001b[1;33m**\u001b[0m\u001b[0mkwargs\u001b[0m\u001b[1;33m)\u001b[0m\u001b[1;33m\u001b[0m\u001b[0m\n\u001b[0m\u001b[1;32m    597\u001b[0m \u001b[1;33m\u001b[0m\u001b[0m\n",
      "\u001b[0;32mC:\\Program Files\\Anaconda3\\lib\\site-packages\\requests\\adapters.py\u001b[0m in \u001b[0;36msend\u001b[0;34m(self, request, stream, timeout, verify, cert, proxies)\u001b[0m\n\u001b[1;32m    498\u001b[0m             \u001b[1;32melif\u001b[0m \u001b[0misinstance\u001b[0m\u001b[1;33m(\u001b[0m\u001b[0me\u001b[0m\u001b[1;33m,\u001b[0m \u001b[0mReadTimeoutError\u001b[0m\u001b[1;33m)\u001b[0m\u001b[1;33m:\u001b[0m\u001b[1;33m\u001b[0m\u001b[0m\n\u001b[0;32m--> 499\u001b[0;31m                 \u001b[1;32mraise\u001b[0m \u001b[0mReadTimeout\u001b[0m\u001b[1;33m(\u001b[0m\u001b[0me\u001b[0m\u001b[1;33m,\u001b[0m \u001b[0mrequest\u001b[0m\u001b[1;33m=\u001b[0m\u001b[0mrequest\u001b[0m\u001b[1;33m)\u001b[0m\u001b[1;33m\u001b[0m\u001b[0m\n\u001b[0m\u001b[1;32m    500\u001b[0m             \u001b[1;32melse\u001b[0m\u001b[1;33m:\u001b[0m\u001b[1;33m\u001b[0m\u001b[0m\n",
      "\u001b[0;31mReadTimeout\u001b[0m: HTTPSConnectionPool(host='overpass-api.de', port=443): Read timed out. (read timeout=25)",
      "\nDuring handling of the above exception, another exception occurred:\n",
      "\u001b[0;31mTimeoutError\u001b[0m                              Traceback (most recent call last)",
      "\u001b[0;32m<ipython-input-14-77d3899ec510>\u001b[0m in \u001b[0;36m<module>\u001b[0;34m()\u001b[0m\n\u001b[1;32m      1\u001b[0m \u001b[0mc\u001b[0m \u001b[1;33m=\u001b[0m \u001b[1;34m'(area[name=\"España\"]->.b;rel(area.b)[name=\"Barcelona\"];map_to_area -> .a;node(area.a)[amenity=restaurant]);out meta;'\u001b[0m\u001b[1;33m\u001b[0m\u001b[0m\n\u001b[0;32m----> 2\u001b[0;31m \u001b[0mallData\u001b[0m \u001b[1;33m=\u001b[0m \u001b[0mapiOverPass\u001b[0m\u001b[1;33m.\u001b[0m\u001b[0mGet\u001b[0m\u001b[1;33m(\u001b[0m\u001b[0mc\u001b[0m\u001b[1;33m)\u001b[0m\u001b[1;33m\u001b[0m\u001b[0m\n\u001b[0m\u001b[1;32m      3\u001b[0m \u001b[0mprint\u001b[0m\u001b[1;33m(\u001b[0m\u001b[0mallData\u001b[0m\u001b[1;33m)\u001b[0m\u001b[1;33m\u001b[0m\u001b[0m\n",
      "\u001b[0;32mC:\\Program Files\\Anaconda3\\lib\\site-packages\\overpass\\api.py\u001b[0m in \u001b[0;36mGet\u001b[0;34m(self, query, responseformat, verbosity, build)\u001b[0m\n\u001b[1;32m     46\u001b[0m \u001b[1;33m\u001b[0m\u001b[0m\n\u001b[1;32m     47\u001b[0m         \u001b[1;31m# Get the response from Overpass\u001b[0m\u001b[1;33m\u001b[0m\u001b[1;33m\u001b[0m\u001b[0m\n\u001b[0;32m---> 48\u001b[0;31m         \u001b[0mraw_response\u001b[0m \u001b[1;33m=\u001b[0m \u001b[0mself\u001b[0m\u001b[1;33m.\u001b[0m\u001b[0m_GetFromOverpass\u001b[0m\u001b[1;33m(\u001b[0m\u001b[0mfull_query\u001b[0m\u001b[1;33m)\u001b[0m\u001b[1;33m\u001b[0m\u001b[0m\n\u001b[0m\u001b[1;32m     49\u001b[0m \u001b[1;33m\u001b[0m\u001b[0m\n\u001b[1;32m     50\u001b[0m         \u001b[1;32mif\u001b[0m \u001b[0mresponseformat\u001b[0m \u001b[1;33m==\u001b[0m \u001b[1;34m\"xml\"\u001b[0m \u001b[1;32mor\u001b[0m \u001b[0mresponseformat\u001b[0m\u001b[1;33m.\u001b[0m\u001b[0mstartswith\u001b[0m\u001b[1;33m(\u001b[0m\u001b[1;34m\"csv\"\u001b[0m\u001b[1;33m)\u001b[0m\u001b[1;33m:\u001b[0m\u001b[1;33m\u001b[0m\u001b[0m\n",
      "\u001b[0;32mC:\\Program Files\\Anaconda3\\lib\\site-packages\\overpass\\api.py\u001b[0m in \u001b[0;36m_GetFromOverpass\u001b[0;34m(self, query)\u001b[0m\n\u001b[1;32m    103\u001b[0m \u001b[1;33m\u001b[0m\u001b[0m\n\u001b[1;32m    104\u001b[0m         \u001b[1;32mexcept\u001b[0m \u001b[0mrequests\u001b[0m\u001b[1;33m.\u001b[0m\u001b[0mexceptions\u001b[0m\u001b[1;33m.\u001b[0m\u001b[0mTimeout\u001b[0m\u001b[1;33m:\u001b[0m\u001b[1;33m\u001b[0m\u001b[0m\n\u001b[0;32m--> 105\u001b[0;31m             \u001b[1;32mraise\u001b[0m \u001b[0mTimeoutError\u001b[0m\u001b[1;33m(\u001b[0m\u001b[0mself\u001b[0m\u001b[1;33m.\u001b[0m\u001b[0m_timeout\u001b[0m\u001b[1;33m)\u001b[0m\u001b[1;33m\u001b[0m\u001b[0m\n\u001b[0m\u001b[1;32m    106\u001b[0m \u001b[1;33m\u001b[0m\u001b[0m\n\u001b[1;32m    107\u001b[0m         \u001b[0mself\u001b[0m\u001b[1;33m.\u001b[0m\u001b[0m_status\u001b[0m \u001b[1;33m=\u001b[0m \u001b[0mr\u001b[0m\u001b[1;33m.\u001b[0m\u001b[0mstatus_code\u001b[0m\u001b[1;33m\u001b[0m\u001b[0m\n",
      "\u001b[0;31mTimeoutError\u001b[0m: 25"
     ]
    }
   ],
   "source": [
    "c = '(area[name=\"España\"]->.b;rel(area.b)[name=\"Barcelona\"];map_to_area -> .a;node(area.a)[amenity=restaurant]);out meta;'\n",
    "allData = apiOverPass.Get(c)\n",
    "print(allData)"
   ]
  },
  {
   "cell_type": "code",
   "execution_count": null,
   "metadata": {
    "collapsed": false
   },
   "outputs": [],
   "source": [
    "map = folium.Map(location=[allData['features'][0]['geometry']['coordinates'][1],allData['features'][0]['geometry']['coordinates'][0]])\n",
    "markerCluster = folium.MarkerCluster(\"pubs\").add_to(map)\n",
    "\n",
    "for pub in allData['features']:\n",
    "    y = pub['geometry']['coordinates'][0]\n",
    "    x = pub['geometry']['coordinates'][1]\n",
    "    folium.Marker([x,y]).add_to(markerCluster)"
   ]
  },
  {
   "cell_type": "code",
   "execution_count": null,
   "metadata": {
    "collapsed": false
   },
   "outputs": [],
   "source": [
    "map"
   ]
  },
  {
   "cell_type": "code",
   "execution_count": null,
   "metadata": {
    "collapsed": false
   },
   "outputs": [],
   "source": []
  },
  {
   "cell_type": "code",
   "execution_count": null,
   "metadata": {
    "collapsed": false
   },
   "outputs": [],
   "source": [
    "c = '(area[name=\"España\"]->.b;rel(area.b)[\"name:es\"=\"Gerona\"];map_to_area -> .a;node(area.a)[amenity=restaurant]);out meta;'\n",
    "allData = apiOverPass.Get(c)\n",
    "print(allData)"
   ]
  },
  {
   "cell_type": "code",
   "execution_count": null,
   "metadata": {
    "collapsed": false
   },
   "outputs": [],
   "source": [
    "map2 = folium.Map(location=[allData['features'][0]['geometry']['coordinates'][1],allData['features'][0]['geometry']['coordinates'][0]])\n",
    "markerCluster2 = folium.MarkerCluster(\"pubs\").add_to(map2)\n",
    "\n",
    "for pub in allData['features']:\n",
    "    y = pub['geometry']['coordinates'][0]\n",
    "    x = pub['geometry']['coordinates'][1]\n",
    "    folium.Marker([x,y]).add_to(markerCluster2)"
   ]
  },
  {
   "cell_type": "code",
   "execution_count": null,
   "metadata": {
    "collapsed": false
   },
   "outputs": [],
   "source": [
    "map2"
   ]
  },
  {
   "cell_type": "code",
   "execution_count": null,
   "metadata": {
    "collapsed": true
   },
   "outputs": [],
   "source": []
  }
 ],
 "metadata": {
  "anaconda-cloud": {},
  "kernelspec": {
   "display_name": "Python [conda root]",
   "language": "python",
   "name": "conda-root-py"
  },
  "language_info": {
   "codemirror_mode": {
    "name": "ipython",
    "version": 2
   },
   "file_extension": ".py",
   "mimetype": "text/x-python",
   "name": "python",
   "nbconvert_exporter": "python",
   "pygments_lexer": "ipython2",
   "version": "2.7.12"
  }
 },
 "nbformat": 4,
 "nbformat_minor": 0
}
