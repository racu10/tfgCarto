{
 "cells": [
  {
   "cell_type": "code",
   "execution_count": 1,
   "metadata": {
    "collapsed": true
   },
   "outputs": [],
   "source": [
    "import functions as fun\n",
    "import sys;\n",
    "reload(sys);\n",
    "sys.setdefaultencoding(\"utf8\")"
   ]
  },
  {
   "cell_type": "code",
   "execution_count": 2,
   "metadata": {
    "collapsed": false
   },
   "outputs": [],
   "source": [
    "anio = 2015\n",
    "zone = 31\n",
    "country = \"España\"\n",
    "locationArea = \"Barcelona\"\n",
    "locationAreaBoundingBox = (41.3248770036,2.0520401001,41.4829908452,2.2813796997)\n",
    "\n",
    "csvFile = 'data\\ACCIDENTS_GU_BCN_' + str(anio) + str('.csv')\n",
    "data = fun.getDatabase(\"test\", \n",
    "                \"csv\", \n",
    "                csvFile, \n",
    "                \";\", \n",
    "                False, \n",
    "                -1, \n",
    "                -2, \n",
    "                '', \n",
    "                True, \n",
    "                True, \n",
    "                zone)\n",
    "allData = data[1]\n",
    "dataSize = len(data[1])\n",
    "print dataSize"
   ]
  },
  {
   "cell_type": "code",
   "execution_count": 3,
   "metadata": {
    "collapsed": true
   },
   "outputs": [],
   "source": [
    "allStreets = fun.getDatabaseFromOSM('streetsBarcelona', 'way', False, True,locationAreaBoundingBox, '')"
   ]
  },
  {
   "cell_type": "code",
   "execution_count": 4,
   "metadata": {
    "collapsed": true
   },
   "outputs": [],
   "source": [
    "map = fun.mapCreation(41.388790,2.158990)\n",
    "clor = 'blue'\n"
   ]
  },
  {
   "cell_type": "code",
   "execution_count": 6,
   "metadata": {
    "collapsed": false
   },
   "outputs": [],
   "source": [
    "cluster = fun.mapWithMarkerCluster(map, \"Accidents Barcelona\")\n",
    "porc = 0\n",
    "porcSee = 0\n",
    "\n",
    "for x in range(dataSize):\n",
    "    death = allData[x]['properties'][u'Número de morts']\n",
    "    minor = allData[x]['properties'][u'Número de lesionats lleus']\n",
    "    serious = allData[x]['properties'][u'Número de lesionats greus']\n",
    "\n",
    "    day = allData[x]['properties'][u'Dia de mes']\n",
    "    month = allData[x]['properties'][u'Mes de any']\n",
    "    year = allData[x]['properties'][u'NK Any']\n",
    "\n",
    "    streetName = allData[x]['properties'][u'Nom carrer']\n",
    "\n",
    "    description = allData[x]['properties'][u'Descripció causa vianant']\n",
    "    lon = allData[x]['geometry'][0]\n",
    "    lat = allData[x]['geometry'][1]\n",
    "    \n",
    "    print \"ola\"\n",
    "    greatLoc = fun.fromAllStreetsGetWithStreetNameTheLocationMostNear(allStreets, streetName, lon, lat)\n",
    "    print \"adios \" + str(porc)\n",
    "    \n",
    "    if int(death) > 0:\n",
    "        clor = 'black'\n",
    "    elif int(serious) > 0:\n",
    "        clor = 'red'\n",
    "    elif int(minor) > 0:\n",
    "        clor = 'green'\n",
    "    else:\n",
    "        clor = 'blue'\n",
    "\n",
    "    text = \"Dia: \"+ str(day) + '/' + str(month) + '/' + str(year) + '</br>' + 'Descripción: ' + description\n",
    "    \n",
    "    fun.mapAddMarkerToCluster(cluster, greatLoc[0], greatLoc[1], 'glyphicon-plus', clor, text)\n",
    "    l = ( porc * 1.0 / dataSize * 1.0) * 100\n",
    "    if l > porcSee:\n",
    "        print l\n",
    "        porcSee += 10\n",
    "    porc += 1\n",
    "  \n",
    "    \n",
    "    "
   ]
  },
  {
   "cell_type": "code",
   "execution_count": 8,
   "metadata": {
    "collapsed": false
   },
   "outputs": [],
   "source": [
    "fun.saveMap(map, 'Accidents_correction.html')"
   ]
  },
  {
   "cell_type": "code",
   "execution_count": null,
   "metadata": {
    "collapsed": false
   },
   "outputs": [],
   "source": []
  },
  {
   "cell_type": "code",
   "execution_count": null,
   "metadata": {
    "collapsed": false
   },
   "outputs": [],
   "source": [
    "street = allData[5]['properties'][u'Nom carrer']\n",
    "print street\n",
    "print fun.fromAllStreetsGetWithStreetNameTheLocationMostNear(allStreets, street, 0.0, 0.0)\n"
   ]
  },
  {
   "cell_type": "code",
   "execution_count": null,
   "metadata": {
    "collapsed": false
   },
   "outputs": [],
   "source": []
  },
  {
   "cell_type": "code",
   "execution_count": null,
   "metadata": {
    "collapsed": false
   },
   "outputs": [],
   "source": [
    "    "
   ]
  },
  {
   "cell_type": "code",
   "execution_count": null,
   "metadata": {
    "collapsed": false
   },
   "outputs": [],
   "source": []
  },
  {
   "cell_type": "code",
   "execution_count": null,
   "metadata": {
    "collapsed": false
   },
   "outputs": [],
   "source": []
  },
  {
   "cell_type": "code",
   "execution_count": null,
   "metadata": {
    "collapsed": true
   },
   "outputs": [],
   "source": []
  },
  {
   "cell_type": "code",
   "execution_count": null,
   "metadata": {
    "collapsed": true
   },
   "outputs": [],
   "source": []
  },
  {
   "cell_type": "code",
   "execution_count": null,
   "metadata": {
    "collapsed": true
   },
   "outputs": [],
   "source": []
  },
  {
   "cell_type": "code",
   "execution_count": null,
   "metadata": {
    "collapsed": true
   },
   "outputs": [],
   "source": []
  },
  {
   "cell_type": "code",
   "execution_count": null,
   "metadata": {
    "collapsed": true
   },
   "outputs": [],
   "source": []
  },
  {
   "cell_type": "code",
   "execution_count": null,
   "metadata": {
    "collapsed": true
   },
   "outputs": [],
   "source": []
  },
  {
   "cell_type": "code",
   "execution_count": null,
   "metadata": {
    "collapsed": true
   },
   "outputs": [],
   "source": []
  },
  {
   "cell_type": "code",
   "execution_count": null,
   "metadata": {
    "collapsed": true
   },
   "outputs": [],
   "source": []
  },
  {
   "cell_type": "code",
   "execution_count": null,
   "metadata": {
    "collapsed": true
   },
   "outputs": [],
   "source": []
  },
  {
   "cell_type": "code",
   "execution_count": null,
   "metadata": {
    "collapsed": true
   },
   "outputs": [],
   "source": []
  }
 ],
 "metadata": {
  "kernelspec": {
   "display_name": "Python [conda root]",
   "language": "python",
   "name": "conda-root-py"
  },
  "language_info": {
   "codemirror_mode": {
    "name": "ipython",
    "version": 2
   },
   "file_extension": ".py",
   "mimetype": "text/x-python",
   "name": "python",
   "nbconvert_exporter": "python",
   "pygments_lexer": "ipython2",
   "version": "2.7.12"
  }
 },
 "nbformat": 4,
 "nbformat_minor": 1
}
