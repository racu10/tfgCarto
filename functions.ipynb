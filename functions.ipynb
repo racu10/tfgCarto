{
 "cells": [
  {
   "cell_type": "code",
   "execution_count": 1,
   "metadata": {
    "collapsed": false
   },
   "outputs": [],
   "source": [
    "#Useful functions @racu10\n",
    "\n",
    "import pandas as pd\n",
    "import numpy as np\n",
    "import overpy\n",
    "import overpass\n",
    "import folium\n",
    "from osmapi import OsmApi\n",
    "import math\n",
    "import geopy\n",
    "import geopy.distance\n",
    "import time\n",
    "import unicodedata\n",
    "\n",
    "MyApi = OsmApi()\n",
    "apiOverPass = overpass.API()\n",
    "apiOverPy =  overpy.Overpass()\n"
   ]
  },
  {
   "cell_type": "code",
   "execution_count": 2,
   "metadata": {
    "collapsed": true
   },
   "outputs": [],
   "source": [
    "def getDistance(long1, lat1, long2, lat2):\n",
    "    \"\"\"    getDistance(long1, lat1, long2, lat2)\n",
    "\n",
    "    Get distance betwen 2 coordinates in log/lat.\n",
    "    \n",
    "    Parameters\n",
    "    ----------\n",
    "    long1 : float\n",
    "        Longitude 1st coordinate.\n",
    "    lat1 : float\n",
    "            Latitude 1st coordinate.\n",
    "    long2 : float\n",
    "            Longitude 2nd coordinate.  \n",
    "    lat2 : float\n",
    "            Latitude 2nd coordinate.\n",
    "    Returns\n",
    "    -------\n",
    "    float\n",
    "    Get the value of the distance.\n",
    "    \"\"\"\n",
    "    \n",
    "    \n",
    "    r = 6371000 #radio terrestre medio, en metros \n",
    "    c = math.pi/180 #constante para transformar grados en radianes\n",
    " \n",
    "    return 2*r*math.asin(math.sqrt(math.sin(c*(lat2-lat1)/2)**2 + math.cos(c*lat1)*math.cos(c*lat2)*math.sin(c*(long2-long1)/2)**2))"
   ]
  },
  {
   "cell_type": "code",
   "execution_count": 3,
   "metadata": {
    "collapsed": true
   },
   "outputs": [],
   "source": [
    "def getDistanceInKm(long1, lat1, long2, lat2):\n",
    "    \"\"\"    getDistanceInKm(long1, lat1, long2, lat2)\n",
    "\n",
    "    Get distance betwen 2 coordinates in log/lat.\n",
    "    \n",
    "    Parameters\n",
    "    ----------\n",
    "    long1 : float\n",
    "        Longitude 1st coordinate.\n",
    "    lat1 : float\n",
    "            Latitude 1st coordinate.\n",
    "    long2 : float\n",
    "            Longitude 2nd coordinate.  \n",
    "    lat2 : float\n",
    "            Latitude 2nd coordinate.\n",
    "    Returns\n",
    "    -------\n",
    "    float\n",
    "    Get the value of the distance.\n",
    "    \"\"\"\n",
    "    \n",
    "    pt1 = geopy.Point(long1, lat1)\n",
    "    pt2 = geopy.Point(long2, lat2)\n",
    "    \n",
    "    return geopy.distance.distance(pt1, pt2).km\n",
    " "
   ]
  },
  {
   "cell_type": "code",
   "execution_count": 4,
   "metadata": {
    "collapsed": true
   },
   "outputs": [],
   "source": [
    "def utmToLatLng(zone, easting, northing, northernHemisphere=True):\n",
    "\n",
    "    \"\"\"    utmToLatLng(zone, easting, northing, northernHemisphere=True)\n",
    "\n",
    "    Tranform UTM location to Lat / Long\n",
    "    \n",
    "    Parameters\n",
    "    ----------\n",
    "    zone : int\n",
    "        Value of the zone where are coordinates getted. \n",
    "    easting : float\n",
    "            Falue from easting (X).\n",
    "    northing : float\n",
    "            Falue from northing (Y).\n",
    "    northernHemisphere : bool\n",
    "            Latitude 2nd coordinate.\n",
    "    \n",
    "    Returns\n",
    "    -------\n",
    "    tupple (latitude, longitude)\n",
    "    Get the value of UTM into lat and long.\n",
    "    \n",
    "    More info\n",
    "    ---------\n",
    "    See http://www.dmap.co.uk/utmworld.htm to locate your zone and the hemisphere.\n",
    "    \n",
    "    \"\"\"\n",
    "    \n",
    "    if not northernHemisphere:\n",
    "        northing = 10000000 - northing\n",
    "\n",
    "    a = 6378137\n",
    "    e = 0.081819191\n",
    "    e1sq = 0.006739497\n",
    "    k0 = 0.9996\n",
    "\n",
    "    arc = northing / k0\n",
    "    mu = arc / (a * (1 - math.pow(e, 2) / 4.0 - 3 * math.pow(e, 4) / 64.0 - 5 * math.pow(e, 6) / 256.0))\n",
    "\n",
    "    ei = (1 - math.pow((1 - e * e), (1 / 2.0))) / (1 + math.pow((1 - e * e), (1 / 2.0)))\n",
    "\n",
    "    ca = 3 * ei / 2 - 27 * math.pow(ei, 3) / 32.0\n",
    "\n",
    "    cb = 21 * math.pow(ei, 2) / 16 - 55 * math.pow(ei, 4) / 32\n",
    "    cc = 151 * math.pow(ei, 3) / 96\n",
    "    cd = 1097 * math.pow(ei, 4) / 512\n",
    "    phi1 = mu + ca * math.sin(2 * mu) + cb * math.sin(4 * mu) + cc * math.sin(6 * mu) + cd * math.sin(8 * mu)\n",
    "\n",
    "    n0 = a / math.pow((1 - math.pow((e * math.sin(phi1)), 2)), (1 / 2.0))\n",
    "\n",
    "    r0 = a * (1 - e * e) / math.pow((1 - math.pow((e * math.sin(phi1)), 2)), (3 / 2.0))\n",
    "    fact1 = n0 * math.tan(phi1) / r0\n",
    "\n",
    "    _a1 = 500000 - easting\n",
    "    dd0 = _a1 / (n0 * k0)\n",
    "    fact2 = dd0 * dd0 / 2\n",
    "\n",
    "    t0 = math.pow(math.tan(phi1), 2)\n",
    "    Q0 = e1sq * math.pow(math.cos(phi1), 2)\n",
    "    fact3 = (5 + 3 * t0 + 10 * Q0 - 4 * Q0 * Q0 - 9 * e1sq) * math.pow(dd0, 4) / 24\n",
    "\n",
    "    fact4 = (61 + 90 * t0 + 298 * Q0 + 45 * t0 * t0 - 252 * e1sq - 3 * Q0 * Q0) * math.pow(dd0, 6) / 720\n",
    "\n",
    "    lof1 = _a1 / (n0 * k0)\n",
    "    lof2 = (1 + 2 * t0 + Q0) * math.pow(dd0, 3) / 6.0\n",
    "    lof3 = (5 - 2 * Q0 + 28 * t0 - 3 * math.pow(Q0, 2) + 8 * e1sq + 24 * math.pow(t0, 2)) * math.pow(dd0, 5) / 120\n",
    "    _a2 = (lof1 - lof2 + lof3) / math.cos(phi1)\n",
    "    _a3 = _a2 * 180 / math.pi\n",
    "\n",
    "    latitude = 180 * (phi1 - fact1 * (fact2 + fact3 + fact4)) / math.pi\n",
    "\n",
    "    if not northernHemisphere:\n",
    "        latitude = -latitude\n",
    "\n",
    "    longitude = ((zone > 0) and (6 * zone - 183.0) or 3.0) - _a3\n",
    "\n",
    "    return (latitude, longitude)\n"
   ]
  },
  {
   "cell_type": "code",
   "execution_count": 5,
   "metadata": {
    "collapsed": true
   },
   "outputs": [],
   "source": [
    "def getDataOfCsv(name, sep=';'):\n",
    "    import pandas as pd\n",
    "    \"\"\"    getDataOfCsv(name):\n",
    "\n",
    "    Load data of csv to pandas.\n",
    "    \n",
    "    Parameters\n",
    "    ----------\n",
    "    name : String\n",
    "        Path + file.csv to load.\n",
    "    sep : String\n",
    "        Separator of the csv.\n",
    "    \n",
    "    Returns\n",
    "    -------\n",
    "    Pandas array\n",
    "    Get the structure of the CSV.\n",
    "    \"\"\"\n",
    "    allData = None\n",
    "    try:\n",
    "        allData = pd.read_csv(name, encoding = \"utf8\", sep=sep)\n",
    "    except:\n",
    "        allData = pd.read_csv(name, encoding = \"ISO-8859-1\", sep=sep)\n",
    "    return allData"
   ]
  },
  {
   "cell_type": "code",
   "execution_count": 6,
   "metadata": {
    "collapsed": true
   },
   "outputs": [],
   "source": [
    "def is_number(s):\n",
    "    try:\n",
    "        float(s)\n",
    "        return True\n",
    "    except ValueError:\n",
    "        pass\n",
    " \n",
    "    try:\n",
    "        import unicodedata\n",
    "        unicodedata.numeric(s)\n",
    "        return True\n",
    "    except (TypeError, ValueError):\n",
    "        pass\n",
    "    return False"
   ]
  },
  {
   "cell_type": "code",
   "execution_count": 7,
   "metadata": {
    "collapsed": true
   },
   "outputs": [],
   "source": [
    "def getPointOfStreet(streetName, boundingBoxSearch): \n",
    "    \"\"\"    getPointOfStreet(streetName, boundingBoxSearch)\n",
    "\n",
    "    Get distance betwen 2 coordinates in log/lat.\n",
    "    \n",
    "    Parameters\n",
    "    ----------\n",
    "    streetName : float\n",
    "        Name of the street you are looking the points.\n",
    "    boundingBoxSearch : tuple \n",
    "            Bounding box coordinates to limit the map.\n",
    "    \n",
    "    Returns\n",
    "    -------\n",
    "    OSM structure\n",
    "    Get all points of the street with the OSM structure with all parameters.\n",
    "    \"\"\"\n",
    "    apiOverPass = overpass.API()\n",
    "    sql = 'way[name~\"'+streetName+'\"]'+str(boundingBoxSearch).encode(\"utf-8\")+';'\n",
    "    \n",
    "    return apiOverPass.Get(sql)"
   ]
  },
  {
   "cell_type": "code",
   "execution_count": 8,
   "metadata": {
    "collapsed": true
   },
   "outputs": [],
   "source": [
    "def getPointOfStreetPolygon(streetName, polygon): \n",
    "    \"\"\"    getPointOfStreet(streetName, boundingBoxSearch)\n",
    "\n",
    "    Get distance betwen 2 coordinates in log/lat.\n",
    "    \n",
    "    Parameters\n",
    "    ----------\n",
    "    streetName : float\n",
    "        Name of the street you are looking the points.\n",
    "    boundingBoxSearch : tuple \n",
    "            Bounding box coordinates to limit the map.\n",
    "    \n",
    "    Returns\n",
    "    -------\n",
    "    OSM structure\n",
    "    Get all points of the street with the OSM structure with all parameters.\n",
    "    \"\"\"\n",
    "    s = polygonArrayToOSMstructure(polygon)\n",
    "    apiOverPass = overpass.API()\n",
    "    sql = 'way[name~\"'+streetName+'\"]'+s+';'\n",
    "    \n",
    "    return apiOverPass.Get(sql)"
   ]
  },
  {
   "cell_type": "code",
   "execution_count": 9,
   "metadata": {
    "collapsed": true
   },
   "outputs": [],
   "source": [
    "def fromPointsOfStretGetBestUbicationMinXY(pointsOfStreet, xtest, ytest):\n",
    "    \"\"\"    fromPointsOfStretGetBestUbicationMinXY(pointsOfStreet, xtest, ytest):\n",
    "\n",
    "    Localize the point more close to the street given with his points using OSM features.\n",
    "    \n",
    "    Parameters\n",
    "    ----------\n",
    "    pointsOfStreet : float\n",
    "        Name of the street you are looking the points.\n",
    "    xtest : float \n",
    "            Actual x coordinate to be remplaced.\n",
    "    ytest : tuple \n",
    "            Actual y coordinate to be remplaced.\n",
    "            \n",
    "    Returns\n",
    "    -------\n",
    "    tuple x, y\n",
    "    Get the best location into the street given.\n",
    "    \"\"\"\n",
    "    \n",
    "    \n",
    "    allCorrd = pointsOfStreet['features']\n",
    "    minD = float('inf')\n",
    "    cx = xtest\n",
    "    cy = ytest\n",
    "    for geo in allCorrd:\n",
    "        geometry = geo[\"geometry\"]\n",
    "\n",
    "        if geometry[\"type\"].upper() == \"LINESTRING\":\n",
    "            for c in geometry[\"coordinates\"]:\n",
    "                y = c[0]\n",
    "                x = c[1]\n",
    "                #txtHtml = \"Coord: \"+ str(c) \n",
    "                #print(x, ' - ', y)\n",
    "                #poppin = folium.Popup(html=folium.element.IFrame(html=txtHtml,width=200,height=50))\n",
    "                #folium.Marker([x,y], icon=folium.Icon(icon='glyphicon-plus', color='pink'),popup = poppin).add_to(markerCluster)\n",
    "                d = getDistance(xtest, ytest, x, y)\n",
    "                #print(d, ' --- ', str(c))\n",
    "                if d < minD:  \n",
    "                    #print(d, ' --- ', str(c))\n",
    "                    cx = x\n",
    "                    cy = y \n",
    "                    minD = d\n",
    "    return cx,cy"
   ]
  },
  {
   "cell_type": "code",
   "execution_count": 10,
   "metadata": {
    "collapsed": true
   },
   "outputs": [],
   "source": [
    "def pandasReadJson(url):\n",
    "    \"\"\"    pandasReadJson(url):\n",
    "\n",
    "    Tranform JSON into pandas Object\n",
    "    \n",
    "    Parameters\n",
    "    ----------\n",
    "    url : String\n",
    "        Url of the Json.\n",
    "            \n",
    "    Returns\n",
    "    -------\n",
    "    pandas structure\n",
    "    Get all data from JSON URL.\n",
    "    \"\"\"\n",
    "    \n",
    "    import pandas as pd\n",
    "    return pd.read_json(url)"
   ]
  },
  {
   "cell_type": "code",
   "execution_count": 11,
   "metadata": {
    "collapsed": false
   },
   "outputs": [],
   "source": [
    "def getNowBikesInBcn():\n",
    "    \"\"\"    getNowBikesInBcn():\n",
    "\n",
    "    From api citybike get json of actual moment of the bikes in barcelona\n",
    "    \n",
    "    Parameters\n",
    "    ----------\n",
    "            \n",
    "    Returns\n",
    "    -------\n",
    "    pandas structure\n",
    "    Get all data of citybike barcelona.\n",
    "    \"\"\"\n",
    "\n",
    "    apiBikes = 'http://api.citybik.es/bicing.json'\n",
    "    df = pandasReadJson(apiBikes)\n",
    "    return df"
   ]
  },
  {
   "cell_type": "code",
   "execution_count": 12,
   "metadata": {
    "collapsed": true
   },
   "outputs": [],
   "source": [
    "def decodeToUTF8(text):\n",
    "    try:\n",
    "        text = unicode(text, 'utf-8')        \n",
    "    except:\n",
    "        return text\n",
    "    return text"
   ]
  },
  {
   "cell_type": "code",
   "execution_count": 13,
   "metadata": {
    "collapsed": false
   },
   "outputs": [],
   "source": [
    "def getAllBarrisBCNPoligonBox(path = 'alldata/barris.geojson', columnName='neighbourhood', orderedXY = False):\n",
    "    \"\"\"    getAllBarrisBCNPoligonBox(path)\n",
    "\n",
    "    From geojson of barris set to dicctionary with his poligon\n",
    "    \n",
    "    Parameters\n",
    "    ----------\n",
    "    path : String\n",
    "    Path of the file\n",
    "    columnName : String\n",
    "    Name of the column that contains the String info inside properties.\n",
    "            \n",
    "    Returns\n",
    "    -------\n",
    "    Dictonary\n",
    "    Dictinary with key is \"barri\" and data is the poligon.\n",
    "    \"\"\"\n",
    "    dicBarris = dict()\n",
    "    df = pandasReadJson(path)\n",
    "    for d in df.iterrows():\n",
    "        allData = d[1][0]        \n",
    "        r = dict(allData)\n",
    "        l = r['properties']\n",
    "        name = l[columnName].lower()\n",
    "        #name = name.decode('utf8')\n",
    "        s = r['geometry']\n",
    "        coord = []\n",
    "        if orderedXY == False:\n",
    "            coord = s['coordinates'][0][0]\n",
    "        else:\n",
    "            coord = transformArrYXToXYList(s['coordinates'][0][0])\n",
    "        dicBarris[name] = coord\n",
    "    return dicBarris\n",
    "            "
   ]
  },
  {
   "cell_type": "code",
   "execution_count": 14,
   "metadata": {
    "collapsed": true
   },
   "outputs": [],
   "source": [
    "def polygonArrayToOSMstructure(polygon):\n",
    "    \"\"\"    polygonArrayToOSMstructure(polygon)\n",
    "\n",
    "    With a polygon array gets structure of poly for OSM sql.\n",
    "    \n",
    "    Parameters\n",
    "    ----------\n",
    "    polygon : Array\n",
    "    Array that contains the poligon separated [[lat,long], [lat', long'], [lat'', long''], ...] same as [[y,x],[y',x'], [y'',x''], ...] \n",
    "    representation of OSM return.\n",
    "            \n",
    "    Returns\n",
    "    -------\n",
    "    String\n",
    "    Returns the string asociated for OSM sqls (poly: ...).\n",
    "    \"\"\"\n",
    "    s = '(poly:\"'\n",
    "    for y, x in polygon[:-1]:\n",
    "        s += str(x)+ ' '+ str(y)+' '\n",
    "    s += str(polygon[-1][1])+' '+str(polygon[-1][0]) +'\")'\n",
    "    return s"
   ]
  },
  {
   "cell_type": "code",
   "execution_count": 15,
   "metadata": {
    "collapsed": false
   },
   "outputs": [],
   "source": [
    "def getAllNodesIntoPolygon(polygon, timeOut = 30):\n",
    "    \"\"\"    getAllNodesIntoPolygon(polygon)\n",
    "\n",
    "    With a polygon array gets all nodes inside them.\n",
    "    \n",
    "    Parameters\n",
    "    ----------\n",
    "    polygon : Array\n",
    "    Array that contains the poligon separated [[lat,long], [lat', long'], [lat'', long''], ...] same as [[y,x],[y',x'], [y'',x''], ...] \n",
    "    representation of OSM return.\n",
    "            \n",
    "    Returns\n",
    "    -------\n",
    "    Dictonary\n",
    "    Dictinary with key is \"barri\" and data is the poligon.\n",
    "    \"\"\"\n",
    "\n",
    "    s = polygonArrayToOSMstructure(polygon)\n",
    "    sql = \"\"\"node\"\"\"+ s + \"\"\";out;\"\"\"\n",
    "    allData = []\n",
    "    try:\n",
    "        allData = apiOverPass.Get(sql)\n",
    "    except:\n",
    "        allData = getAllNodesIntoPolygonErrorTimeOut(sql, timeOut)\n",
    "    return allData"
   ]
  },
  {
   "cell_type": "code",
   "execution_count": 16,
   "metadata": {
    "collapsed": true
   },
   "outputs": [],
   "source": [
    "def getAllNodesIntoBoundingBox(boundingBoxSearch, timeOut = 30):\n",
    "    \"\"\"    getAllNodesIntoPolygon(polygon)\n",
    "\n",
    "    With a polygon array gets all nodes inside them.\n",
    "    \n",
    "    Parameters\n",
    "    ----------\n",
    "    polygon : Array\n",
    "    Array that contains the poligon separated [[lat,long], [lat', long'], [lat'', long''], ...] same as [[y,x],[y',x'], [y'',x''], ...] \n",
    "    representation of OSM return.\n",
    "            \n",
    "    Returns\n",
    "    -------\n",
    "    Dictonary\n",
    "    Dictinary with key is \"barri\" and data is the poligon.\n",
    "    \"\"\"\n",
    "\n",
    "    sql = \"\"\"node\"\"\"+ str(boundingBoxSearch).encode(\"utf-8\") + \"\"\";out;\"\"\"\n",
    "    allData = []\n",
    "    try:\n",
    "        allData = apiOverPass.Get(sql)\n",
    "    except:\n",
    "        allData = getAllNodesIntoPolygonErrorTimeOut(sql, timeOut)\n",
    "    return allData"
   ]
  },
  {
   "cell_type": "code",
   "execution_count": 17,
   "metadata": {
    "collapsed": true
   },
   "outputs": [],
   "source": [
    "def getAllNodesIntoPolygonErrorTimeOut(sql, wait):\n",
    "    allData = []\n",
    "    if wait == 0:\n",
    "        return allData\n",
    "    time.sleep(wait)\n",
    "    \n",
    "    try:\n",
    "        allData = apiOverPass.Get(sql)\n",
    "    except:\n",
    "        allData = []\n",
    "        print \"Time Out\"\n",
    "    return allData"
   ]
  },
  {
   "cell_type": "code",
   "execution_count": 18,
   "metadata": {
    "collapsed": true
   },
   "outputs": [],
   "source": [
    "def getAmenityInfoIntoPolygon(polygon, amenityType='pub', timeOutWaitExcept = 30):\n",
    "    #http://wiki.openstreetmap.org/wiki/Key:amenity\n",
    "    \n",
    "    s = polygonArrayToOSMstructure(polygon)\n",
    "    sql = \"(node[amenity='\" + amenityType + \"']\"+ s +\";);out center;\"\n",
    "    allData = []\n",
    "    try:\n",
    "        allData = apiOverPass.Get(sql)\n",
    "    except:\n",
    "        allData = getAllNodesIntoPolygonErrorTimeOut(sql, timeOutWaitExcept)\n",
    "    return allData"
   ]
  },
  {
   "cell_type": "code",
   "execution_count": 19,
   "metadata": {
    "collapsed": true
   },
   "outputs": [],
   "source": [
    "def getAmenityInfoIntoBoundingBox(boundingBoxSearch, amenityType='pub', timeOutWaitExcept = 30):\n",
    "    #http://wiki.openstreetmap.org/wiki/Key:amenity\n",
    "    sql = \"(node[amenity='\" + amenityType + \"']\"+ str(boundingBoxSearch).encode(\"utf-8\") +\";);out center;\"\n",
    "    allData = []\n",
    "    try:\n",
    "        allData = apiOverPass.Get(sql)\n",
    "    except:\n",
    "        allData = getAllNodesIntoPolygonErrorTimeOut(sql, timeOutWaitExcept)\n",
    "    return allData"
   ]
  },
  {
   "cell_type": "code",
   "execution_count": 20,
   "metadata": {
    "collapsed": true
   },
   "outputs": [],
   "source": [
    "def getNodeInfo(idNode):\n",
    "    osm = OsmApi()\n",
    "    T = osm.NodeGet(idNode)\n",
    "    return T"
   ]
  },
  {
   "cell_type": "code",
   "execution_count": 21,
   "metadata": {
    "collapsed": false
   },
   "outputs": [],
   "source": [
    "def getInfoOfOSMSearch(feature):\n",
    "    feat = feature[\"features\"]\n",
    "    lst = []\n",
    "    if len(feat) > 0:\n",
    "        for geo in feat:\n",
    "            T = dict()\n",
    "            r = geo[\"geometry\"]\n",
    "            if r[\"type\"].lower() == \"point\".lower():\n",
    "                T[\"geometry\"] = tuple([r[\"coordinates\"][1],r[\"coordinates\"][0]])\n",
    "            else:\n",
    "                allCoord = []\n",
    "                for c in r[\"coordinates\"]:\n",
    "                    allCoord.append(tuple([c[1],c[0]]))\n",
    "                    T[\"geometry\"] = allCoord\n",
    "            \n",
    "            T[\"type\"] = r[\"type\"]\n",
    "            T[\"properties\"] = geo[\"properties\"]\n",
    "            lst.append(T)\n",
    "    return lst\n",
    "        \n",
    "        \n",
    "    "
   ]
  },
  {
   "cell_type": "code",
   "execution_count": 22,
   "metadata": {
    "collapsed": true
   },
   "outputs": [],
   "source": [
    "def coordInsidePolygon(x, y, polygon):\n",
    "    \"\"\"    coordInsidePolygon(x, y, polygon)\n",
    "\n",
    "    With a polygon array try if coord is inside.\n",
    "    \n",
    "    Parameters\n",
    "    ----------\n",
    "    polygon : Array\n",
    "    Array that contains the poligon separated [[lat,long], [lat', long'], [lat'', long''], ...] same as [[y,x],[y',x'], [y'',x''], ...] \n",
    "    representation of OSM return.\n",
    "    x : float\n",
    "    Coord x\n",
    "    y : float\n",
    "    Coord y\n",
    "    \n",
    "    Returns\n",
    "    -------\n",
    "    Bool\n",
    "    Returns true/false depending if it's inside or not.\n",
    "    \"\"\"\n",
    "    n = len(polygon)\n",
    "    inside = False    \n",
    "    if n > 0:\n",
    "        p1y, p1x = polygon[0]\n",
    "        for i in range(1, n + 1):\n",
    "            p2y, p2x = polygon[i % n]\n",
    "            if y > min(p1y, p2y):\n",
    "                if y <= max(p1y, p2y):\n",
    "                    if x <= max(p1x, p2x):\n",
    "                        if p1y != p2y:\n",
    "                            xinters = (y - p1y) * (p2x - p1x) / (p2y - p1y) + p1x\n",
    "                        if p1x == p2x or x <= xinters:\n",
    "                            inside = not inside\n",
    "            p1x, p1y = p2x, p2y\n",
    "    return inside"
   ]
  },
  {
   "cell_type": "code",
   "execution_count": 23,
   "metadata": {
    "collapsed": true
   },
   "outputs": [],
   "source": [
    "def getPerimeterOfDictWithPolygons(dictionary):\n",
    "    arrPoly = []\n",
    "    for d in dictionary:\n",
    "        poly = dictionary[d]\n",
    "        for x in poly:\n",
    "            if x not in arrPoly:\n",
    "                arrPoly.append(x)\n",
    "    \n",
    "    tmpArr = []\n",
    "    cont = 0\n",
    "    \n",
    "    \n",
    "    for x in arrPoly:        \n",
    "        if coordInsidePolygon(x[0], x[1], tmpArr) == False:\n",
    "            tmpArr.append(x)\n",
    "            T = tmpArr[:]\n",
    "            cont = 0\n",
    "            for t in tmpArr:\n",
    "                tmpArr.pop(cont)\n",
    "                if coordInsidePolygon(t[0], t[1], T) == False:\n",
    "                    tmpArr.append(t)\n",
    "                cont += 1\n",
    "                    \n",
    "        \n",
    "    \n",
    "    print len(arrPoly)\n",
    "    print len(tmpArr)\n",
    "    return tmpArr"
   ]
  },
  {
   "cell_type": "code",
   "execution_count": null,
   "metadata": {
    "collapsed": false
   },
   "outputs": [],
   "source": []
  },
  {
   "cell_type": "code",
   "execution_count": 24,
   "metadata": {
    "collapsed": true
   },
   "outputs": [],
   "source": [
    "def transformArrYXToXY(arrYX):\n",
    "    points = []\n",
    "    for point in arrYX:\n",
    "        points.append(tuple([point[1], point[0]]))\n",
    "    return points\n",
    "\n",
    "def transformArrYXToXYList(arrYX):\n",
    "    points = []\n",
    "    for point in arrYX:\n",
    "        points.append([point[1], point[0]])\n",
    "    return points\n",
    "\n"
   ]
  },
  {
   "cell_type": "code",
   "execution_count": 25,
   "metadata": {
    "collapsed": false
   },
   "outputs": [],
   "source": [
    "def removeIntInxString(txt, sep = '.'):\n",
    "    s = txt.split(sep)\n",
    "    rettxt = ''\n",
    "    if len(s) > 1:\n",
    "        for t in s[1: len(s) -1]:\n",
    "            rettxt = rettxt + t.strip() + sep\n",
    "        rettxt = rettxt + s[-1].strip()\n",
    "        return rettxt\n",
    "    else:\n",
    "        return txt.strip()"
   ]
  },
  {
   "cell_type": "code",
   "execution_count": 26,
   "metadata": {
    "collapsed": true
   },
   "outputs": [],
   "source": [
    "def mapCreation(centerX, centerY):\n",
    "    map = folium.Map(location=[centerX,centerY])\n",
    "    return map"
   ]
  },
  {
   "cell_type": "code",
   "execution_count": 27,
   "metadata": {
    "collapsed": true
   },
   "outputs": [],
   "source": [
    "def mapAddMarker(map, coordX, coordY, icn = 'glyphicon-certificate', color = 'blue', popuName = ''):\n",
    "    folium.Marker([coordX, coordY], popup=popuName,\n",
    "                   icon = folium.Icon(icon=icn,color = color)).add_to(map)"
   ]
  },
  {
   "cell_type": "code",
   "execution_count": 28,
   "metadata": {
    "collapsed": false
   },
   "outputs": [],
   "source": [
    "def mapAddLine(map, arrPoints, lineColor=\"#000000\",weight=2.5, opacity=1):\n",
    "    folium.PolyLine(arrPoints, color=lineColor, weight=weight, opacity=opacity).add_to(map)"
   ]
  },
  {
   "cell_type": "code",
   "execution_count": 29,
   "metadata": {
    "collapsed": false
   },
   "outputs": [],
   "source": [
    "def mapWithMarkerCluster(map, name):\n",
    "    markerCluster = folium.MarkerCluster(name).add_to(map)\n",
    "    return markerCluster\n",
    "\n",
    "def mapAddMarkerToCluster(cluster, coordX, coordY, icn = 'glyphicon-certificate', iconcolor = '#0000FF', txtOfPoppup = \"\", sizeX = 200, sizeY = 50):\n",
    "    poppin = folium.Popup(html=folium.element.IFrame(html=txtOfPoppup,width=sizeX,height=sizeY))\n",
    "    folium.Marker([coordX,coordY], icon=folium.Icon(icon=icn, color=iconcolor),popup = poppin).add_to(cluster)"
   ]
  },
  {
   "cell_type": "code",
   "execution_count": 30,
   "metadata": {
    "collapsed": true
   },
   "outputs": [],
   "source": [
    "def mapAddRegularPolygonMarker(map, points, color = '#0000FF', txtOfPoppup = \"\", sizeX = 200, sizeY = 50):\n",
    "    poppin = folium.Popup(html=folium.element.IFrame(html=txtOfPoppup,width=sizeX,height=sizeY))\n",
    "    folium.RegularPolygonMarker(points, weight=2.5, opacity=1, fill_color=color, fill_opacity=1, popup=poppin).add_to(map)"
   ]
  },
  {
   "cell_type": "code",
   "execution_count": 31,
   "metadata": {
    "collapsed": true
   },
   "outputs": [],
   "source": [
    "def saveMap(map, saveFileName = 'map.html'):\n",
    "    map.save(saveFileName)"
   ]
  },
  {
   "cell_type": "code",
   "execution_count": 32,
   "metadata": {
    "collapsed": false
   },
   "outputs": [],
   "source": [
    "#POLYGON\n",
    "#POINTS x, y o UTMX UTMY or Ids\n",
    "#All data or limited Data\n",
    "#Load From CSV, GEOJSON, Amenity OSM, bikesBCN, Nodes OSM,  \n",
    "\n",
    "\n",
    "#getDataOfCsv(name, sep=';')\n",
    "#getNowBikesInBcn()\n",
    "#getAllBarrisBCNPoligonBox(path = 'alldata/barris.geojson', columnName='neighbourhood')\n",
    "#pandasReadJson(url)\n",
    "#getAmenityInfoIntoPolygon(polygon, amenityType='pub', timeOutWaitExcept = 30)\n",
    "#getAmenityInfoIntoBoundingBox(boundingBoxSearch, amenityType='pub', timeOutWaitExcept = 30)\n",
    "\n",
    "\n",
    "\n",
    "def transformPandasToStructureInfo(pd, type = 'point', colPolygonOrX = 0, colY = 0, ifIsPolygonIsXY = True, isUTM = False, zoneUTM = 31):\n",
    "    lst = []    \n",
    "    for d in pd[:].iterrows():\n",
    "        if d[1][1] != -1:           \n",
    "            T = dict()\n",
    "            tmp = dict()\n",
    "            tmp = d[1]\n",
    "            T[\"type\"] = type\n",
    "            \n",
    "            if type.strip().lower() == 'point':\n",
    "                x = tmp[colPolygonOrX]\n",
    "                y = tmp[colY]\n",
    "                if is_number(tmp[colPolygonOrX]) == False:                   \n",
    "                    x = float(tmp[colPolygonOrX].replace(',', '.'))\n",
    "                if is_number(tmp[colY]) == False:                                   \n",
    "                    y = float(tmp[colY].replace(',', '.'))\n",
    "                if isUTM == True:              \n",
    "                    x = float(x)\n",
    "                    y = float(y)\n",
    "                    x, y = utmToLatLng(zoneUTM, x, y)                      \n",
    "                T[\"geometry\"] = tuple([x,y])\n",
    "                \n",
    "            else:\n",
    "                polyOrX = tmp[colPolygonOrX]\n",
    "                if ifIsPolygonIsXY == False:\n",
    "                    polyOrX = transformArrYXToXY(polyOrX) \n",
    "                T[\"geometry\"] = polyOrX\n",
    "            T[\"properties\"] = tmp\n",
    "            lst.append(T)\n",
    "\n",
    "    return lst\n",
    "\n",
    "    \n",
    "def getDatabase(name, extension, path = \"\" , sep = \"\", isPolygon = False, colPolygonOrLong = 0, colLat = 1, columnName = '',  ifIsPolygonIsXY = True, isUTM = False, zoneUTM = 31):\n",
    "    allData = []\n",
    "    name = name.strip().lower()\n",
    "    if extension.strip().lower() == 'csv':\n",
    "        allData = getDataOfCsv(path.strip().lower(), sep)\n",
    "        if isPolygon == False:\n",
    "            return [name, transformPandasToStructureInfo(allData, 'point', colPolygonOrLong, colLat, ifIsPolygonIsXY, isUTM,zoneUTM)]\n",
    "        else:\n",
    "            return [name, transformPandasToStructureInfo(allData, 'polygon', colPolygonOrLong, colLat, ifIsPolygonIsXY, isUTM,zoneUTM)]\n",
    "    elif extension.strip().lower() == 'json':\n",
    "        allData = pandasReadJson(path)\n",
    "        if isPolygon == False:\n",
    "            return [name, transformPandasToStructureInfo(allData, 'point', colPolygonOrLong, colLat, ifIsPolygonIsXY, isUTM,zoneUTM)]\n",
    "        else:\n",
    "            return [name, transformPandasToStructureInfo(allData, 'polygon', colPolygonOrLong, colLat, ifIsPolygonIsXY, isUTM,zoneUTM)]           \n",
    "    elif extension.strip().lower() == 'geojson':\n",
    "        return [name, getAllBarrisBCNPoligonBox(path, columnName, True)]\n",
    "    elif extension.strip().lower() == 'bcnbikes':        \n",
    "        return [name, transformPandasToStructureInfo(getNowBikesInBcn(), 'point', 'lng', 'lat', True, True, 31)]\n",
    "    return allData\n",
    "\n"
   ]
  },
  {
   "cell_type": "code",
   "execution_count": 33,
   "metadata": {
    "collapsed": false
   },
   "outputs": [],
   "source": [
    "def getDatabaseFromOSM(name, type = 'amenity|node|way', searchByPolygon = True, boundingBoxOrPolygon = [], keyWord = 'restaurant', timeOutWait = 30):\n",
    "    \n",
    "    allData = []\n",
    "    name = name.strip().lower()\n",
    "    if type.strip().lower() == 'amenity':\n",
    "        if searchByPolygon == True:\n",
    "            return getInfoOfOSMSearch(getAmenityInfoIntoPolygon(transformArrYXToXYList(boundingBoxOrPolygon), keyWord, timeOutWait))\n",
    "        else:\n",
    "            return getInfoOfOSMSearch(getAmenityInfoIntoBoundingBox(boundingBoxOrPolygon, keyWord, timeOutWait))\n",
    "    elif type.strip().lower() == 'node':\n",
    "        if searchByPolygon == True:\n",
    "            return getInfoOfOSMSearch(getAllNodesIntoPolygon(transformArrYXToXYList(boundingBoxOrPolygon), timeOutWait))\n",
    "        else:\n",
    "            return getInfoOfOSMSearch(getAllNodesIntoBoundingBox(boundingBoxOrPolygon, timeOutWait))\n",
    "        "
   ]
  },
  {
   "cell_type": "code",
   "execution_count": null,
   "metadata": {
    "collapsed": false
   },
   "outputs": [],
   "source": []
  },
  {
   "cell_type": "code",
   "execution_count": null,
   "metadata": {
    "collapsed": false
   },
   "outputs": [],
   "source": [
    "      "
   ]
  },
  {
   "cell_type": "code",
   "execution_count": null,
   "metadata": {
    "collapsed": false,
    "scrolled": true
   },
   "outputs": [],
   "source": []
  },
  {
   "cell_type": "code",
   "execution_count": null,
   "metadata": {
    "collapsed": false,
    "scrolled": true
   },
   "outputs": [],
   "source": []
  },
  {
   "cell_type": "code",
   "execution_count": null,
   "metadata": {
    "collapsed": false
   },
   "outputs": [],
   "source": []
  },
  {
   "cell_type": "code",
   "execution_count": null,
   "metadata": {
    "collapsed": false
   },
   "outputs": [],
   "source": []
  },
  {
   "cell_type": "code",
   "execution_count": null,
   "metadata": {
    "collapsed": false
   },
   "outputs": [],
   "source": []
  },
  {
   "cell_type": "code",
   "execution_count": null,
   "metadata": {
    "collapsed": false
   },
   "outputs": [],
   "source": []
  },
  {
   "cell_type": "code",
   "execution_count": null,
   "metadata": {
    "collapsed": false
   },
   "outputs": [],
   "source": []
  },
  {
   "cell_type": "code",
   "execution_count": null,
   "metadata": {
    "collapsed": true
   },
   "outputs": [],
   "source": []
  }
 ],
 "metadata": {
  "anaconda-cloud": {},
  "kernelspec": {
   "display_name": "Python [default]",
   "language": "python",
   "name": "python2"
  },
  "language_info": {
   "codemirror_mode": {
    "name": "ipython",
    "version": 2
   },
   "file_extension": ".py",
   "mimetype": "text/x-python",
   "name": "python",
   "nbconvert_exporter": "python",
   "pygments_lexer": "ipython2",
   "version": "2.7.12"
  }
 },
 "nbformat": 4,
 "nbformat_minor": 1
}
