{
 "cells": [
  {
   "cell_type": "code",
   "execution_count": 407,
   "metadata": {
    "collapsed": false
   },
   "outputs": [],
   "source": [
    "#Useful functions @racu10\n",
    "\n",
    "import pandas as pd\n",
    "import numpy as np\n",
    "import overpy\n",
    "import overpass\n",
    "import folium\n",
    "from osmapi import OsmApi\n",
    "import math\n",
    "\n",
    "MyApi = OsmApi()\n",
    "apiOverPass = overpass.API()\n",
    "apiOverPy =  overpy.Overpass()\n"
   ]
  },
  {
   "cell_type": "code",
   "execution_count": 408,
   "metadata": {
    "collapsed": true
   },
   "outputs": [],
   "source": [
    "def getDistance(long1, lat1, long2, lat2):\n",
    "    \"\"\"    getDistance(long1, lat1, long2, lat2)\n",
    "\n",
    "    Get distance betwen 2 coordinates in log/lat.\n",
    "    \n",
    "    Parameters\n",
    "    ----------\n",
    "    long1 : float\n",
    "        Longitude 1st coordinate.\n",
    "    lat1 : float\n",
    "            Latitude 1st coordinate.\n",
    "    long2 : float\n",
    "            Longitude 2nd coordinate.  \n",
    "    lat2 : float\n",
    "            Latitude 2nd coordinate.\n",
    "    Returns\n",
    "    -------\n",
    "    float\n",
    "    Get the value of the distance.\n",
    "    \"\"\"\n",
    "    \n",
    "    \n",
    "    r = 6371000 #radio terrestre medio, en metros \n",
    "    c = math.pi/180 #constante para transformar grados en radianes\n",
    " \n",
    "    return 2*r*math.asin(math.sqrt(math.sin(c*(lat2-lat1)/2)**2 + math.cos(c*lat1)*math.cos(c*lat2)*math.sin(c*(long2-long1)/2)**2))"
   ]
  },
  {
   "cell_type": "code",
   "execution_count": 409,
   "metadata": {
    "collapsed": true
   },
   "outputs": [],
   "source": [
    "def utmToLatLng(zone, easting, northing, northernHemisphere=True):\n",
    "\n",
    "    \"\"\"    utmToLatLng(zone, easting, northing, northernHemisphere=True)\n",
    "\n",
    "    Tranform UTM location to Lat / Long\n",
    "    \n",
    "    Parameters\n",
    "    ----------\n",
    "    zone : int\n",
    "        Value of the zone where are coordinates getted. \n",
    "    easting : float\n",
    "            Falue from easting (X).\n",
    "    northing : float\n",
    "            Falue from northing (Y).\n",
    "    northernHemisphere : bool\n",
    "            Latitude 2nd coordinate.\n",
    "    \n",
    "    Returns\n",
    "    -------\n",
    "    tupple (latitude, longitude)\n",
    "    Get the value of UTM into lat and long.\n",
    "    \n",
    "    More info\n",
    "    ---------\n",
    "    See http://www.dmap.co.uk/utmworld.htm to locate your zone and the hemisphere.\n",
    "    \n",
    "    \"\"\"\n",
    "    \n",
    "    if not northernHemisphere:\n",
    "        northing = 10000000 - northing\n",
    "\n",
    "    a = 6378137\n",
    "    e = 0.081819191\n",
    "    e1sq = 0.006739497\n",
    "    k0 = 0.9996\n",
    "\n",
    "    arc = northing / k0\n",
    "    mu = arc / (a * (1 - math.pow(e, 2) / 4.0 - 3 * math.pow(e, 4) / 64.0 - 5 * math.pow(e, 6) / 256.0))\n",
    "\n",
    "    ei = (1 - math.pow((1 - e * e), (1 / 2.0))) / (1 + math.pow((1 - e * e), (1 / 2.0)))\n",
    "\n",
    "    ca = 3 * ei / 2 - 27 * math.pow(ei, 3) / 32.0\n",
    "\n",
    "    cb = 21 * math.pow(ei, 2) / 16 - 55 * math.pow(ei, 4) / 32\n",
    "    cc = 151 * math.pow(ei, 3) / 96\n",
    "    cd = 1097 * math.pow(ei, 4) / 512\n",
    "    phi1 = mu + ca * math.sin(2 * mu) + cb * math.sin(4 * mu) + cc * math.sin(6 * mu) + cd * math.sin(8 * mu)\n",
    "\n",
    "    n0 = a / math.pow((1 - math.pow((e * math.sin(phi1)), 2)), (1 / 2.0))\n",
    "\n",
    "    r0 = a * (1 - e * e) / math.pow((1 - math.pow((e * math.sin(phi1)), 2)), (3 / 2.0))\n",
    "    fact1 = n0 * math.tan(phi1) / r0\n",
    "\n",
    "    _a1 = 500000 - easting\n",
    "    dd0 = _a1 / (n0 * k0)\n",
    "    fact2 = dd0 * dd0 / 2\n",
    "\n",
    "    t0 = math.pow(math.tan(phi1), 2)\n",
    "    Q0 = e1sq * math.pow(math.cos(phi1), 2)\n",
    "    fact3 = (5 + 3 * t0 + 10 * Q0 - 4 * Q0 * Q0 - 9 * e1sq) * math.pow(dd0, 4) / 24\n",
    "\n",
    "    fact4 = (61 + 90 * t0 + 298 * Q0 + 45 * t0 * t0 - 252 * e1sq - 3 * Q0 * Q0) * math.pow(dd0, 6) / 720\n",
    "\n",
    "    lof1 = _a1 / (n0 * k0)\n",
    "    lof2 = (1 + 2 * t0 + Q0) * math.pow(dd0, 3) / 6.0\n",
    "    lof3 = (5 - 2 * Q0 + 28 * t0 - 3 * math.pow(Q0, 2) + 8 * e1sq + 24 * math.pow(t0, 2)) * math.pow(dd0, 5) / 120\n",
    "    _a2 = (lof1 - lof2 + lof3) / math.cos(phi1)\n",
    "    _a3 = _a2 * 180 / math.pi\n",
    "\n",
    "    latitude = 180 * (phi1 - fact1 * (fact2 + fact3 + fact4)) / math.pi\n",
    "\n",
    "    if not northernHemisphere:\n",
    "        latitude = -latitude\n",
    "\n",
    "    longitude = ((zone > 0) and (6 * zone - 183.0) or 3.0) - _a3\n",
    "\n",
    "    return (latitude, longitude)\n"
   ]
  },
  {
   "cell_type": "code",
   "execution_count": 410,
   "metadata": {
    "collapsed": true
   },
   "outputs": [],
   "source": [
    "def getDataOfCsv(name, sep=';'):\n",
    "    import pandas as pd\n",
    "    \"\"\"    getDataOfCsv(name):\n",
    "\n",
    "    Load data of csv to pandas.\n",
    "    \n",
    "    Parameters\n",
    "    ----------\n",
    "    name : String\n",
    "        Path + file.csv to load.\n",
    "    sep : String\n",
    "        Separator of the csv.\n",
    "    \n",
    "    Returns\n",
    "    -------\n",
    "    Pandas array\n",
    "    Get the structure of the CSV.\n",
    "    \"\"\"\n",
    "    allData = None\n",
    "    try:\n",
    "        allData = pd.read_csv(name, encoding = \"utf8\", sep=sep)\n",
    "    except:\n",
    "        allData = pd.read_csv(name, encoding = \"ISO-8859-1\", sep=sep)\n",
    "    return allData"
   ]
  },
  {
   "cell_type": "code",
   "execution_count": 411,
   "metadata": {
    "collapsed": true
   },
   "outputs": [],
   "source": [
    "def getPointOfStreet(streetName, boundingBoxSearch): \n",
    "    \"\"\"    getPointOfStreet(streetName, boundingBoxSearch)\n",
    "\n",
    "    Get distance betwen 2 coordinates in log/lat.\n",
    "    \n",
    "    Parameters\n",
    "    ----------\n",
    "    streetName : float\n",
    "        Name of the street you are looking the points.\n",
    "    boundingBoxSearch : tuple \n",
    "            Bounding box coordinates to limit the map.\n",
    "    \n",
    "    Returns\n",
    "    -------\n",
    "    OSM structure\n",
    "    Get all points of the street with the OSM structure with all parameters.\n",
    "    \"\"\"\n",
    "    apiOverPass = overpass.API()\n",
    "    sql = 'way[name~\"'+streetName+'\"]'+str(boundingBoxSearch).encode(\"utf-8\")+';'\n",
    "    \n",
    "    return apiOverPass.Get(sql)"
   ]
  },
  {
   "cell_type": "code",
   "execution_count": 412,
   "metadata": {
    "collapsed": true
   },
   "outputs": [],
   "source": [
    "def fromPointsOfStretGetBestUbicationMinXY(pointsOfStreet, xtest, ytest):\n",
    "    \"\"\"    fromPointsOfStretGetBestUbicationMinXY(pointsOfStreet, xtest, ytest):\n",
    "\n",
    "    Localize the point more close to the street given with his points using OSM features.\n",
    "    \n",
    "    Parameters\n",
    "    ----------\n",
    "    pointsOfStreet : float\n",
    "        Name of the street you are looking the points.\n",
    "    xtest : float \n",
    "            Actual x coordinate to be remplaced.\n",
    "    ytest : tuple \n",
    "            Actual y coordinate to be remplaced.\n",
    "            \n",
    "    Returns\n",
    "    -------\n",
    "    tuple x, y\n",
    "    Get the best location into the street given.\n",
    "    \"\"\"\n",
    "    \n",
    "    \n",
    "    allCorrd = pointsOfStreet['features']\n",
    "    minD = float('inf')\n",
    "    cx = xtest\n",
    "    cy = ytest\n",
    "    for geo in allCorrd:\n",
    "        geometry = geo[\"geometry\"]\n",
    "\n",
    "        if geometry[\"type\"].upper() == \"LINESTRING\":\n",
    "            for c in geometry[\"coordinates\"]:\n",
    "                y = c[0]\n",
    "                x = c[1]\n",
    "                #txtHtml = \"Coord: \"+ str(c) \n",
    "                #print(x, ' - ', y)\n",
    "                #poppin = folium.Popup(html=folium.element.IFrame(html=txtHtml,width=200,height=50))\n",
    "                #folium.Marker([x,y], icon=folium.Icon(icon='glyphicon-plus', color='pink'),popup = poppin).add_to(markerCluster)\n",
    "                d = getDistance(xtest, ytest, x, y)\n",
    "                #print(d, ' --- ', str(c))\n",
    "                if d < minD:  \n",
    "                    #print(d, ' --- ', str(c))\n",
    "                    cx = x\n",
    "                    cy = y \n",
    "                    minD = d\n",
    "    return cx,cy"
   ]
  },
  {
   "cell_type": "code",
   "execution_count": 413,
   "metadata": {
    "collapsed": true
   },
   "outputs": [],
   "source": [
    "def pandasReadJson(url):\n",
    "    \"\"\"    pandasReadJson(url):\n",
    "\n",
    "    Tranform JSON into pandas Object\n",
    "    \n",
    "    Parameters\n",
    "    ----------\n",
    "    url : String\n",
    "        Url of the Json.\n",
    "            \n",
    "    Returns\n",
    "    -------\n",
    "    pandas structure\n",
    "    Get all data from JSON URL.\n",
    "    \"\"\"\n",
    "    \n",
    "    import pandas as pd\n",
    "    return pd.read_json(url)"
   ]
  },
  {
   "cell_type": "code",
   "execution_count": 414,
   "metadata": {
    "collapsed": false
   },
   "outputs": [],
   "source": [
    "def getNowBikesInBcn():\n",
    "    \"\"\"    getNowBikesInBcn():\n",
    "\n",
    "    From api citybike get json of actual moment of the bikes in barcelona\n",
    "    \n",
    "    Parameters\n",
    "    ----------\n",
    "            \n",
    "    Returns\n",
    "    -------\n",
    "    pandas structure\n",
    "    Get all data of citybike barcelona.\n",
    "    \"\"\"\n",
    "\n",
    "    apiBikes = 'http://api.citybik.es/bicing.json'\n",
    "    df = pandasReadJson(apiBikes)\n",
    "    return df"
   ]
  },
  {
   "cell_type": "code",
   "execution_count": 415,
   "metadata": {
    "collapsed": true
   },
   "outputs": [],
   "source": [
    "def decodeToUTF8(text):\n",
    "    try:\n",
    "        text = unicode(text, 'utf-8')\n",
    "    except TypeError:\n",
    "        return text"
   ]
  },
  {
   "cell_type": "code",
   "execution_count": 416,
   "metadata": {
    "collapsed": false
   },
   "outputs": [],
   "source": [
    "def getAllBarrisBCNPoligonBox(path = 'alldata/barris.geojson'):\n",
    "    \"\"\"    getAllBarrisBCNPoligonBox(path)\n",
    "\n",
    "    From geojson of barris set to dicctionary with his poligon\n",
    "    \n",
    "    Parameters\n",
    "    ----------\n",
    "    path : String\n",
    "    Path of the file\n",
    "            \n",
    "    Returns\n",
    "    -------\n",
    "    Dictonary\n",
    "    Dictinary with key is \"barri\" and data is the poligon.\n",
    "    \"\"\"\n",
    "    dicBarris = dict()\n",
    "    df = pandasReadJson(path)\n",
    "    for d in df.iterrows():\n",
    "        allData = d[1][0]        \n",
    "        r = dict(allData)\n",
    "        l = r['properties']\n",
    "        name = l['neighbourhood']\n",
    "        #name = name.decode('utf8')\n",
    "        s = r['geometry']\n",
    "        coord = s['coordinates'][0][0]\n",
    "        dicBarris[name] = coord\n",
    "    return dicBarris\n",
    "            "
   ]
  },
  {
   "cell_type": "code",
   "execution_count": 417,
   "metadata": {
    "collapsed": true
   },
   "outputs": [],
   "source": [
    "def polygonArrayToOSMstructure(polygon):\n",
    "    \"\"\"    polygonArrayToOSMstructure(polygon)\n",
    "\n",
    "    With a polygon array gets structure of poly for OSM sql.\n",
    "    \n",
    "    Parameters\n",
    "    ----------\n",
    "    polygon : Array\n",
    "    Array that contains the poligon separated [[long,lat], [long', lat'], [long'', lat''], ...] same as [[y,x],[y',x'], [y'',x''], ...] \n",
    "    representation of OSM return.\n",
    "            \n",
    "    Returns\n",
    "    -------\n",
    "    String\n",
    "    Returns the string asociated for OSM sqls (poly: ...).\n",
    "    \"\"\"\n",
    "    s = '(poly:\"'\n",
    "    for y, x in polygon[:-1]:\n",
    "        s += str(x)+ ' '+ str(y)+' '\n",
    "    s += str(r[-1][1])+' '+str(r[-1][0]) +'\")'\n",
    "    return s"
   ]
  },
  {
   "cell_type": "code",
   "execution_count": 418,
   "metadata": {
    "collapsed": false
   },
   "outputs": [],
   "source": [
    "def getAllNodesIntoPolygon(polygon):\n",
    "    \"\"\"    getAllNodesIntoPolygon(polygon)\n",
    "\n",
    "    With a polygon array gets all nodes inside them.\n",
    "    \n",
    "    Parameters\n",
    "    ----------\n",
    "    polygon : Array\n",
    "    Array that contains the poligon separated [[long,lat], [long', lat'], [long'', lat''], ...] same as [[y,x],[y',x'], [y'',x''], ...] \n",
    "    representation of OSM return.\n",
    "            \n",
    "    Returns\n",
    "    -------\n",
    "    Dictonary\n",
    "    Dictinary with key is \"barri\" and data is the poligon.\n",
    "    \"\"\"\n",
    "\n",
    "    s = polygonArrayToOSMstructure(polygon)\n",
    "    sql = \"\"\"node\"\"\"+ s + \"\"\";out;\"\"\"\n",
    "    allData = apiOverPass.Get(sql)\n",
    "    return allData"
   ]
  },
  {
   "cell_type": "code",
   "execution_count": 419,
   "metadata": {
    "collapsed": true
   },
   "outputs": [],
   "source": [
    "def getAmenityInfoIntoPolygon(polygon, amenityType='pub'):\n",
    "    #http://wiki.openstreetmap.org/wiki/Key:amenity\n",
    "    \n",
    "    \n",
    "    \n",
    "    s = polygonArrayToOSMstructure(polygon)\n",
    "    sql = \"(node[amenity='\" + amenityType + \"']\"+ s +\";);out center;\"\n",
    "    allData = apiOverPass.Get(sql)\n",
    "    return allData"
   ]
  },
  {
   "cell_type": "code",
   "execution_count": 420,
   "metadata": {
    "collapsed": true
   },
   "outputs": [],
   "source": [
    "def getNodeInfo(idNode):\n",
    "    osm = OsmApi()\n",
    "    T = osm.NodeGet(idNode)\n",
    "    return T"
   ]
  },
  {
   "cell_type": "code",
   "execution_count": 421,
   "metadata": {
    "collapsed": true
   },
   "outputs": [],
   "source": [
    "def coordInsidePolygon(x, y, polygon):\n",
    "    \"\"\"    coordInsidePolygon(x, y, polygon)\n",
    "\n",
    "    With a polygon array try if coord is inside.\n",
    "    \n",
    "    Parameters\n",
    "    ----------\n",
    "    polygon : Array\n",
    "    Array that contains the poligon separated [[long,lat], [long', lat'], [long'', lat''], ...] same as [[y,x],[y',x'], [y'',x''], ...] \n",
    "    representation of OSM return.\n",
    "    x : float\n",
    "    Coord x\n",
    "    y : float\n",
    "    Coord y\n",
    "    \n",
    "    Returns\n",
    "    -------\n",
    "    Bool\n",
    "    Returns true/false depending if it's inside or not.\n",
    "    \"\"\"\n",
    "    n = len(polygon)\n",
    "    inside = False\n",
    "    p1y, p1x = polygon[0]\n",
    "    for i in range(1, n + 1):\n",
    "        p2y, p2x = polygon[i % n]\n",
    "        if y > min(p1y, p2y):\n",
    "            if y <= max(p1y, p2y):\n",
    "                if x <= max(p1x, p2x):\n",
    "                    if p1y != p2y:\n",
    "                        xinters = (y - p1y) * (p2x - p1x) / (p2y - p1y) + p1x\n",
    "                    if p1x == p2x or x <= xinters:\n",
    "                        inside = not inside\n",
    "        p1x, p1y = p2x, p2y\n",
    "    return inside"
   ]
  },
  {
   "cell_type": "code",
   "execution_count": 422,
   "metadata": {
    "collapsed": false
   },
   "outputs": [],
   "source": [
    "T = getAllBarrisBCNPoligonBox()\n"
   ]
  },
  {
   "cell_type": "code",
   "execution_count": 423,
   "metadata": {
    "collapsed": false
   },
   "outputs": [
    {
     "name": "stdout",
     "output_type": "stream",
     "text": [
      "[{\"geometry\": {\"coordinates\": [2.1187793, 41.3789147], \"type\": \"Point\"}, \"id\": 1580283243, \"properties\": {\"amenity\": \"restaurant\", \"cuisine\": \"fish\", \"name\": \"El Fogonet del Peix\"}, \"type\": \"Feature\"}, {\"geometry\": {\"coordinates\": [2.1225986, 41.3784591], \"type\": \"Point\"}, \"id\": 1722141878, \"properties\": {\"amenity\": \"restaurant\", \"cuisine\": \"spanish\", \"name\": \"Taller de Tapes\"}, \"type\": \"Feature\"}, {\"geometry\": {\"coordinates\": [2.1165659, 41.3772692], \"type\": \"Point\"}, \"id\": 1820633295, \"properties\": {\"amenity\": \"restaurant\", \"cuisine\": \"spanish\", \"name\": \"Aragall\"}, \"type\": \"Feature\"}, {\"geometry\": {\"coordinates\": [2.1192079, 41.3774785], \"type\": \"Point\"}, \"id\": 1820633323, \"properties\": {\"amenity\": \"restaurant\", \"cuisine\": \"spanish\", \"name\": \"rincon manchego\"}, \"type\": \"Feature\"}, {\"geometry\": {\"coordinates\": [2.1172593, 41.376366], \"type\": \"Point\"}, \"id\": 1820633333, \"properties\": {\"amenity\": \"restaurant\", \"cuisine\": \"spanish\", \"name\": \"Bar Chile\"}, \"type\": \"Feature\"}, {\"geometry\": {\"coordinates\": [2.110075, 41.3823838], \"type\": \"Point\"}, \"id\": 1977650257, \"properties\": {\"amenity\": \"restaurant\", \"cuisine\": \"spanish\", \"name\": \"The Garden\"}, \"type\": \"Feature\"}, {\"geometry\": {\"coordinates\": [2.1226068, 41.3770477], \"type\": \"Point\"}, \"id\": 2283529020, \"properties\": {\"addr:housenumber\": \"15\", \"addr:street\": \"Regent Mendieta\", \"amenity\": \"restaurant\", \"cuisine\": \"vegetarian\", \"diet:vegetarian\": \"only\", \"name\": \"La Riera\", \"website\": \"www.vegetarialariera.com\"}, \"type\": \"Feature\"}, {\"geometry\": {\"coordinates\": [2.1147922, 41.375925], \"type\": \"Point\"}, \"id\": 3379647026, \"properties\": {\"addr:city\": \"Barcelona\", \"addr:housenumber\": \"102\", \"addr:postcode\": \"08028\", \"addr:street\": \"Carretera de Collblanc\", \"amenity\": \"restaurant\", \"capacity\": \"50\", \"cuisine\": \"kebab\", \"delivery\": \"yes\", \"name\": \"gourmet KEBAB\", \"opening_hours\": \"OPEN 13:30 - 16:00 / 20:00 - 23:30\", \"smoking\": \"outside\", \"takeaway\": \"yes\", \"website\": \"facebook.com/gourmetkebab.es\"}, \"type\": \"Feature\"}, {\"geometry\": {\"coordinates\": [2.1205338, 41.3806057], \"type\": \"Point\"}, \"id\": 3741020532, \"properties\": {\"amenity\": \"restaurant\", \"name\": \"Pans & Company\", \"phone\": \"+34 934 90 26 65\", \"website\": \"http://www.pansandcompany.com/\"}, \"type\": \"Feature\"}, {\"geometry\": {\"coordinates\": [2.1167186, 41.3771837], \"type\": \"Point\"}, \"id\": 4362317799, \"properties\": {\"amenity\": \"restaurant\"}, \"type\": \"Feature\"}, {\"geometry\": {\"coordinates\": [2.1151348, 41.3768637], \"type\": \"Point\"}, \"id\": 4362319493, \"properties\": {\"amenity\": \"restaurant\", \"name\": \"Royal\", \"name:es\": \"Royal\"}, \"type\": \"Feature\"}, {\"geometry\": {\"coordinates\": [2.1147735, 41.3767991], \"type\": \"Point\"}, \"id\": 4362319993, \"properties\": {\"amenity\": \"restaurant\", \"name\": \"El sotanillo\", \"name:es\": \"El sotanillo\"}, \"type\": \"Feature\"}, {\"geometry\": {\"coordinates\": [2.1152719, 41.3772956], \"type\": \"Point\"}, \"id\": 4362332189, \"properties\": {\"amenity\": \"restaurant\", \"name\": \"Mario\", \"name:es\": \"Mario\"}, \"type\": \"Feature\"}, {\"geometry\": {\"coordinates\": [2.1218524, 41.3771863], \"type\": \"Point\"}, \"id\": 4362630089, \"properties\": {\"amenity\": \"restaurant\", \"name\": \"El cargolet picant\", \"name:es\": \"El cargolet picant\"}, \"type\": \"Feature\"}, {\"geometry\": {\"coordinates\": [2.1187793, 41.3789147], \"type\": \"Point\"}, \"id\": 1580283243, \"properties\": {\"amenity\": \"restaurant\", \"cuisine\": \"fish\", \"name\": \"El Fogonet del Peix\"}, \"type\": \"Feature\"}, {\"geometry\": {\"coordinates\": [2.1225986, 41.3784591], \"type\": \"Point\"}, \"id\": 1722141878, \"properties\": {\"amenity\": \"restaurant\", \"cuisine\": \"spanish\", \"name\": \"Taller de Tapes\"}, \"type\": \"Feature\"}, {\"geometry\": {\"coordinates\": [2.1165659, 41.3772692], \"type\": \"Point\"}, \"id\": 1820633295, \"properties\": {\"amenity\": \"restaurant\", \"cuisine\": \"spanish\", \"name\": \"Aragall\"}, \"type\": \"Feature\"}, {\"geometry\": {\"coordinates\": [2.1192079, 41.3774785], \"type\": \"Point\"}, \"id\": 1820633323, \"properties\": {\"amenity\": \"restaurant\", \"cuisine\": \"spanish\", \"name\": \"rincon manchego\"}, \"type\": \"Feature\"}, {\"geometry\": {\"coordinates\": [2.1172593, 41.376366], \"type\": \"Point\"}, \"id\": 1820633333, \"properties\": {\"amenity\": \"restaurant\", \"cuisine\": \"spanish\", \"name\": \"Bar Chile\"}, \"type\": \"Feature\"}, {\"geometry\": {\"coordinates\": [2.110075, 41.3823838], \"type\": \"Point\"}, \"id\": 1977650257, \"properties\": {\"amenity\": \"restaurant\", \"cuisine\": \"spanish\", \"name\": \"The Garden\"}, \"type\": \"Feature\"}, {\"geometry\": {\"coordinates\": [2.1226068, 41.3770477], \"type\": \"Point\"}, \"id\": 2283529020, \"properties\": {\"addr:housenumber\": \"15\", \"addr:street\": \"Regent Mendieta\", \"amenity\": \"restaurant\", \"cuisine\": \"vegetarian\", \"diet:vegetarian\": \"only\", \"name\": \"La Riera\", \"website\": \"www.vegetarialariera.com\"}, \"type\": \"Feature\"}, {\"geometry\": {\"coordinates\": [2.1147922, 41.375925], \"type\": \"Point\"}, \"id\": 3379647026, \"properties\": {\"addr:city\": \"Barcelona\", \"addr:housenumber\": \"102\", \"addr:postcode\": \"08028\", \"addr:street\": \"Carretera de Collblanc\", \"amenity\": \"restaurant\", \"capacity\": \"50\", \"cuisine\": \"kebab\", \"delivery\": \"yes\", \"name\": \"gourmet KEBAB\", \"opening_hours\": \"OPEN 13:30 - 16:00 / 20:00 - 23:30\", \"smoking\": \"outside\", \"takeaway\": \"yes\", \"website\": \"facebook.com/gourmetkebab.es\"}, \"type\": \"Feature\"}, {\"geometry\": {\"coordinates\": [2.1205338, 41.3806057], \"type\": \"Point\"}, \"id\": 3741020532, \"properties\": {\"amenity\": \"restaurant\", \"name\": \"Pans & Company\", \"phone\": \"+34 934 90 26 65\", \"website\": \"http://www.pansandcompany.com/\"}, \"type\": \"Feature\"}, {\"geometry\": {\"coordinates\": [2.1167186, 41.3771837], \"type\": \"Point\"}, \"id\": 4362317799, \"properties\": {\"amenity\": \"restaurant\"}, \"type\": \"Feature\"}, {\"geometry\": {\"coordinates\": [2.1151348, 41.3768637], \"type\": \"Point\"}, \"id\": 4362319493, \"properties\": {\"amenity\": \"restaurant\", \"name\": \"Royal\", \"name:es\": \"Royal\"}, \"type\": \"Feature\"}, {\"geometry\": {\"coordinates\": [2.1147735, 41.3767991], \"type\": \"Point\"}, \"id\": 4362319993, \"properties\": {\"amenity\": \"restaurant\", \"name\": \"El sotanillo\", \"name:es\": \"El sotanillo\"}, \"type\": \"Feature\"}, {\"geometry\": {\"coordinates\": [2.1152719, 41.3772956], \"type\": \"Point\"}, \"id\": 4362332189, \"properties\": {\"amenity\": \"restaurant\", \"name\": \"Mario\", \"name:es\": \"Mario\"}, \"type\": \"Feature\"}, {\"geometry\": {\"coordinates\": [2.1218524, 41.3771863], \"type\": \"Point\"}, \"id\": 4362630089, \"properties\": {\"amenity\": \"restaurant\", \"name\": \"El cargolet picant\", \"name:es\": \"El cargolet picant\"}, \"type\": \"Feature\"}]\n"
     ]
    }
   ],
   "source": [
    "poly = T['la Maternitat i Sant Ramon']\n",
    "n = getAmenityInfoIntoPolygon(poly, \"restaurant\")\n",
    "print n[\"features\"]"
   ]
  },
  {
   "cell_type": "code",
   "execution_count": 424,
   "metadata": {
    "collapsed": false,
    "scrolled": true
   },
   "outputs": [
    {
     "name": "stdout",
     "output_type": "stream",
     "text": [
      "{u'changeset': 10317602, u'uid': 391962, u'timestamp': datetime.datetime(2012, 1, 7, 0, 3, 5), u'lon': 2.1187793, u'visible': True, u'version': 1, u'user': u'moogido', u'lat': 41.3789147, u'tag': {u'cuisine': u'fish', u'amenity': u'restaurant', u'name': u'El Fogonet del Peix'}, u'id': 1580283243}\n"
     ]
    }
   ],
   "source": [
    "print getNodeInfo(1580283243)"
   ]
  },
  {
   "cell_type": "code",
   "execution_count": 427,
   "metadata": {
    "collapsed": false,
    "scrolled": true
   },
   "outputs": [
    {
     "name": "stdout",
     "output_type": "stream",
     "text": [
      "True\n"
     ]
    }
   ],
   "source": [
    "x = 41.375925\n",
    "y = 2.1151348\n",
    "print coordInsidePolygon(x, y,poly)"
   ]
  },
  {
   "cell_type": "code",
   "execution_count": null,
   "metadata": {
    "collapsed": true
   },
   "outputs": [],
   "source": []
  }
 ],
 "metadata": {
  "anaconda-cloud": {},
  "kernelspec": {
   "display_name": "Python [default]",
   "language": "python",
   "name": "python2"
  },
  "language_info": {
   "codemirror_mode": {
    "name": "ipython",
    "version": 2
   },
   "file_extension": ".py",
   "mimetype": "text/x-python",
   "name": "python",
   "nbconvert_exporter": "python",
   "pygments_lexer": "ipython2",
   "version": "2.7.12"
  }
 },
 "nbformat": 4,
 "nbformat_minor": 1
}
