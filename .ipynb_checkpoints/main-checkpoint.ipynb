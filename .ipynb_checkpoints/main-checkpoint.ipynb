{
 "cells": [
  {
   "cell_type": "code",
   "execution_count": 4,
   "metadata": {
    "collapsed": false
   },
   "outputs": [
    {
     "name": "stdout",
     "output_type": "stream",
     "text": [
      "0.2.1\n"
     ]
    }
   ],
   "source": [
    "import sys\n",
    "import math\n",
    "import folium\n",
    "import pandas as pd\n",
    "from folium.features import CustomIcon\n",
    "print(folium.__version__)"
   ]
  },
  {
   "cell_type": "code",
   "execution_count": null,
   "metadata": {
    "collapsed": false
   },
   "outputs": [],
   "source": [
    "#Functions\n",
    "def utmToLatLng(zone, easting, northing, northernHemisphere=True):\n",
    "    if not northernHemisphere:\n",
    "        northing = 10000000 - northing\n",
    "\n",
    "    a = 6378137\n",
    "    e = 0.081819191\n",
    "    e1sq = 0.006739497\n",
    "    k0 = 0.9996\n",
    "\n",
    "    arc = northing / k0\n",
    "    mu = arc / (a * (1 - math.pow(e, 2) / 4.0 - 3 * math.pow(e, 4) / 64.0 - 5 * math.pow(e, 6) / 256.0))\n",
    "\n",
    "    ei = (1 - math.pow((1 - e * e), (1 / 2.0))) / (1 + math.pow((1 - e * e), (1 / 2.0)))\n",
    "\n",
    "    ca = 3 * ei / 2 - 27 * math.pow(ei, 3) / 32.0\n",
    "\n",
    "    cb = 21 * math.pow(ei, 2) / 16 - 55 * math.pow(ei, 4) / 32\n",
    "    cc = 151 * math.pow(ei, 3) / 96\n",
    "    cd = 1097 * math.pow(ei, 4) / 512\n",
    "    phi1 = mu + ca * math.sin(2 * mu) + cb * math.sin(4 * mu) + cc * math.sin(6 * mu) + cd * math.sin(8 * mu)\n",
    "\n",
    "    n0 = a / math.pow((1 - math.pow((e * math.sin(phi1)), 2)), (1 / 2.0))\n",
    "\n",
    "    r0 = a * (1 - e * e) / math.pow((1 - math.pow((e * math.sin(phi1)), 2)), (3 / 2.0))\n",
    "    fact1 = n0 * math.tan(phi1) / r0\n",
    "\n",
    "    _a1 = 500000 - easting\n",
    "    dd0 = _a1 / (n0 * k0)\n",
    "    fact2 = dd0 * dd0 / 2\n",
    "\n",
    "    t0 = math.pow(math.tan(phi1), 2)\n",
    "    Q0 = e1sq * math.pow(math.cos(phi1), 2)\n",
    "    fact3 = (5 + 3 * t0 + 10 * Q0 - 4 * Q0 * Q0 - 9 * e1sq) * math.pow(dd0, 4) / 24\n",
    "\n",
    "    fact4 = (61 + 90 * t0 + 298 * Q0 + 45 * t0 * t0 - 252 * e1sq - 3 * Q0 * Q0) * math.pow(dd0, 6) / 720\n",
    "\n",
    "    lof1 = _a1 / (n0 * k0)\n",
    "    lof2 = (1 + 2 * t0 + Q0) * math.pow(dd0, 3) / 6.0\n",
    "    lof3 = (5 - 2 * Q0 + 28 * t0 - 3 * math.pow(Q0, 2) + 8 * e1sq + 24 * math.pow(t0, 2)) * math.pow(dd0, 5) / 120\n",
    "    _a2 = (lof1 - lof2 + lof3) / math.cos(phi1)\n",
    "    _a3 = _a2 * 180 / math.pi\n",
    "\n",
    "    latitude = 180 * (phi1 - fact1 * (fact2 + fact3 + fact4)) / math.pi\n",
    "\n",
    "    if not northernHemisphere:\n",
    "        latitude = -latitude\n",
    "\n",
    "    longitude = ((zone > 0) and (6 * zone - 183.0) or 3.0) - _a3\n",
    "\n",
    "    return (latitude, longitude)\n",
    "\n",
    "\n"
   ]
  },
  {
   "cell_type": "code",
   "execution_count": null,
   "metadata": {
    "collapsed": false
   },
   "outputs": [],
   "source": [
    "name = 'ACCIDENTS_GU_BCN_' + str(2015) + str('.csv')\n",
    "print(name)\n",
    "allData = None\n",
    "try:\n",
    "   allData = pd.read_csv(name, encoding = \"utf8\", sep=';')\n",
    "except:\n",
    "    allData = pd.read_csv(name, encoding = \"ISO-8859-1\", sep=';')\n",
    "    \n",
    "allData[:3]"
   ]
  },
  {
   "cell_type": "code",
   "execution_count": null,
   "metadata": {
    "collapsed": false
   },
   "outputs": [],
   "source": [
    "#Barcelona zone = 31\n",
    "zone = 31\n",
    "coordX = allData.columns.size - 1\n",
    "coordY = allData.columns.size - 2\n",
    "colDeath = 18\n",
    "colMinor = 19\n",
    "colSerious = 20\n",
    "\n",
    "colDay = 14 \n",
    "colMonth = 12\n",
    "colYear = 11\n",
    "\n",
    "map = folium.Map(location=[41.388790,2.158990])\n",
    "\n",
    "html=\"add <b>popup</b> here\"\n",
    "iframe = folium.element.IFrame(html=html,width=100,height=100)\n",
    "poppin = folium.Popup(html=\"add <b>popup</b> here\")\n",
    "\n",
    "markerCluster = folium.MarkerCluster(\"Accidents\").add_to(map)\n",
    "clor = 'blue'\n",
    "i = 1\n",
    "\n",
    "for d in allData[:100].iterrows():\n",
    "    X = float(d[1][coordX].replace(',','.'))\n",
    "    Y = float(d[1][coordY].replace(',','.'))    \n",
    "    l = utmToLatLng(zone,X,Y)  \n",
    "    #icon=folium.Icon(icon='glyphicon-plus')\n",
    "    #icon=folium.Icon(color='black')\n",
    "    \n",
    "    \n",
    "    \n",
    "    if int(d[1][colDeath]) > 0:\n",
    "        clor = 'black'\n",
    "    elif int(d[1][colSerious]) > 0:\n",
    "        clor = 'red'\n",
    "    else:\n",
    "        clor = 'green'\n",
    "    \n",
    "    txtHtml = \"Dia: \"+ str(d[1][colDay]) + '/' + str(d[1][colMonth]) + '/' + str(d[1][colYear])\n",
    "    #txtHtml += '</br>' + \"here\"\n",
    "    \n",
    "    \n",
    "    poppin = folium.Popup(html=folium.element.IFrame(html=txtHtml,width=200,height=50))\n",
    "    folium.Marker([l[0],l[1]], icon=folium.Icon(icon='glyphicon-plus', color=clor),popup = poppin).add_to(markerCluster)\n",
    "    \n",
    "\n",
    "map"
   ]
  },
  {
   "cell_type": "code",
   "execution_count": null,
   "metadata": {
    "collapsed": true
   },
   "outputs": [],
   "source": [
    "map.save('mapFull2.html')"
   ]
  },
  {
   "cell_type": "code",
   "execution_count": null,
   "metadata": {
    "collapsed": false
   },
   "outputs": [],
   "source": []
  },
  {
   "cell_type": "code",
   "execution_count": null,
   "metadata": {
    "collapsed": true
   },
   "outputs": [],
   "source": []
  }
 ],
 "metadata": {
  "anaconda-cloud": {},
  "kernelspec": {
   "display_name": "Python [default]",
   "language": "python",
   "name": "python3"
  },
  "language_info": {
   "codemirror_mode": {
    "name": "ipython",
    "version": 3
   },
   "file_extension": ".py",
   "mimetype": "text/x-python",
   "name": "python",
   "nbconvert_exporter": "python",
   "pygments_lexer": "ipython3",
   "version": "3.5.2"
  }
 },
 "nbformat": 4,
 "nbformat_minor": 0
}
